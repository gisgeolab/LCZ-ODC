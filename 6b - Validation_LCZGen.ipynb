{
 "cells": [
  {
   "cell_type": "markdown",
   "id": "4855abfd-05fc-4705-9af1-229b72795ac1",
   "metadata": {
    "tags": []
   },
   "source": [
    "<div class=\"alert alert-info\">\n",
    "<u><strong>Authors:</strong></u> <b>Alberto Vavassori</b> (alberto.vavassori@polimi.it), <b>Emanuele Capizzi</b> (emanuele.capizzi@polimi.it) - DICA - Politecnico di Milano - GIS GEOLab <br>\n",
    "Developed within the LCZ-ODC project, funded by the Italian Space Agency (agreement n. 2022-30-HH.0).\n",
    "</div>"
   ]
  },
  {
   "cell_type": "markdown",
   "id": "9656c4a0-cec3-40d1-a79a-15926fc2733f",
   "metadata": {
    "tags": []
   },
   "source": [
    "# LCZ classification accuracy assessment\n",
    "\n",
    "<a id='TOC_TOP'></a>\n",
    "Notebook structure:  <br>\n",
    "\n",
    "[Part 1: Classification accuracy on testing samples](#sec1.0)\n",
    "\n",
    " 1. [Import testing samples](#sec1)  \n",
    " 2. [Rasterize testing samples](#sec2)\n",
    " 3. [Import the classified image to be assessed](#sec3)\n",
    " 4. [Assess classification accuracy on testing samples](#sec4)\n",
    " \n",
    "[Part 2: Inter-comparison with LCZ Generator product](#sec2.0)\n",
    "\n",
    " 5. [Accuracy of LCZ Generator product](#sec5)\n",
    " 6. [Extraction of samples for inter-comparison](#sec6)\n",
    " 7. [Computation of confusion matrix and consistency metrics](#sec7)\n",
    " \n",
    "<hr>"
   ]
  },
  {
   "cell_type": "markdown",
   "id": "1a04da65-b54a-4ade-a1b0-3196f07805a9",
   "metadata": {},
   "source": [
    "This Notebook is meant to verify the quality of the classification using testing samples. These samples consist of an external dataset that was not used within the classification step. The testing samples are always defined by the user and can be imported into this Notebook."
   ]
  },
  {
   "cell_type": "markdown",
   "id": "b0b49997-9f8f-4b95-a92b-66b0e5b35c9e",
   "metadata": {
    "tags": []
   },
   "source": [
    "### Import libraries"
   ]
  },
  {
   "cell_type": "markdown",
   "id": "dc262695-734b-4fdd-9870-ded7709edefd",
   "metadata": {},
   "source": [
    "<div class=\"alert alert-warning\" role=\"alert\">\n",
    "<span>&#9888;</span>\n",
    "Note: the Notebook relies on the <a href='https://gdal.org/' target='_blank'><em>gdal</em></a> Python library; make sure you have it installed in your environment.\n",
    "</div>"
   ]
  },
  {
   "cell_type": "code",
   "execution_count": null,
   "id": "4a1c5c67-31a3-4067-88bf-7830cbc3644d",
   "metadata": {
    "tags": []
   },
   "outputs": [],
   "source": [
    "import warnings\n",
    "warnings.filterwarnings(\"ignore\")\n",
    "\n",
    "import glob\n",
    "import geopandas as gpd\n",
    "import matplotlib\n",
    "import matplotlib.pyplot as plt\n",
    "import matplotlib.colors as colors\n",
    "import rasterio\n",
    "from rasterio.plot import show\n",
    "from rasterio.mask import mask\n",
    "from rasterio.windows import Window\n",
    "from rasterio.enums import Resampling\n",
    "import numpy as np\n",
    "import pandas as pd\n",
    "import seaborn as sns\n",
    "import ipywidgets as widgets\n",
    "from osgeo import gdal, ogr, gdalconst, gdal_array, osr\n",
    "from sklearn.metrics import accuracy_score, confusion_matrix, classification_report\n",
    "from shapely.geometry import box"
   ]
  },
  {
   "cell_type": "code",
   "execution_count": null,
   "id": "951322b5-4e4d-449e-9cff-0d6ad1819dde",
   "metadata": {
    "tags": []
   },
   "outputs": [],
   "source": [
    "# Import functions and set auto-reload\n",
    "from functions import *\n",
    "%load_ext autoreload\n",
    "%autoreload 2"
   ]
  },
  {
   "cell_type": "markdown",
   "id": "d43f7251-18e6-48ae-b939-91c91a9b1dac",
   "metadata": {},
   "source": [
    "<div class=\"alert alert-success\">\n",
    "\n",
    "# <a id='sec1.0'></a> Part 1: Classification accuracy on testing samples\n",
    "<a id='sec2'></a>\n",
    "[Back to top](#TOC_TOP)\n",
    "\n",
    "</div>"
   ]
  },
  {
   "cell_type": "markdown",
   "id": "379d6052-2d61-4133-8844-30544712f59c",
   "metadata": {
    "tags": []
   },
   "source": [
    "## 1. <a id='sec1'></a> Import testing samples\n",
    "[Back to top](#TOC_TOP)"
   ]
  },
  {
   "cell_type": "markdown",
   "id": "ed49bc38-ad56-41e8-b442-2c55749abf63",
   "metadata": {},
   "source": [
    "First, select the PRISMA image date:"
   ]
  },
  {
   "cell_type": "code",
   "execution_count": null,
   "id": "6f9d5b77-2919-4c7f-a4f6-041362ee60e7",
   "metadata": {
    "tags": []
   },
   "outputs": [],
   "source": [
    "date_prisma_w = widgets.Dropdown(\n",
    "    options=['2023-02-09', '2023-03-22', '2023-04-08', '2023-06-17', '2023-07-10', '2023-08-08'],\n",
    "    value='2023-02-09',\n",
    "    description='PRISMA date:',\n",
    "    disabled=False,\n",
    "    layout={'width': 'max-content'},\n",
    "    style = {'description_width': 'initial'}\n",
    ")\n",
    "date_prisma_w"
   ]
  },
  {
   "cell_type": "code",
   "execution_count": null,
   "id": "cde817e6-b9ba-4c57-a070-63a542bd3a65",
   "metadata": {
    "tags": []
   },
   "outputs": [],
   "source": [
    "sel_prisma_date = date_prisma_w.value\n",
    "selected_prisma_image = 'PRISMA_outputs/coregistered/PR_'+ sel_prisma_date.replace('-', '') + '_30m.tif'\n",
    "print(f\"The selected date is --> PRISMA: {sel_prisma_date}.\")"
   ]
  },
  {
   "cell_type": "markdown",
   "id": "8a17155a-b39a-495b-9c40-e7f472d946a3",
   "metadata": {},
   "source": [
    "Set the legend that will be used henceforth for the plots:"
   ]
  },
  {
   "cell_type": "code",
   "execution_count": null,
   "id": "06e73544-d0ed-473a-ab01-d862e592f504",
   "metadata": {
    "tags": []
   },
   "outputs": [],
   "source": [
    "legend = {\n",
    "    2: ['Compact mid-rise', '#D10000'],\n",
    "    3: ['Compact low-rise', '#CD0000'],\n",
    "    5: ['Open mid-rise', '#FF6600'],\n",
    "    6: ['Open low-rise', '#FF9955'],\n",
    "    8: ['Large low-rise', '#BCBCBC'],\n",
    "    101: ['Dense trees', '#006A00'],\n",
    "    102: ['Scattered trees', '#00AA00'],\n",
    "    104: ['Low plants', '#B9DB79'],\n",
    "    105: ['Bare rock or paved', '#545454'],\n",
    "    106: ['Bare soil or sand', '#FBF7AF'],\n",
    "    107: ['Water', '#6A6AFF']\n",
    "}"
   ]
  },
  {
   "cell_type": "markdown",
   "id": "bd354c67-f882-4328-9b1e-8837f4005943",
   "metadata": {},
   "source": [
    "The following function displays the testing samples on a map."
   ]
  },
  {
   "cell_type": "code",
   "execution_count": null,
   "id": "3e56d8df-147f-423b-8271-651ab0521f85",
   "metadata": {
    "tags": []
   },
   "outputs": [],
   "source": [
    "testing_folder = './layers/testing_samples/testing_set_' + sel_prisma_date.replace('-', '') + '.gpkg'\n",
    "cmm_folder = './layers/CMM.gpkg'"
   ]
  },
  {
   "cell_type": "code",
   "execution_count": null,
   "id": "dc9ea226-9736-477d-8981-84bc43e1a8ef",
   "metadata": {
    "tags": []
   },
   "outputs": [],
   "source": [
    "testing, m, shapes = plot_training_samples(testing_folder, cmm_folder, legend)"
   ]
  },
  {
   "cell_type": "code",
   "execution_count": null,
   "id": "ff8c6abc-eb82-4680-b0a1-27f52a874dee",
   "metadata": {
    "tags": []
   },
   "outputs": [],
   "source": [
    "m"
   ]
  },
  {
   "cell_type": "markdown",
   "id": "cbeb65ca-5c9f-4b37-b9d4-d504e5c457f7",
   "metadata": {},
   "source": [
    "The following function imports the testing samples and computes the area of each LCZ class. The function outputs a plot with the total area of each LCZ class as well as the path to the vector layer that will be used in the following."
   ]
  },
  {
   "cell_type": "markdown",
   "id": "c3b1ce2a-90e6-453c-a6b2-b9936babcd73",
   "metadata": {},
   "source": [
    "<div class=\"alert alert-warning\" role=\"alert\">\n",
    "<span>&#9888;</span>\n",
    "<a id='warning'></a> \n",
    "\n",
    "**Note**:\n",
    "Testing samples must be stored in `.gpkg` format as vector multi-polygons, and the file must contain a column `LCZ` with integer values corresponding to the LCZ class, as reported in the dictionary `legend`."
   ]
  },
  {
   "cell_type": "markdown",
   "id": "3769b87b-7265-4d69-abda-560ca1a76df2",
   "metadata": {},
   "source": [
    "</div>\n",
    "<div class=\"alert alert-warning\" role=\"alert\">\n",
    "<span>&#9888;</span>\n",
    "<a id='warning'></a> Testing samples are time-dependent, especially for the natural classes; they must be updated if there are changes (e.g. in the land cover).  The following function imports the training samples specific to the selected PRISMA acquisition date.\n",
    "</div>"
   ]
  },
  {
   "cell_type": "code",
   "execution_count": null,
   "id": "df579028-f388-4287-b083-c767461f8759",
   "metadata": {
    "tags": []
   },
   "outputs": [],
   "source": [
    "vector_LCZ_path = testing_area(sel_prisma_date, legend)"
   ]
  },
  {
   "cell_type": "markdown",
   "id": "6fc3b2e3-3a95-4456-83bf-efd887b8e2de",
   "metadata": {
    "tags": []
   },
   "source": [
    "## 2. <a id='sec2'></a>Rasterize testing samples\n",
    "[Back to top](#TOC_TOP)"
   ]
  },
  {
   "cell_type": "markdown",
   "id": "b57aef21-af9a-4c95-b46a-d60daa961dd5",
   "metadata": {},
   "source": [
    "</div>\n",
    "<div class=\"alert alert-warning\" role=\"alert\">\n",
    "<span>&#9888;</span>\n",
    "<a id='warning'></a> If testing samples are already rasterized, skip this section and go to the next one.\n",
    "</div>"
   ]
  },
  {
   "cell_type": "markdown",
   "id": "f590ffa6-2b88-40f2-9a82-10142de97387",
   "metadata": {},
   "source": [
    "It is necessary to convert the testing set (provided in vector format as Geopackage) in raster format using the following functions."
   ]
  },
  {
   "cell_type": "code",
   "execution_count": null,
   "id": "60d58c7d-f3ba-445f-b427-cbb909890635",
   "metadata": {
    "tags": []
   },
   "outputs": [],
   "source": [
    "raster_reference = 'layers/lcz_generator/comparison_'+ sel_prisma_date.replace('-', '') + '/lcz_generator_map_' + sel_prisma_date.replace('-', '') + '_10m_align_medianfilter9_reclass_clip.tif'\n",
    "output = './layers/testing_samples/testing_set_'+ sel_prisma_date.replace('-', '') + '_10m.tif'\n",
    "attribute = 'LCZ'\n",
    "projection = 32632"
   ]
  },
  {
   "cell_type": "code",
   "execution_count": null,
   "id": "61a55cd6-d0d1-4c56-b5b3-357dfbf4c0fb",
   "metadata": {
    "tags": []
   },
   "outputs": [],
   "source": [
    "rasterized_result = rasterize_training(raster_reference, vector_LCZ_path, output, attribute, projection)"
   ]
  },
  {
   "cell_type": "code",
   "execution_count": null,
   "id": "e85022c9-a147-418a-ac04-ff44c3834d8c",
   "metadata": {
    "tags": []
   },
   "outputs": [],
   "source": [
    "#plot_raster_training(output, legend)"
   ]
  },
  {
   "cell_type": "code",
   "execution_count": null,
   "id": "e56b7f24-22e6-49b8-835c-40eedb559be2",
   "metadata": {
    "tags": []
   },
   "outputs": [],
   "source": [
    "bbox = prisma_bbox(selected_prisma_image, sel_prisma_date)"
   ]
  },
  {
   "cell_type": "code",
   "execution_count": null,
   "id": "6ddf9b37-0e3b-4270-b4de-d9753fa3a12f",
   "metadata": {
    "tags": []
   },
   "outputs": [],
   "source": [
    "mask_prisma = mask_prisma_image(selected_prisma_image)"
   ]
  },
  {
   "cell_type": "code",
   "execution_count": null,
   "id": "7df2bcb7-ced9-4311-9df3-22ac3e28d304",
   "metadata": {
    "tags": []
   },
   "outputs": [],
   "source": [
    "study_area = gpd.read_file(bbox)"
   ]
  },
  {
   "cell_type": "code",
   "execution_count": null,
   "id": "8e3fb42f-c325-48fc-9d2b-60b6b3b21ca0",
   "metadata": {
    "tags": []
   },
   "outputs": [],
   "source": [
    "roi_ds = './layers/testing_samples/testing_set_'+ sel_prisma_date.replace('-', '')+'_10m.tif'\n",
    "roi_new_path = './layers/testing_samples/testing_set_'+ sel_prisma_date.replace('-', '')+'_10m.tif'\n",
    "clip_image_study_area(roi_ds, roi_new_path, study_area)"
   ]
  },
  {
   "cell_type": "markdown",
   "id": "58ee727c-4ecf-4ef6-bda5-231c110ab764",
   "metadata": {
    "tags": []
   },
   "source": [
    "## 3. <a id='sec3'></a>Import the classified image to be assessed\n",
    "[Back to top](#TOC_TOP)"
   ]
  },
  {
   "cell_type": "markdown",
   "id": "a87f51df-7224-482a-bbe3-729ba55feddd",
   "metadata": {},
   "source": [
    "Select the method used for classification to chose the image that want to be tested:"
   ]
  },
  {
   "cell_type": "code",
   "execution_count": null,
   "id": "47a4135d-0537-4135-8ae0-caf847eec338",
   "metadata": {
    "tags": []
   },
   "outputs": [],
   "source": [
    "classification_method = 'RandomForest'\n",
    "classified_image_path = 'layers/lcz_generator/comparison_'+ sel_prisma_date.replace('-', '') + '/lcz_generator_map_' + sel_prisma_date.replace('-', '') + '_10m_align_medianfilter9_reclass_clip.tif'\n",
    "classified_image = rasterio.open(classified_image_path)\n",
    "classified_image = classified_image.read()\n",
    "print(f\"Selected image shape: {classified_image.shape}\")"
   ]
  },
  {
   "cell_type": "code",
   "execution_count": null,
   "id": "ee2d6b4d-8abd-4308-8785-bc567d86b12a",
   "metadata": {
    "tags": []
   },
   "outputs": [],
   "source": [
    "plot_classified_image(sel_prisma_date, classified_image, classification_method, legend)"
   ]
  },
  {
   "cell_type": "markdown",
   "id": "e182b231-83d8-4dc0-a0ff-b15e2ff65099",
   "metadata": {
    "tags": []
   },
   "source": [
    "## 4. <a id='sec4'></a>Assess classification accuracy on testing samples\n",
    "[Back to top](#TOC_TOP)"
   ]
  },
  {
   "cell_type": "markdown",
   "id": "c799b5a2-178a-4ead-9b01-44ae6c981c4a",
   "metadata": {},
   "source": [
    "In this section, some accuracy metrics are computed on the testing samples, specifically:\n",
    "* accuracy: overall accuracy of the model, i.e. the fraction of the total samples that were correctly classified\n",
    "\n",
    "$$ \\frac{TP+TN}{TP+TN+FP+FN} $$\n",
    "\n",
    "* precision: fraction of predictions as a positive class were actually positive\n",
    "\n",
    "$$ \\frac{TP}{TP+FP} $$\n",
    "\n",
    "* recall: fraction of all positive samples that are correctly predicted as positive\n",
    "\n",
    "$$ \\frac{TP}{TP+FN} $$\n",
    "\n",
    "* f1-score: combination of precision and recall; mathematically it is the harmonic mean of precision and recall\n",
    "\n",
    "$$\\frac{2(precision*recall)}{precision+recall}$$\n",
    "\n",
    "* support: number of occurrences of each class in the testing sample."
   ]
  },
  {
   "cell_type": "code",
   "execution_count": null,
   "id": "676f3667-ea34-4795-be3c-820a5e00d202",
   "metadata": {
    "tags": []
   },
   "outputs": [],
   "source": [
    "accuracy, confusion, report, report_df = print_accuracy_lczgenerator(classified_image_path, sel_prisma_date, legend)"
   ]
  },
  {
   "cell_type": "code",
   "execution_count": null,
   "id": "1112d2a0-aea0-4f69-ba09-39b541b732e3",
   "metadata": {
    "tags": []
   },
   "outputs": [],
   "source": [
    "confusion"
   ]
  },
  {
   "cell_type": "code",
   "execution_count": null,
   "id": "2cbd37a4-e9b4-4bb8-92ce-309f48e1139e",
   "metadata": {
    "tags": []
   },
   "outputs": [],
   "source": [
    "report_df"
   ]
  },
  {
   "cell_type": "code",
   "execution_count": null,
   "id": "94558a9c-7581-4e09-b9a5-5ff79b7da157",
   "metadata": {},
   "outputs": [],
   "source": []
  },
  {
   "cell_type": "code",
   "execution_count": null,
   "id": "b361ca00-91af-464c-999f-39204fb8378d",
   "metadata": {},
   "outputs": [],
   "source": []
  },
  {
   "cell_type": "code",
   "execution_count": null,
   "id": "727bca8f-091e-4f0b-8c4c-a252af4c4746",
   "metadata": {},
   "outputs": [],
   "source": []
  },
  {
   "cell_type": "code",
   "execution_count": null,
   "id": "5167887e-72c8-41eb-aafd-e1867d040b6d",
   "metadata": {
    "tags": []
   },
   "outputs": [],
   "source": [
    "classi = [\"Compact Mid-rise\",\"Compact Low-rise\",\"Open Mid-rise\",\"Open Low-rise\",\"Large Low-rise\",\n",
    "          \"Dense trees\",\"Scattered trees\",\"Low plants\",\"Bare rock or paved\",\"Bare soil or sand\",\"Water\"]\n",
    "\n",
    "accur_lczgen_9feb = np.array([[9685, 1475,  784,    0,   72,    0,    0,    0,   73,    0,    0],\n",
    "       [1272, 6292,  394, 1466,  193,    0,    0,    0,    3,    0,    0],\n",
    "       [1505,  922, 6765, 1092,   27,    0,   15,    0,   41,    0,    0],\n",
    "       [  95, 1385, 2110, 6732,    2,    0,   68,    2,    0,    0,    0],\n",
    "       [   0,  585,   66,  160, 8933,    0,    0,    0,  100,  674,    0],\n",
    "       [   0,    0,   47,    4,    7, 8297, 2047,   39,    0,    0,    0],\n",
    "       [   0,    0,   55,  591,   44, 1172, 8601,  293,  266,   55,   67],\n",
    "       [   0,    0,    0,   55,    0,    0,  397, 8608,    0, 1859,    0],\n",
    "       [   0,   26,    0,  529,   53,    4,   56,  545, 1423,  105,    0],\n",
    "       [   0,    0,    0,    3,   69,    4,   59, 2455, 1195, 7363,    0],\n",
    "       [   0,    0,    0,    3,    0,    0,    0,    4,   41,    7, 5788]])\n",
    "accur_lczgen_9feb = accur_lczgen_9feb / np.sum(accur_lczgen_9feb)*100\n",
    "\n",
    "accur_lczgen_17jun = np.array([[ 9872,1223,840,43,34,0,0,0,    77,0,     0],\n",
    "       [  925,  6083,   521,  1733,   306,     0,     7,     0,    45,0,     0],\n",
    "       [ 1551,   925,  6981,   873,    33,     0,     4,     0,     0,0,     0],\n",
    "       [   70,  1456,  1962,  6825,     0,     0,    81,     0,     0,0,     0],\n",
    "       [   13,   535,    56,   261,  8408,   100,   143,   393,   215,2245,     0],\n",
    "       [    0,     0,    47,     4,     0,  5365,  2227,    11,     0,9,     0],\n",
    "       [    0,     0,     0,   463,    55,  1328,  8530,   281,   270,194,    23],\n",
    "       [    0,     0,     0,     3,     0,     9,   517, 13946,  1252,329,     0],\n",
    "       [   16,    41,    16,   283,     1,     4,    93,   588,  1653,46,     0],\n",
    "       [    0,    12,     0,   230,   319,     0,   399,  7378,    90,4029,     0],\n",
    "       [    0,     0,     2,     1,     0,     0,     5,     1,    38,18,  5778]])\n",
    "accur_lczgen_17jun = accur_lczgen_17jun / np.sum(accur_lczgen_17jun)*100\n",
    "\n",
    "accur_lczgen_8aug = np.array([[11850,     8,   224,     7,     0,     0,     0,     0,     0,0,     0],\n",
    "       [  156,  7367,   323,   198,   135,     0,     0,     0,     0,0,     0],\n",
    "       [  105,    11, 10192,    19,    14,    20,     6,     0,     0,0,     0],\n",
    "       [   20,   119,   335,  8145,     0,   101,    16,     0,     0,0,     0],\n",
    "       [    8,    63,    67,    56, 10324,     0,     0,     0,     0,0,     0],\n",
    "       [    0,     0,    13,     0,     3,  4840,   131,     0,     0,0,     0],\n",
    "       [    0,    10,    53,     8,    56,   428, 10993,   106,    48,0,     6],\n",
    "       [    0,     0,     0,     6,     0,     0,  2617, 17205,     0,1500,     0],\n",
    "       [ 2732,   410,   450,    20,   334,     0,    89,   596,   718,29,     0],\n",
    "       [    0,    36,     4,     0,   256,     0,  1249,  3233,     0,5308,     0],\n",
    "       [    0,     0,     0,     0,     0,     0,    48,    38,     2,0,  4548]])\n",
    "accur_lczgen_8aug = accur_lczgen_8aug / np.sum(accur_lczgen_8aug)*100"
   ]
  },
  {
   "cell_type": "code",
   "execution_count": null,
   "id": "8e013ca4-1fe3-4c31-ae23-8e624442fc70",
   "metadata": {
    "tags": []
   },
   "outputs": [],
   "source": [
    "from string import ascii_letters\n",
    "import numpy as np\n",
    "import pandas as pd\n",
    "import seaborn as sns\n",
    "import matplotlib.pyplot as plt\n",
    "\n",
    "sns.set_theme(style=\"white\")\n",
    "\n",
    "# Create a DataFrame from the matrix\n",
    "accuracy_prisma = pd.DataFrame(data = accur_lczgen_9feb)\n",
    "\n",
    "# Generate a mask for the upper triangle\n",
    "\n",
    "# Set up the matplotlib figure\n",
    "f, ax1 = plt.subplots(figsize=(10, 10))\n",
    "plt.tight_layout()\n",
    "\n",
    "#cbar_ax = f.add_axes([0.25, 0.01, 0.5, 0.02])  # Adjust the position and size as needed\n",
    "\n",
    "# Generate a custom diverging colormap\n",
    "#cmap = sns.diverging_palette(230, 20, as_cmap=True)\n",
    "cmap = 'Greens'\n",
    "# Draw the heatmap with the mask and correct aspect ratio\n",
    "sns.heatmap(accur_lczgen_9feb, ax = ax1, cmap=cmap, vmin = 0, vmax = 14,\n",
    "            square=True, linewidths=.5, cbar_kws={\"shrink\": .5, \"use_gridspec\": True}, #, \"orientation\": \"horizontal\"\n",
    "            annot=True, fmt=\".1f\", annot_kws={\"fontsize\": 13, \"color\": 'black'}) #, cbar_ax = cbar_ax\n",
    "\n",
    "# Set x and y ticks\n",
    "ax1.set_xticks(np.arange(len(classi)) + 0.5)\n",
    "ax1.set_yticks(np.arange(len(classi)) + 0.5)\n",
    "ax1.set_ylabel(\"Testing samples\", fontsize = 15)\n",
    "ax1.set_xlabel(\"LCZ Generator map\", fontsize = 15)\n",
    "\n",
    "# Set x and y tick labels\n",
    "ax1.set_xticklabels(classi, rotation = 90, ha = \"right\", fontsize = 15)\n",
    "ax1.set_yticklabels(classi, rotation = 0, va = \"center\", fontsize = 15)\n",
    "ax1.set_title('Confusion matrix computed from testing samples\\nLCZ Generator', fontweight = 'bold', fontsize = 15)\n",
    "\n",
    "plt.subplots_adjust(left = 0.30, right = 0.9, bottom = 0.2, top = 0.9)\n",
    "plt.savefig('classified_images/accuracy_LCZgen_feb_test_samples.png', dpi = 300)\n",
    "plt.show()"
   ]
  },
  {
   "cell_type": "code",
   "execution_count": null,
   "id": "8b7304ec-c731-4bdc-9ec0-bcd863e4982c",
   "metadata": {
    "tags": []
   },
   "outputs": [],
   "source": [
    "from string import ascii_letters\n",
    "import numpy as np\n",
    "import pandas as pd\n",
    "import seaborn as sns\n",
    "import matplotlib.pyplot as plt\n",
    "\n",
    "sns.set_theme(style=\"white\")\n",
    "\n",
    "# Create a DataFrame from the matrix\n",
    "accuracy_prisma = pd.DataFrame(data = accur_lczgen_17jun)\n",
    "\n",
    "# Generate a mask for the upper triangle\n",
    "\n",
    "# Set up the matplotlib figure\n",
    "f, ax1 = plt.subplots(figsize=(10, 10))\n",
    "plt.tight_layout()\n",
    "\n",
    "#cbar_ax = f.add_axes([0.25, 0.01, 0.5, 0.02])  # Adjust the position and size as needed\n",
    "\n",
    "# Generate a custom diverging colormap\n",
    "#cmap = sns.diverging_palette(230, 20, as_cmap=True)\n",
    "cmap = 'Greens'\n",
    "# Draw the heatmap with the mask and correct aspect ratio\n",
    "sns.heatmap(accur_lczgen_17jun, ax = ax1, cmap=cmap, vmin = 0, vmax = 14,\n",
    "            square=True, linewidths=.5, cbar_kws={\"shrink\": .5, \"use_gridspec\": True}, #, \"orientation\": \"horizontal\"\n",
    "            annot=True, fmt=\".1f\", annot_kws={\"fontsize\": 13, \"color\": 'black'}) #, cbar_ax = cbar_ax\n",
    "\n",
    "# Set x and y ticks\n",
    "ax1.set_xticks(np.arange(len(classi)) + 0.5)\n",
    "ax1.set_yticks(np.arange(len(classi)) + 0.5)\n",
    "ax1.set_ylabel(\"Testing samples\", fontsize = 15)\n",
    "ax1.set_xlabel(\"LCZ Generator map\", fontsize = 15)\n",
    "\n",
    "# Set x and y tick labels\n",
    "ax1.set_xticklabels(classi, rotation = 90, ha = \"right\", fontsize = 15)\n",
    "ax1.set_yticklabels(classi, rotation = 0, va = \"center\", fontsize = 15)\n",
    "ax1.set_title('Confusion matrix computed from testing samples\\nLCZ Generator', fontweight = 'bold', fontsize = 15)\n",
    "\n",
    "plt.subplots_adjust(left = 0.30, right = 0.9, bottom = 0.2, top = 0.9)\n",
    "plt.savefig('classified_images/accuracy_LCZgen_jun_test_samples.png', dpi = 300)\n",
    "plt.show()"
   ]
  },
  {
   "cell_type": "code",
   "execution_count": null,
   "id": "ff3ab012-0708-4f8c-81e7-f46e8b22bb35",
   "metadata": {},
   "outputs": [],
   "source": []
  }
 ],
 "metadata": {
  "kernelspec": {
   "display_name": "Python 3 (ipykernel)",
   "language": "python",
   "name": "python3"
  },
  "language_info": {
   "codemirror_mode": {
    "name": "ipython",
    "version": 3
   },
   "file_extension": ".py",
   "mimetype": "text/x-python",
   "name": "python",
   "nbconvert_exporter": "python",
   "pygments_lexer": "ipython3",
   "version": "3.10.10"
  }
 },
 "nbformat": 4,
 "nbformat_minor": 5
}
