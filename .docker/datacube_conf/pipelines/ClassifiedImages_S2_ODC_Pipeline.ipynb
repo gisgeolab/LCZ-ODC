{
 "cells": [
  {
   "cell_type": "markdown",
   "id": "69184d04",
   "metadata": {},
   "source": [
    "# Import Libraries"
   ]
  },
  {
   "cell_type": "code",
   "execution_count": 40,
   "id": "5fd9b929",
   "metadata": {},
   "outputs": [],
   "source": [
    "import pandas as pd\n",
    "import numpy as np\n",
    "import geopandas as gpd\n",
    "import requests\n",
    "from shapely.ops import nearest_points\n",
    "import matplotlib.pyplot as plt\n",
    "import matplotlib.figure\n",
    "import fiona.crs\n",
    "from mpl_toolkits.axes_grid1 import make_axes_locatable\n",
    "import matplotlib.colors as colors\n",
    "import xarray as xr\n",
    "import time\n",
    "import yaml\n",
    "import uuid\n",
    "import os\n",
    "from glob import iglob # data access in file manager\n",
    "import rasterio\n",
    "from os.path import join # same\n",
    "import plotly.graph_objects as go\n",
    "import rioxarray as rio\n",
    "\n",
    "#Hide Warnings\n",
    "import warnings\n",
    "warnings.filterwarnings('ignore')\n",
    "\n",
    "#Progress bar\n",
    "import ipywidgets as widgets\n",
    "from termcolor import colored # Print colored text"
   ]
  },
  {
   "cell_type": "code",
   "execution_count": 41,
   "id": "199965ba",
   "metadata": {},
   "outputs": [
    {
     "data": {
      "text/plain": [
       "['/home/asi/data/classified_image_Sentinel-2/classified_RandomForest_20230210_medianfilter_20m_align_S2_masked.tif',\n",
       " '/home/asi/data/classified_image_Sentinel-2/classified_RandomForest_20230322_medianfilter_20m_align_S2_masked.tif',\n",
       " '/home/asi/data/classified_image_Sentinel-2/classified_RandomForest_20230426_medianfilter_20m_align_S2_masked.tif',\n",
       " '/home/asi/data/classified_image_Sentinel-2/classified_RandomForest_20230625_medianfilter_20m_align_S2_masked.tif',\n",
       " '/home/asi/data/classified_image_Sentinel-2/classified_RandomForest_20230710_medianfilter_20m_align_S2_masked.tif',\n",
       " '/home/asi/data/classified_image_Sentinel-2/classified_RandomForest_20230819_medianfilter_20m_align_S2_masked.tif']"
      ]
     },
     "execution_count": 41,
     "metadata": {},
     "output_type": "execute_result"
    }
   ],
   "source": [
    "file_basepath = '/home/asi/datacube_conf/data/classified_image_S2'\n",
    "#search inside sub folders\n",
    "list_files = sorted(list(iglob(join(file_basepath, '*.tif*'), recursive=True)))\n",
    "#without searching inside sub folders\n",
    "#list_files = sorted(list(iglob(join(files_to_move, '*.tif'), recursive=True)))\n",
    "list_files"
   ]
  },
  {
   "cell_type": "code",
   "execution_count": 42,
   "id": "e010749a",
   "metadata": {},
   "outputs": [
    {
     "name": "stdout",
     "output_type": "stream",
     "text": [
      "['classified_20230210', 'classified_20230322', 'classified_20230426', 'classified_20230625', 'classified_20230710', 'classified_20230819']\n"
     ]
    }
   ],
   "source": [
    "file_names = []\n",
    "for path in list_files:\n",
    "    # Extract the last portion after the last slash (/)\n",
    "    file_name = path.split('/')[-1]\n",
    "    file_name = file_name.replace('_RandomForest', '')\n",
    "    file_name = file_name.replace('_medianfilter_20m_align_S2_masked.tif', '')\n",
    "    file_names.append(file_name)\n",
    "print(file_names)"
   ]
  },
  {
   "cell_type": "code",
   "execution_count": 43,
   "id": "10cf6737",
   "metadata": {},
   "outputs": [
    {
     "data": {
      "text/plain": [
       "{'classified_20230210': '/home/asi/data/classified_image_Sentinel-2/classified_RandomForest_20230210_medianfilter_20m_align_S2_masked.tif',\n",
       " 'classified_20230322': '/home/asi/data/classified_image_Sentinel-2/classified_RandomForest_20230322_medianfilter_20m_align_S2_masked.tif',\n",
       " 'classified_20230426': '/home/asi/data/classified_image_Sentinel-2/classified_RandomForest_20230426_medianfilter_20m_align_S2_masked.tif',\n",
       " 'classified_20230625': '/home/asi/data/classified_image_Sentinel-2/classified_RandomForest_20230625_medianfilter_20m_align_S2_masked.tif',\n",
       " 'classified_20230710': '/home/asi/data/classified_image_Sentinel-2/classified_RandomForest_20230710_medianfilter_20m_align_S2_masked.tif',\n",
       " 'classified_20230819': '/home/asi/data/classified_image_Sentinel-2/classified_RandomForest_20230819_medianfilter_20m_align_S2_masked.tif'}"
      ]
     },
     "execution_count": 43,
     "metadata": {},
     "output_type": "execute_result"
    }
   ],
   "source": [
    "file_dict = {}\n",
    "for key in file_names:\n",
    "    for value in list_files:\n",
    "        file_dict[key] = value\n",
    "        list_files.remove(value)\n",
    "        break\n",
    "file_dict"
   ]
  },
  {
   "cell_type": "code",
   "execution_count": 44,
   "id": "43182885",
   "metadata": {},
   "outputs": [
    {
     "data": {
      "text/plain": [
       "'classified_20230210'"
      ]
     },
     "execution_count": 44,
     "metadata": {},
     "output_type": "execute_result"
    }
   ],
   "source": [
    "def get_key_from_value(dictionary, target_value):\n",
    "    matching_keys = [key for key, value in dictionary.items() if value == target_value]\n",
    "    return matching_keys[0] if matching_keys else None\n",
    "\n",
    "key = get_key_from_value(file_dict, '/home/asi/datacube_conf/data/classified_image_Sentinel-2/classified_RandomForest_20230210_medianfilter_20m_align_S2_masked.tif')\n",
    "key"
   ]
  },
  {
   "cell_type": "code",
   "execution_count": 45,
   "id": "d7253cec",
   "metadata": {},
   "outputs": [
    {
     "data": {
      "text/plain": [
       "['/home/asi/data/classified_image_Sentinel-2/classified_RandomForest_20230210_medianfilter_20m_align_S2_masked.tif',\n",
       " '/home/asi/data/classified_image_Sentinel-2/classified_RandomForest_20230322_medianfilter_20m_align_S2_masked.tif',\n",
       " '/home/asi/data/classified_image_Sentinel-2/classified_RandomForest_20230426_medianfilter_20m_align_S2_masked.tif',\n",
       " '/home/asi/data/classified_image_Sentinel-2/classified_RandomForest_20230625_medianfilter_20m_align_S2_masked.tif',\n",
       " '/home/asi/data/classified_image_Sentinel-2/classified_RandomForest_20230710_medianfilter_20m_align_S2_masked.tif',\n",
       " '/home/asi/data/classified_image_Sentinel-2/classified_RandomForest_20230819_medianfilter_20m_align_S2_masked.tif']"
      ]
     },
     "execution_count": 45,
     "metadata": {},
     "output_type": "execute_result"
    }
   ],
   "source": [
    "list_files = sorted(list(iglob(join(file_basepath, '*.tif*'), recursive=True)))\n",
    "list_files"
   ]
  },
  {
   "cell_type": "markdown",
   "id": "a88e5fcf",
   "metadata": {},
   "source": [
    "# Generate product measurements list"
   ]
  },
  {
   "cell_type": "code",
   "execution_count": 46,
   "id": "4fbbbf84",
   "metadata": {},
   "outputs": [
    {
     "data": {
      "application/vnd.jupyter.widget-view+json": {
       "model_id": "092da75989f1496f8c38c17cdf06d710",
       "version_major": 2,
       "version_minor": 0
      },
      "text/plain": [
       "IntProgress(value=0, bar_style='info', description='Sentinel-2 Processing images', max=1)"
      ]
     },
     "metadata": {},
     "output_type": "display_data"
    },
    {
     "name": "stderr",
     "output_type": "stream",
     "text": [
      "/opt/conda/envs/odc_env/lib/python3.8/site-packages/datacube/utils/documents.py:216: DeprecationWarning: jsonschema.RefResolver is deprecated as of v4.18.0, in favor of the https://github.com/python-jsonschema/referencing library, which provides more compliant referencing behavior as well as more flexible APIs for customization. A future release will remove RefResolver. Please file a feature request (on referencing) if you are missing an API for the kind of customization you need.\n",
      "  ref_resolver = jsonschema.RefResolver.from_schema(\n",
      "/opt/conda/envs/odc_env/lib/python3.8/site-packages/datacube/utils/documents.py:216: DeprecationWarning: jsonschema.RefResolver is deprecated as of v4.18.0, in favor of the https://github.com/python-jsonschema/referencing library, which provides more compliant referencing behavior as well as more flexible APIs for customization. A future release will remove RefResolver. Please file a feature request (on referencing) if you are missing an API for the kind of customization you need.\n",
      "  ref_resolver = jsonschema.RefResolver.from_schema(\n",
      "2024-01-25 14:24:49,172 868 datacube.index.postgres._products WARNING No changes detected for product Sentinel2_classified_images\n"
     ]
    },
    {
     "name": "stdout",
     "output_type": "stream",
     "text": [
      "Updated \"Sentinel2_classified_images\"\n",
      "\u001b[32mAll classified images products have been updated into the ODC\u001b[0m\n"
     ]
    }
   ],
   "source": [
    "f = widgets.IntProgress(min=0, max=1, description='Sentinel-2 Processing images', bar_style='info')\n",
    "display(f)\n",
    "p_name = \"Sentinel2_classified_images\"\n",
    "text_p0 = \"\"\"name: \"\"\" + p_name + \"\"\"\n",
    "description: Sentinel-2 Classified images using scikit-learn Random Forest Classified\n",
    "metadata_type: eo3\n",
    "\n",
    "metadata:\n",
    "    product:\n",
    "        name: \"\"\" + p_name + \"\"\"\n",
    "        format: GeoTIFF\n",
    "\n",
    "storage:\n",
    "    crs: EPSG:32632\n",
    "    dimension_order: [time, x, y]\n",
    "    resolution: \n",
    "        x: 20 \n",
    "        y: -20\"\"\"\n",
    "\n",
    "file = list_files[0]\n",
    "date_uuid = file[file.find('202'):file.find('202')+8]\n",
    "src = rasterio.open(file) \n",
    "xmin,ymin,xmax,ymax = src.bounds\n",
    "affine = src.transform\n",
    "shape = src.shape\n",
    "text_p2_1 = \"\"\"\"\"\"\n",
    "text_p2 = \"\"\"\"\"\"\n",
    "text_p1 = (\"\"\"\n",
    "\n",
    "measurements:\"\"\")\n",
    "\"\"\"\"\"\"\n",
    "\n",
    "text_p2_1 = \"\"\"\n",
    "    - name: band\n",
    "      dtype: float32\n",
    "      nodata: NaN\n",
    "      units: ''\n",
    "    \"\"\"\n",
    "text_p2 = text_p2 + text_p2_1\n",
    "text_p3 = text_p0 + text_p1 + text_p2\n",
    "yaml_text = open('/home/asi/datacube_conf/'+p_name+'.yaml', \"wt\")\n",
    "yaml_text.write(text_p3)\n",
    "yaml_text.close()\n",
    "os.system(\"\"\"cd /home/asi/datacube_conf; \n",
    "datacube product add /home/asi/datacube_conf/\"\"\"+p_name+\"\"\".yaml\"\"\")\n",
    "#os.system(\"\"\"cd /home/asi/datacube_conf; \n",
    "#datacube product update --allow-unsafe /home/asi/datacube_conf/\"\"\"+p_name+\"\"\".yaml\"\"\")\n",
    "f.value += 1\n",
    "        \n",
    "print(colored('All classified images products have been updated into the ODC','green'))"
   ]
  },
  {
   "cell_type": "markdown",
   "id": "0e1f720f",
   "metadata": {},
   "source": [
    "## Generate and Register Dataset \n"
   ]
  },
  {
   "cell_type": "code",
   "execution_count": 48,
   "id": "744af617",
   "metadata": {
    "scrolled": false
   },
   "outputs": [
    {
     "data": {
      "application/vnd.jupyter.widget-view+json": {
       "model_id": "1eb6d76a8a4d488387f02676a4bba34d",
       "version_major": 2,
       "version_minor": 0
      },
      "text/plain": [
       "IntProgress(value=0, bar_style='info', description='Sentunel-2 Processing images', max=6)"
      ]
     },
     "metadata": {},
     "output_type": "display_data"
    },
    {
     "name": "stdout",
     "output_type": "stream",
     "text": [
      "20230210\n"
     ]
    },
    {
     "name": "stderr",
     "output_type": "stream",
     "text": [
      "/opt/conda/envs/odc_env/lib/python3.8/site-packages/datacube/utils/documents.py:216: DeprecationWarning: jsonschema.RefResolver is deprecated as of v4.18.0, in favor of the https://github.com/python-jsonschema/referencing library, which provides more compliant referencing behavior as well as more flexible APIs for customization. A future release will remove RefResolver. Please file a feature request (on referencing) if you are missing an API for the kind of customization you need.\n",
      "  ref_resolver = jsonschema.RefResolver.from_schema(\n",
      "/opt/conda/envs/odc_env/lib/python3.8/site-packages/datacube/utils/documents.py:216: DeprecationWarning: jsonschema.RefResolver is deprecated as of v4.18.0, in favor of the https://github.com/python-jsonschema/referencing library, which provides more compliant referencing behavior as well as more flexible APIs for customization. A future release will remove RefResolver. Please file a feature request (on referencing) if you are missing an API for the kind of customization you need.\n",
      "  ref_resolver = jsonschema.RefResolver.from_schema(\n",
      "2024-01-25 14:24:53,992 875 datacube.index.postgres._products WARNING No changes detected for product Sentinel2_classified_images\n"
     ]
    },
    {
     "name": "stdout",
     "output_type": "stream",
     "text": [
      "Updated \"Sentinel2_classified_images\"\n",
      "20230322\n"
     ]
    },
    {
     "name": "stderr",
     "output_type": "stream",
     "text": [
      "/opt/conda/envs/odc_env/lib/python3.8/site-packages/datacube/utils/documents.py:216: DeprecationWarning: jsonschema.RefResolver is deprecated as of v4.18.0, in favor of the https://github.com/python-jsonschema/referencing library, which provides more compliant referencing behavior as well as more flexible APIs for customization. A future release will remove RefResolver. Please file a feature request (on referencing) if you are missing an API for the kind of customization you need.\n",
      "  ref_resolver = jsonschema.RefResolver.from_schema(\n",
      "/opt/conda/envs/odc_env/lib/python3.8/site-packages/datacube/utils/documents.py:216: DeprecationWarning: jsonschema.RefResolver is deprecated as of v4.18.0, in favor of the https://github.com/python-jsonschema/referencing library, which provides more compliant referencing behavior as well as more flexible APIs for customization. A future release will remove RefResolver. Please file a feature request (on referencing) if you are missing an API for the kind of customization you need.\n",
      "  ref_resolver = jsonschema.RefResolver.from_schema(\n",
      "2024-01-25 14:24:55,705 882 datacube.index.postgres._products WARNING No changes detected for product Sentinel2_classified_images\n"
     ]
    },
    {
     "name": "stdout",
     "output_type": "stream",
     "text": [
      "Updated \"Sentinel2_classified_images\"\n",
      "20230426\n"
     ]
    },
    {
     "name": "stderr",
     "output_type": "stream",
     "text": [
      "/opt/conda/envs/odc_env/lib/python3.8/site-packages/datacube/utils/documents.py:216: DeprecationWarning: jsonschema.RefResolver is deprecated as of v4.18.0, in favor of the https://github.com/python-jsonschema/referencing library, which provides more compliant referencing behavior as well as more flexible APIs for customization. A future release will remove RefResolver. Please file a feature request (on referencing) if you are missing an API for the kind of customization you need.\n",
      "  ref_resolver = jsonschema.RefResolver.from_schema(\n",
      "/opt/conda/envs/odc_env/lib/python3.8/site-packages/datacube/utils/documents.py:216: DeprecationWarning: jsonschema.RefResolver is deprecated as of v4.18.0, in favor of the https://github.com/python-jsonschema/referencing library, which provides more compliant referencing behavior as well as more flexible APIs for customization. A future release will remove RefResolver. Please file a feature request (on referencing) if you are missing an API for the kind of customization you need.\n",
      "  ref_resolver = jsonschema.RefResolver.from_schema(\n",
      "2024-01-25 14:24:57,496 889 datacube.index.postgres._products WARNING No changes detected for product Sentinel2_classified_images\n"
     ]
    },
    {
     "name": "stdout",
     "output_type": "stream",
     "text": [
      "Updated \"Sentinel2_classified_images\"\n",
      "20230625\n"
     ]
    },
    {
     "name": "stderr",
     "output_type": "stream",
     "text": [
      "/opt/conda/envs/odc_env/lib/python3.8/site-packages/datacube/utils/documents.py:216: DeprecationWarning: jsonschema.RefResolver is deprecated as of v4.18.0, in favor of the https://github.com/python-jsonschema/referencing library, which provides more compliant referencing behavior as well as more flexible APIs for customization. A future release will remove RefResolver. Please file a feature request (on referencing) if you are missing an API for the kind of customization you need.\n",
      "  ref_resolver = jsonschema.RefResolver.from_schema(\n",
      "/opt/conda/envs/odc_env/lib/python3.8/site-packages/datacube/utils/documents.py:216: DeprecationWarning: jsonschema.RefResolver is deprecated as of v4.18.0, in favor of the https://github.com/python-jsonschema/referencing library, which provides more compliant referencing behavior as well as more flexible APIs for customization. A future release will remove RefResolver. Please file a feature request (on referencing) if you are missing an API for the kind of customization you need.\n",
      "  ref_resolver = jsonschema.RefResolver.from_schema(\n",
      "2024-01-25 14:24:59,270 896 datacube.index.postgres._products WARNING No changes detected for product Sentinel2_classified_images\n"
     ]
    },
    {
     "name": "stdout",
     "output_type": "stream",
     "text": [
      "Updated \"Sentinel2_classified_images\"\n",
      "20230710\n"
     ]
    },
    {
     "name": "stderr",
     "output_type": "stream",
     "text": [
      "/opt/conda/envs/odc_env/lib/python3.8/site-packages/datacube/utils/documents.py:216: DeprecationWarning: jsonschema.RefResolver is deprecated as of v4.18.0, in favor of the https://github.com/python-jsonschema/referencing library, which provides more compliant referencing behavior as well as more flexible APIs for customization. A future release will remove RefResolver. Please file a feature request (on referencing) if you are missing an API for the kind of customization you need.\n",
      "  ref_resolver = jsonschema.RefResolver.from_schema(\n",
      "/opt/conda/envs/odc_env/lib/python3.8/site-packages/datacube/utils/documents.py:216: DeprecationWarning: jsonschema.RefResolver is deprecated as of v4.18.0, in favor of the https://github.com/python-jsonschema/referencing library, which provides more compliant referencing behavior as well as more flexible APIs for customization. A future release will remove RefResolver. Please file a feature request (on referencing) if you are missing an API for the kind of customization you need.\n",
      "  ref_resolver = jsonschema.RefResolver.from_schema(\n",
      "2024-01-25 14:25:01,005 903 datacube.index.postgres._products WARNING No changes detected for product Sentinel2_classified_images\n"
     ]
    },
    {
     "name": "stdout",
     "output_type": "stream",
     "text": [
      "Updated \"Sentinel2_classified_images\"\n",
      "20230819\n"
     ]
    },
    {
     "name": "stderr",
     "output_type": "stream",
     "text": [
      "/opt/conda/envs/odc_env/lib/python3.8/site-packages/datacube/utils/documents.py:216: DeprecationWarning: jsonschema.RefResolver is deprecated as of v4.18.0, in favor of the https://github.com/python-jsonschema/referencing library, which provides more compliant referencing behavior as well as more flexible APIs for customization. A future release will remove RefResolver. Please file a feature request (on referencing) if you are missing an API for the kind of customization you need.\n",
      "  ref_resolver = jsonschema.RefResolver.from_schema(\n",
      "/opt/conda/envs/odc_env/lib/python3.8/site-packages/datacube/utils/documents.py:216: DeprecationWarning: jsonschema.RefResolver is deprecated as of v4.18.0, in favor of the https://github.com/python-jsonschema/referencing library, which provides more compliant referencing behavior as well as more flexible APIs for customization. A future release will remove RefResolver. Please file a feature request (on referencing) if you are missing an API for the kind of customization you need.\n",
      "  ref_resolver = jsonschema.RefResolver.from_schema(\n",
      "2024-01-25 14:25:03,216 910 datacube.index.postgres._products WARNING No changes detected for product Sentinel2_classified_images\n"
     ]
    },
    {
     "name": "stdout",
     "output_type": "stream",
     "text": [
      "Updated \"Sentinel2_classified_images\"\n",
      "\u001b[32mAll classified image products have been imported into the ODC\u001b[0m\n"
     ]
    }
   ],
   "source": [
    "f = widgets.IntProgress(min=0, max=len(list_files), description='Sentunel-2 Processing images', bar_style='info')\n",
    "display(f)\n",
    "\n",
    "for file in list_files:\n",
    "    date_uuid = file[file.find('202'):file.find('202')+8]\n",
    "    print(date_uuid)\n",
    "    src = rasterio.open(file)\n",
    "    xmin,ymin,xmax,ymax = src.bounds\n",
    "    affine = src.transform\n",
    "    shape = src.shape\n",
    "    text_p1 = (\"\"\"$schema: https://schemas.opendatacube.org/dataset\n",
    "\n",
    "id: 70000000-0000-0000-0000-0000\"\"\"+ str(date_uuid) +\"\"\"\n",
    "\n",
    "product:\n",
    "  name: Sentinel2_classified_images\n",
    "  href: None\n",
    "  format: GeoTIFF\n",
    "\n",
    "crs: EPSG:32632\n",
    "\n",
    "geometry:\n",
    "  type: Polygon\n",
    "  coordinates: [[[\"\"\"+str(xmin)+\"\"\", \"\"\"+str(ymin)+\"\"\"], [\"\"\"+str(xmin)+\"\"\", \"\"\"+str(ymax)+\"\"\"], [\"\"\"+str(xmax)+\"\"\", \"\"\"+str(ymax)+\"\"\"], [\"\"\"+str(xmax)+\"\"\", \"\"\"+str(ymin)+\"\"\"], [\"\"\"+str(xmin)+\"\"\", \"\"\"+str(ymin)+\"\"\"]]]\n",
    "\n",
    "grids:\n",
    "  default:\n",
    "    shape: [\"\"\"+str(shape[0])+\"\"\",\"\"\"+str(shape[1])+\"\"\"]\n",
    "    transform: [\"\"\"+str(affine[0])+\"\"\",\"\"\"+str(affine[1])+\"\"\",\"\"\"+str(affine[2])+\"\"\",\"\"\"+str(affine[3])+\"\"\",\"\"\"+str(affine[4])+\"\"\",\"\"\"+str(affine[5])+\"\"\", 0,0,1]\n",
    "\n",
    "lineage: {}\n",
    "measurements:\n",
    "\"\"\")\n",
    "    text_p2 = \"\"\"\"\"\"\n",
    "\n",
    "    text_p2_1 = \"\"\"\n",
    "  band:\n",
    "    path: \"\"\"+str(file)+\"\"\"\"\"\"\n",
    "    text_p2 = text_p2 + text_p2_1\n",
    "    \n",
    "    text_p3 = \"\"\"\n",
    "\n",
    "properties:\n",
    "  odc:file_format: GeoTIFF\n",
    "  datetime: \"\"\"+str(date_uuid)+\"\"\"T10:30:00Z\n",
    "    \"\"\"\n",
    "    yaml_text = open(file.replace('.tif', '.yaml'), \"wt\")\n",
    "    yaml_text.write(text_p1+text_p2+text_p3)\n",
    "    yaml_text.close()\n",
    "    os.system(\"\"\"cd /home/asi/datacube_conf; \n",
    "    datacube dataset add \"\"\"+file.replace('.tif', '.yaml'))\n",
    "    #datacube product update --allow-unsafe /home/asi/datacube_conf/\"\"\"+p_name+\"\"\".yaml\"\"\")\n",
    "    \n",
    "    f.value += 1\n",
    "        \n",
    "print(colored('All classified image products have been imported into the ODC','green'))"
   ]
  },
  {
   "cell_type": "code",
   "execution_count": null,
   "id": "10019453",
   "metadata": {},
   "outputs": [],
   "source": []
  },
  {
   "cell_type": "code",
   "execution_count": null,
   "id": "0377fa3e",
   "metadata": {},
   "outputs": [],
   "source": []
  }
 ],
 "metadata": {
  "kernelspec": {
   "display_name": "Python 3 (ipykernel)",
   "language": "python",
   "name": "python3"
  },
  "language_info": {
   "codemirror_mode": {
    "name": "ipython",
    "version": 3
   },
   "file_extension": ".py",
   "mimetype": "text/x-python",
   "name": "python",
   "nbconvert_exporter": "python",
   "pygments_lexer": "ipython3",
   "version": "3.8.17"
  }
 },
 "nbformat": 4,
 "nbformat_minor": 5
}
