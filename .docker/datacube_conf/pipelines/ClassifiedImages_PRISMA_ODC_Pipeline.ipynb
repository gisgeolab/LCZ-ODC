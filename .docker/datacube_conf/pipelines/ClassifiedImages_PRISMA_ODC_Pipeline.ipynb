{
 "cells": [
  {
   "cell_type": "markdown",
   "id": "badd7ffd",
   "metadata": {},
   "source": [
    "# Import Libraries"
   ]
  },
  {
   "cell_type": "code",
   "execution_count": 1,
   "id": "ddbd11d1",
   "metadata": {},
   "outputs": [],
   "source": [
    "import pandas as pd\n",
    "import numpy as np\n",
    "import geopandas as gpd\n",
    "import requests\n",
    "from shapely.ops import nearest_points\n",
    "import matplotlib.pyplot as plt\n",
    "import matplotlib.figure\n",
    "import fiona.crs\n",
    "from mpl_toolkits.axes_grid1 import make_axes_locatable\n",
    "import matplotlib.colors as colors\n",
    "import xarray as xr\n",
    "import time\n",
    "import yaml\n",
    "import uuid\n",
    "import os\n",
    "from glob import iglob # data access in file manager\n",
    "import rasterio\n",
    "from os.path import join # same\n",
    "import plotly.graph_objects as go\n",
    "import rioxarray as rio\n",
    "\n",
    "#Hide Warnings\n",
    "import warnings\n",
    "warnings.filterwarnings('ignore')\n",
    "\n",
    "#Progress bar\n",
    "import ipywidgets as widgets\n",
    "from termcolor import colored # Print colored text"
   ]
  },
  {
   "cell_type": "code",
   "execution_count": 2,
   "id": "65f64346",
   "metadata": {},
   "outputs": [
    {
     "data": {
      "text/plain": [
       "['/home/asi/datacube_conf/data/classified_image_PRISMA/classified_RandomForest_20230209_medianfilter_30m.tif',\n",
       " '/home/asi/datacube_conf/data/classified_image_PRISMA/classified_RandomForest_20230322_medianfilter_30m.tif',\n",
       " '/home/asi/datacube_conf/data/classified_image_PRISMA/classified_RandomForest_20230408_medianfilter_30m.tif',\n",
       " '/home/asi/datacube_conf/data/classified_image_PRISMA/classified_RandomForest_20230617_medianfilter_30m.tif',\n",
       " '/home/asi/datacube_conf/data/classified_image_PRISMA/classified_RandomForest_20230710_medianfilter_30m.tif',\n",
       " '/home/asi/datacube_conf/data/classified_image_PRISMA/classified_RandomForest_20230808_medianfilter_30m.tif']"
      ]
     },
     "execution_count": 2,
     "metadata": {},
     "output_type": "execute_result"
    }
   ],
   "source": [
    "file_basepath = '/home/asi/datacube_conf/data/classified_image_PRISMA'\n",
    "#search inside sub folders\n",
    "list_files = sorted(list(iglob(join(file_basepath, '*.tif*'), recursive=True)))\n",
    "#without searching inside sub folders\n",
    "#list_files = sorted(list(iglob(join(files_to_move, '*.tif'), recursive=True)))\n",
    "list_files"
   ]
  },
  {
   "cell_type": "code",
   "execution_count": 3,
   "id": "dd1edde1",
   "metadata": {},
   "outputs": [
    {
     "name": "stdout",
     "output_type": "stream",
     "text": [
      "['classified_20230209', 'classified_20230322', 'classified_20230408', 'classified_20230617', 'classified_20230710', 'classified_20230808']\n"
     ]
    }
   ],
   "source": [
    "file_names = []\n",
    "for path in list_files:\n",
    "    # Extract the last portion after the last slash (/)\n",
    "    file_name = path.split('/')[-1]\n",
    "    file_name = file_name.replace('_RandomForest', '')\n",
    "    file_name = file_name.replace('_medianfilter_30m.tif', '')\n",
    "    file_names.append(file_name)\n",
    "print(file_names)"
   ]
  },
  {
   "cell_type": "code",
   "execution_count": 4,
   "id": "dedb64fb",
   "metadata": {},
   "outputs": [
    {
     "data": {
      "text/plain": [
       "{'classified_20230209': '/home/asi/datacube_conf/data/classified_image_PRISMA/classified_RandomForest_20230209_medianfilter_30m.tif',\n",
       " 'classified_20230322': '/home/asi/datacube_conf/data/classified_image_PRISMA/classified_RandomForest_20230322_medianfilter_30m.tif',\n",
       " 'classified_20230408': '/home/asi/datacube_conf/data/classified_image_PRISMA/classified_RandomForest_20230408_medianfilter_30m.tif',\n",
       " 'classified_20230617': '/home/asi/datacube_conf/data/classified_image_PRISMA/classified_RandomForest_20230617_medianfilter_30m.tif',\n",
       " 'classified_20230710': '/home/asi/datacube_conf/data/classified_image_PRISMA/classified_RandomForest_20230710_medianfilter_30m.tif',\n",
       " 'classified_20230808': '/home/asi/datacube_conf/data/classified_image_PRISMA/classified_RandomForest_20230808_medianfilter_30m.tif'}"
      ]
     },
     "execution_count": 4,
     "metadata": {},
     "output_type": "execute_result"
    }
   ],
   "source": [
    "file_dict = {}\n",
    "for key in file_names:\n",
    "    for value in list_files:\n",
    "        file_dict[key] = value\n",
    "        list_files.remove(value)\n",
    "        break\n",
    "file_dict"
   ]
  },
  {
   "cell_type": "code",
   "execution_count": 5,
   "id": "953e5d2d",
   "metadata": {},
   "outputs": [
    {
     "data": {
      "text/plain": [
       "'classified_20230209'"
      ]
     },
     "execution_count": 5,
     "metadata": {},
     "output_type": "execute_result"
    }
   ],
   "source": [
    "def get_key_from_value(dictionary, target_value):\n",
    "    matching_keys = [key for key, value in dictionary.items() if value == target_value]\n",
    "    return matching_keys[0] if matching_keys else None\n",
    "\n",
    "key = get_key_from_value(file_dict, '/home/asi/datacube_conf/data/classified_image_PRISMA/classified_RandomForest_20230209_medianfilter_30m.tif')\n",
    "key"
   ]
  },
  {
   "cell_type": "code",
   "execution_count": 6,
   "id": "a2f82828",
   "metadata": {},
   "outputs": [
    {
     "data": {
      "text/plain": [
       "['/home/asi/datacube_conf/data/classified_image_PRISMA/classified_RandomForest_20230209_medianfilter_30m.tif',\n",
       " '/home/asi/datacube_conf/data/classified_image_PRISMA/classified_RandomForest_20230322_medianfilter_30m.tif',\n",
       " '/home/asi/datacube_conf/data/classified_image_PRISMA/classified_RandomForest_20230408_medianfilter_30m.tif',\n",
       " '/home/asi/datacube_conf/data/classified_image_PRISMA/classified_RandomForest_20230617_medianfilter_30m.tif',\n",
       " '/home/asi/datacube_conf/data/classified_image_PRISMA/classified_RandomForest_20230710_medianfilter_30m.tif',\n",
       " '/home/asi/datacube_conf/data/classified_image_PRISMA/classified_RandomForest_20230808_medianfilter_30m.tif']"
      ]
     },
     "execution_count": 6,
     "metadata": {},
     "output_type": "execute_result"
    }
   ],
   "source": [
    "list_files = sorted(list(iglob(join(file_basepath, '*.tif*'), recursive=True)))\n",
    "list_files"
   ]
  },
  {
   "cell_type": "markdown",
   "id": "d83b982b",
   "metadata": {},
   "source": [
    "# Generate product measurements list"
   ]
  },
  {
   "cell_type": "code",
   "execution_count": 7,
   "id": "83c661fb",
   "metadata": {},
   "outputs": [
    {
     "data": {
      "application/vnd.jupyter.widget-view+json": {
       "model_id": "6e3b5640ec70459cb3da0000e8820e1e",
       "version_major": 2,
       "version_minor": 0
      },
      "text/plain": [
       "IntProgress(value=0, bar_style='info', description='PRISMA Processing images', max=1)"
      ]
     },
     "metadata": {},
     "output_type": "display_data"
    },
    {
     "name": "stdout",
     "output_type": "stream",
     "text": [
      "Adding \"PRISMA_classified_images\" (this might take a while) DONE\n",
      "\u001b[32mAll classified images products have been updated into the ODC\u001b[0m\n"
     ]
    }
   ],
   "source": [
    "f = widgets.IntProgress(min=0, max=1, description='PRISMA Processing images', bar_style='info')\n",
    "display(f)\n",
    "p_name = \"PRISMA_classified_images\"\n",
    "text_p0 = \"\"\"name: \"\"\" + p_name + \"\"\"\n",
    "description: PRISMA Classified images using scikit-learn Random Forest Classified\n",
    "metadata_type: eo3\n",
    "\n",
    "metadata:\n",
    "    product:\n",
    "        name: \"\"\" + p_name + \"\"\"\n",
    "        format: GeoTIFF\n",
    "\n",
    "storage:\n",
    "    crs: EPSG:32632\n",
    "    dimension_order: [time, x, y]\n",
    "    resolution: \n",
    "        x: 30 \n",
    "        y: -30\"\"\"\n",
    "\n",
    "file = list_files[0]\n",
    "date_uuid = file[file.find('202'):file.find('202')+8]\n",
    "src = rasterio.open(file) \n",
    "xmin,ymin,xmax,ymax = src.bounds\n",
    "affine = src.transform\n",
    "shape = src.shape\n",
    "text_p2_1 = \"\"\"\"\"\"\n",
    "text_p2 = \"\"\"\"\"\"\n",
    "text_p1 = (\"\"\"\n",
    "\n",
    "measurements:\"\"\")\n",
    "\"\"\"\"\"\"\n",
    "\n",
    "text_p2_1 = \"\"\"\n",
    "    - name: band\n",
    "      dtype: float32\n",
    "      nodata: NaN\n",
    "      units: ''\n",
    "    \"\"\"\n",
    "text_p2 = text_p2 + text_p2_1\n",
    "text_p3 = text_p0 + text_p1 + text_p2\n",
    "yaml_text = open('/home/asi/datacube_conf/'+p_name+'.yaml', \"wt\")\n",
    "yaml_text.write(text_p3)\n",
    "yaml_text.close()\n",
    "os.system(\"\"\"cd /home/asi/datacube_conf; \n",
    "datacube product add /home/asi/datacube_conf/\"\"\"+p_name+\"\"\".yaml\"\"\")\n",
    "#os.system(\"\"\"cd /home/asi/datacube_conf; \n",
    "#datacube product update --allow-unsafe /home/asi/datacube_conf/\"\"\"+p_name+\"\"\".yaml\"\"\")\n",
    "f.value += 1\n",
    "        \n",
    "print(colored('All classified images products have been updated into the ODC','green'))"
   ]
  },
  {
   "cell_type": "markdown",
   "id": "8914f0e1",
   "metadata": {},
   "source": [
    "# Generate and Register Dataset "
   ]
  },
  {
   "cell_type": "code",
   "execution_count": 8,
   "id": "cba95697",
   "metadata": {},
   "outputs": [
    {
     "data": {
      "application/vnd.jupyter.widget-view+json": {
       "model_id": "f49246273a5f4494857408f450f58631",
       "version_major": 2,
       "version_minor": 0
      },
      "text/plain": [
       "IntProgress(value=0, bar_style='info', description='PRISMA Processing images', max=6)"
      ]
     },
     "metadata": {},
     "output_type": "display_data"
    },
    {
     "name": "stdout",
     "output_type": "stream",
     "text": [
      "20230209\n",
      "20230322\n",
      "20230408\n",
      "20230617\n",
      "20230710\n",
      "20230808\n",
      "\u001b[32mAll classified image products have been imported into the ODC\u001b[0m\n"
     ]
    }
   ],
   "source": [
    "f = widgets.IntProgress(min=0, max=len(list_files), description='PRISMA Processing images', bar_style='info')\n",
    "display(f)\n",
    "\n",
    "for file in list_files:\n",
    "    date_uuid = file[file.find('202'):file.find('202')+8]\n",
    "    print(date_uuid)\n",
    "    src = rasterio.open(file)\n",
    "    xmin,ymin,xmax,ymax = src.bounds\n",
    "    affine = src.transform\n",
    "    shape = src.shape\n",
    "    text_p1 = (\"\"\"$schema: https://schemas.opendatacube.org/dataset\n",
    "\n",
    "id: 80000000-0000-0000-0000-0000\"\"\"+ str(date_uuid) +\"\"\"\n",
    "\n",
    "product:\n",
    "  name: PRISMA_classified_images\n",
    "  href: None\n",
    "  format: GeoTIFF\n",
    "\n",
    "crs: EPSG:32632\n",
    "\n",
    "geometry:\n",
    "  type: Polygon\n",
    "  coordinates: [[[\"\"\"+str(xmin)+\"\"\", \"\"\"+str(ymin)+\"\"\"], [\"\"\"+str(xmin)+\"\"\", \"\"\"+str(ymax)+\"\"\"], [\"\"\"+str(xmax)+\"\"\", \"\"\"+str(ymax)+\"\"\"], [\"\"\"+str(xmax)+\"\"\", \"\"\"+str(ymin)+\"\"\"], [\"\"\"+str(xmin)+\"\"\", \"\"\"+str(ymin)+\"\"\"]]]\n",
    "\n",
    "grids:\n",
    "  default:\n",
    "    shape: [\"\"\"+str(shape[0])+\"\"\",\"\"\"+str(shape[1])+\"\"\"]\n",
    "    transform: [\"\"\"+str(affine[0])+\"\"\",\"\"\"+str(affine[1])+\"\"\",\"\"\"+str(affine[2])+\"\"\",\"\"\"+str(affine[3])+\"\"\",\"\"\"+str(affine[4])+\"\"\",\"\"\"+str(affine[5])+\"\"\", 0,0,1]\n",
    "\n",
    "lineage: {}\n",
    "measurements:\n",
    "\"\"\")\n",
    "    text_p2 = \"\"\"\"\"\"\n",
    "\n",
    "    text_p2_1 = \"\"\"\n",
    "  band:\n",
    "    path: \"\"\"+str(file)+\"\"\"\"\"\"\n",
    "    text_p2 = text_p2 + text_p2_1\n",
    "    \n",
    "    text_p3 = \"\"\"\n",
    "\n",
    "properties:\n",
    "  odc:file_format: GeoTIFF\n",
    "  datetime: \"\"\"+str(date_uuid)+\"\"\"T10:30:00Z\n",
    "    \"\"\"\n",
    "    yaml_text = open(file.replace('.tif', '.yaml'), \"wt\")\n",
    "    yaml_text.write(text_p1+text_p2+text_p3)\n",
    "    yaml_text.close()\n",
    "    os.system(\"\"\"cd /home/asi/datacube_conf; \n",
    "    datacube dataset add \"\"\"+file.replace('.tif', '.yaml'))\n",
    "    #datacube product update --allow-unsafe /home/asi/datacube_conf/\"\"\"+p_name+\"\"\".yaml\"\"\")\n",
    "    \n",
    "    f.value += 1\n",
    "        \n",
    "print(colored('All classified image products have been imported into the ODC','green'))"
   ]
  },
  {
   "cell_type": "code",
   "execution_count": null,
   "id": "edca5a03",
   "metadata": {},
   "outputs": [],
   "source": []
  },
  {
   "cell_type": "code",
   "execution_count": null,
   "id": "a0fb987f",
   "metadata": {},
   "outputs": [],
   "source": []
  }
 ],
 "metadata": {
  "kernelspec": {
   "display_name": "Python 3 (ipykernel)",
   "language": "python",
   "name": "python3"
  },
  "language_info": {
   "codemirror_mode": {
    "name": "ipython",
    "version": 3
   },
   "file_extension": ".py",
   "mimetype": "text/x-python",
   "name": "python",
   "nbconvert_exporter": "python",
   "pygments_lexer": "ipython3",
   "version": "3.8.10"
  }
 },
 "nbformat": 4,
 "nbformat_minor": 5
}
