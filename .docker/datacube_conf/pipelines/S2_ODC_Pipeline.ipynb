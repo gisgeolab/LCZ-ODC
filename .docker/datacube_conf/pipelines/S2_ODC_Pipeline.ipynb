{
 "cells": [
  {
   "cell_type": "markdown",
   "metadata": {},
   "source": [
    "Python notebook developed by:\n",
    "Rodrigo Cedeno & Emanuele Capizzi\n",
    "For project ..."
   ]
  },
  {
   "cell_type": "markdown",
   "metadata": {},
   "source": [
    "# Import Libraries"
   ]
  },
  {
   "cell_type": "code",
   "execution_count": 1,
   "metadata": {},
   "outputs": [],
   "source": [
    "import pandas as pd\n",
    "import numpy as np\n",
    "import geopandas as gpd\n",
    "import requests\n",
    "from shapely.ops import nearest_points\n",
    "import matplotlib.pyplot as plt\n",
    "import matplotlib.figure\n",
    "import fiona.crs\n",
    "from mpl_toolkits.axes_grid1 import make_axes_locatable\n",
    "import matplotlib.colors as colors\n",
    "import xarray as xr\n",
    "import time\n",
    "import yaml\n",
    "import uuid\n",
    "import os\n",
    "from glob import iglob # data access in file manager\n",
    "import rasterio\n",
    "from os.path import join # same\n",
    "import plotly.graph_objects as go\n",
    "import rioxarray as rio\n",
    "\n",
    "#Hide Warnings\n",
    "import warnings\n",
    "warnings.filterwarnings('ignore')\n",
    "\n",
    "#Progress bar\n",
    "import ipywidgets as widgets\n",
    "from termcolor import colored # Print colored text"
   ]
  },
  {
   "cell_type": "code",
   "execution_count": 2,
   "metadata": {},
   "outputs": [
    {
     "data": {
      "text/plain": [
       "['/home/asi/datacube_conf/data/imagery/S2/S2_20230210_30m_all_bands_clip.tif',\n",
       " '/home/asi/datacube_conf/data/imagery/S2/S2_20230322_30m_all_bands_clip.tif',\n",
       " '/home/asi/datacube_conf/data/imagery/S2/S2_20230426_30m_all_bands_clip.tif',\n",
       " '/home/asi/datacube_conf/data/imagery/S2/S2_20230625_30m_all_bands_clip.tif',\n",
       " '/home/asi/datacube_conf/data/imagery/S2/S2_20230710_30m_all_bands_clip.tif',\n",
       " '/home/asi/datacube_conf/data/imagery/S2/S2_20230819_30m_all_bands_clip.tif']"
      ]
     },
     "execution_count": 2,
     "metadata": {},
     "output_type": "execute_result"
    }
   ],
   "source": [
    "file_basepath = '/home/asi/datacube_conf/data/imagery/S2'\n",
    "#search inside sub folders\n",
    "list_files = sorted(list(iglob(join(file_basepath, '*.tif*'), recursive=True)))\n",
    "#without searching inside sub folders\n",
    "#list_files = sorted(list(iglob(join(files_to_move, '*.tif'), recursive=True)))\n",
    "list_files"
   ]
  },
  {
   "cell_type": "markdown",
   "metadata": {},
   "source": [
    "# Generate product measurements list"
   ]
  },
  {
   "cell_type": "code",
   "execution_count": 3,
   "metadata": {
    "scrolled": true
   },
   "outputs": [
    {
     "data": {
      "application/vnd.jupyter.widget-view+json": {
       "model_id": "ee5c8d22944b47b3979065a517c6554c",
       "version_major": 2,
       "version_minor": 0
      },
      "text/plain": [
       "IntProgress(value=0, bar_style='info', description='Processing images', max=1)"
      ]
     },
     "metadata": {},
     "output_type": "display_data"
    },
    {
     "name": "stdout",
     "output_type": "stream",
     "text": [
      "Adding \"S2_Full_Bands\" (this might take a while) DONE\n",
      "\u001b[32mAll S2 products have been updated into the ODC\u001b[0m\n"
     ]
    }
   ],
   "source": [
    "f = widgets.IntProgress(min=0, max=1, description='Processing images', bar_style='info')\n",
    "display(f)\n",
    "p_name = \"S2_Full_Bands\"\n",
    "text_p0 = \"\"\"name: \"\"\" + p_name + \"\"\"\n",
    "description: Sentinel-2 imagery containing all bands\n",
    "metadata_type: eo3\n",
    "\n",
    "metadata:\n",
    "    product:\n",
    "        name: \"\"\" + p_name + \"\"\"\n",
    "        format: GeoTIFF\n",
    "\n",
    "storage:\n",
    "    crs: EPSG:32632\n",
    "    dimension_order: [time, x, y]\n",
    "    resolution: \n",
    "        x: 30 \n",
    "        y: -30\"\"\"\n",
    "\n",
    "file = list_files[0]\n",
    "date_uuid = file[file.find('202'):file.find('202')+8]\n",
    "src = rasterio.open(file) \n",
    "xmin,ymin,xmax,ymax = src.bounds\n",
    "affine = src.transform\n",
    "shape = src.shape\n",
    "text_p2_1 = \"\"\"\"\"\"\n",
    "text_p2 = \"\"\"\"\"\"\n",
    "text_p1 = (\"\"\"\n",
    "\n",
    "measurements:\"\"\")\n",
    "\"\"\"\"\"\"\n",
    "for band in range(1,src.count+1):\n",
    "    band_num = str(int(band))\n",
    "    text_p2_1 = \"\"\"\n",
    "    - name: band\"\"\"+band_num+\"\"\"\n",
    "      dtype: float32\n",
    "      nodata: NaN\n",
    "      units: ''\n",
    "\"\"\"\n",
    "    text_p2 = text_p2 + text_p2_1\n",
    "text_p3 = text_p0 + text_p1 + text_p2\n",
    "yaml_text = open('/home/asi/datacube_conf/'+p_name+'.yaml', \"wt\")\n",
    "yaml_text.write(text_p3)\n",
    "yaml_text.close()\n",
    "os.system(\"\"\"cd /home/asi/datacube_conf; \n",
    "datacube product add /home/asi/datacube_conf/\"\"\"+p_name+\"\"\".yaml\"\"\")\n",
    "#os.system(\"\"\"cd /home/asi/datacube_conf; \n",
    "#datacube product update --allow-unsafe /home/asi/datacube_conf/\"\"\"+p_name+\"\"\".yaml\"\"\")\n",
    "f.value += 1\n",
    "        \n",
    "print(colored('All S2 products have been updated into the ODC','green'))"
   ]
  },
  {
   "cell_type": "markdown",
   "metadata": {},
   "source": [
    "## Generate and Register Dataset "
   ]
  },
  {
   "cell_type": "code",
   "execution_count": 4,
   "metadata": {},
   "outputs": [
    {
     "data": {
      "application/vnd.jupyter.widget-view+json": {
       "model_id": "d027198c89ef41148717872359c7a6a6",
       "version_major": 2,
       "version_minor": 0
      },
      "text/plain": [
       "IntProgress(value=0, bar_style='info', description='Processing images', max=6)"
      ]
     },
     "metadata": {},
     "output_type": "display_data"
    },
    {
     "name": "stdout",
     "output_type": "stream",
     "text": [
      "20230210\n",
      "20230322\n",
      "20230426\n",
      "20230625\n",
      "20230710\n",
      "20230819\n",
      "\u001b[32mAll S2 products have been imported into the ODC\u001b[0m\n"
     ]
    }
   ],
   "source": [
    "f = widgets.IntProgress(min=0, max=len(list_files), description='Processing images', bar_style='info')\n",
    "display(f)\n",
    "\n",
    "for file in list_files:\n",
    "    date_uuid = file[file.find('202'):file.find('202')+8]\n",
    "    print(date_uuid)\n",
    "    src = rasterio.open(file)\n",
    "    xmin,ymin,xmax,ymax = src.bounds\n",
    "    affine = src.transform\n",
    "    shape = src.shape\n",
    "    text_p1 = (\"\"\"$schema: https://schemas.opendatacube.org/dataset\n",
    "\n",
    "id: 20000000-0000-0000-0000-0000\"\"\"+ str(date_uuid) +\"\"\"\n",
    "\n",
    "product:\n",
    "  name: S2_Full_Bands\n",
    "  href: https://sentinel.esa.int/web/sentinel/missions/sentinel-2\n",
    "  format: GeoTIFF\n",
    "\n",
    "crs: EPSG:32632\n",
    "\n",
    "geometry:\n",
    "  type: Polygon\n",
    "  coordinates: [[[\"\"\"+str(xmin)+\"\"\", \"\"\"+str(ymin)+\"\"\"], [\"\"\"+str(xmin)+\"\"\", \"\"\"+str(ymax)+\"\"\"], [\"\"\"+str(xmax)+\"\"\", \"\"\"+str(ymax)+\"\"\"], [\"\"\"+str(xmax)+\"\"\", \"\"\"+str(ymin)+\"\"\"], [\"\"\"+str(xmin)+\"\"\", \"\"\"+str(ymin)+\"\"\"]]]\n",
    "\n",
    "grids:\n",
    "  default:\n",
    "    shape: [\"\"\"+str(shape[0])+\"\"\",\"\"\"+str(shape[1])+\"\"\"]\n",
    "    transform: [\"\"\"+str(affine[0])+\"\"\",\"\"\"+str(affine[1])+\"\"\",\"\"\"+str(affine[2])+\"\"\",\"\"\"+str(affine[3])+\"\"\",\"\"\"+str(affine[4])+\"\"\",\"\"\"+str(affine[5])+\"\"\", 0,0,1]\n",
    "\n",
    "lineage: {}\n",
    "measurements:\n",
    "\"\"\")\n",
    "    text_p2 = \"\"\"\"\"\"\n",
    "    for band in range(1,src.count+1):\n",
    "        band = int(band)\n",
    "        text_p2_1 = \"\"\"\n",
    "  band\"\"\"+str(band)+\"\"\":\n",
    "    band: \"\"\"+str(band)+\"\"\" \n",
    "    path: \"\"\"+str(file)+\"\"\"\"\"\"\n",
    "        text_p2 = text_p2 + text_p2_1\n",
    "    \n",
    "    text_p3 = \"\"\"\n",
    "properties:\n",
    "  odc:file_format: GeoTIFF\n",
    "  datetime: \"\"\"+str(date_uuid)+\"\"\"T10:30:00Z\n",
    "    \"\"\"\n",
    "    yaml_text = open(file.replace('.tif', '.yaml'), \"wt\")\n",
    "    yaml_text.write(text_p1+text_p2+text_p3)\n",
    "    yaml_text.close()\n",
    "    os.system(\"\"\"cd /home/asi/datacube_conf; \n",
    "    datacube dataset add \"\"\"+file.replace('.tif', '.yaml'))\n",
    "    \n",
    "    f.value += 1\n",
    "        \n",
    "print(colored('All S2 products have been imported into the ODC','green'))"
   ]
  },
  {
   "cell_type": "code",
   "execution_count": null,
   "metadata": {},
   "outputs": [],
   "source": []
  }
 ],
 "metadata": {
  "kernelspec": {
   "display_name": "Python 3 (ipykernel)",
   "language": "python",
   "name": "python3"
  },
  "language_info": {
   "codemirror_mode": {
    "name": "ipython",
    "version": 3
   },
   "file_extension": ".py",
   "mimetype": "text/x-python",
   "name": "python",
   "nbconvert_exporter": "python",
   "pygments_lexer": "ipython3",
   "version": "3.8.10"
  },
  "varInspector": {
   "cols": {
    "lenName": 16,
    "lenType": 16,
    "lenVar": 40
   },
   "kernels_config": {
    "python": {
     "delete_cmd_postfix": "",
     "delete_cmd_prefix": "del ",
     "library": "var_list.py",
     "varRefreshCmd": "print(var_dic_list())"
    },
    "r": {
     "delete_cmd_postfix": ") ",
     "delete_cmd_prefix": "rm(",
     "library": "var_list.r",
     "varRefreshCmd": "cat(var_dic_list()) "
    }
   },
   "types_to_exclude": [
    "module",
    "function",
    "builtin_function_or_method",
    "instance",
    "_Feature"
   ],
   "window_display": false
  }
 },
 "nbformat": 4,
 "nbformat_minor": 2
}
