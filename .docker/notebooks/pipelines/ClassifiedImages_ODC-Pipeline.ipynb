{
 "cells": [
  {
   "cell_type": "markdown",
   "metadata": {},
   "source": [
    "Python notebook developed by:\n",
    "Rodrigo Cedeno & Emanuele Capizzi\n",
    "For project ..."
   ]
  },
  {
   "cell_type": "markdown",
   "metadata": {},
   "source": [
    "# Import Libraries"
   ]
  },
  {
   "cell_type": "code",
   "execution_count": 1,
   "metadata": {},
   "outputs": [],
   "source": [
    "import pandas as pd\n",
    "import numpy as np\n",
    "import geopandas as gpd\n",
    "import requests\n",
    "from shapely.ops import nearest_points\n",
    "import matplotlib.pyplot as plt\n",
    "import matplotlib.figure\n",
    "import fiona.crs\n",
    "from mpl_toolkits.axes_grid1 import make_axes_locatable\n",
    "import matplotlib.colors as colors\n",
    "import xarray as xr\n",
    "import time\n",
    "import yaml\n",
    "import uuid\n",
    "import os\n",
    "from glob import iglob # data access in file manager\n",
    "import rasterio\n",
    "from os.path import join # same\n",
    "import plotly.graph_objects as go\n",
    "import rioxarray as rio\n",
    "\n",
    "#Hide Warnings\n",
    "import warnings\n",
    "warnings.filterwarnings('ignore')\n",
    "\n",
    "#Progress bar\n",
    "import ipywidgets as widgets\n",
    "from termcolor import colored # Print colored text"
   ]
  },
  {
   "cell_type": "code",
   "execution_count": 2,
   "metadata": {},
   "outputs": [
    {
     "data": {
      "text/plain": [
       "['/home/asi/data/classified_images/classified_RandomForest_20230209_medianfilter_30m.tif',\n",
       " '/home/asi/data/classified_images/classified_RandomForest_20230322_medianfilter_30m.tif',\n",
       " '/home/asi/data/classified_images/classified_RandomForest_20230408_medianfilter_30m.tif',\n",
       " '/home/asi/data/classified_images/classified_RandomForest_20230617_medianfilter_30m.tif',\n",
       " '/home/asi/data/classified_images/classified_RandomForest_20230710_medianfilter_30m.tif',\n",
       " '/home/asi/data/classified_images/classified_RandomForest_20230808_medianfilter_30m.tif']"
      ]
     },
     "execution_count": 2,
     "metadata": {},
     "output_type": "execute_result"
    }
   ],
   "source": [
    "file_basepath = '/home/asi/data/classified_images'\n",
    "#search inside sub folders\n",
    "list_files = sorted(list(iglob(join(file_basepath, '*.tif*'), recursive=True)))\n",
    "#without searching inside sub folders\n",
    "#list_files = sorted(list(iglob(join(files_to_move, '*.tif'), recursive=True)))\n",
    "list_files"
   ]
  },
  {
   "cell_type": "code",
   "execution_count": 3,
   "metadata": {},
   "outputs": [
    {
     "name": "stdout",
     "output_type": "stream",
     "text": [
      "['classified_20230209', 'classified_20230322', 'classified_20230408', 'classified_20230617', 'classified_20230710', 'classified_20230808']\n"
     ]
    }
   ],
   "source": [
    "file_names = []\n",
    "for path in list_files:\n",
    "    # Extract the last portion after the last slash (/)\n",
    "    file_name = path.split('/')[-1]\n",
    "    file_name = file_name.replace('_RandomForest', '')\n",
    "    file_name = file_name.replace('_medianfilter_30m.tif', '')\n",
    "    file_names.append(file_name)\n",
    "print(file_names)"
   ]
  },
  {
   "cell_type": "code",
   "execution_count": 4,
   "metadata": {},
   "outputs": [
    {
     "data": {
      "text/plain": [
       "{'classified_20230209': '/home/asi/data/classified_images/classified_RandomForest_20230209_medianfilter_30m.tif',\n",
       " 'classified_20230322': '/home/asi/data/classified_images/classified_RandomForest_20230322_medianfilter_30m.tif',\n",
       " 'classified_20230408': '/home/asi/data/classified_images/classified_RandomForest_20230408_medianfilter_30m.tif',\n",
       " 'classified_20230617': '/home/asi/data/classified_images/classified_RandomForest_20230617_medianfilter_30m.tif',\n",
       " 'classified_20230710': '/home/asi/data/classified_images/classified_RandomForest_20230710_medianfilter_30m.tif',\n",
       " 'classified_20230808': '/home/asi/data/classified_images/classified_RandomForest_20230808_medianfilter_30m.tif'}"
      ]
     },
     "execution_count": 4,
     "metadata": {},
     "output_type": "execute_result"
    }
   ],
   "source": [
    "file_dict = {}\n",
    "for key in file_names:\n",
    "    for value in list_files:\n",
    "        file_dict[key] = value\n",
    "        list_files.remove(value)\n",
    "        break\n",
    "file_dict"
   ]
  },
  {
   "cell_type": "code",
   "execution_count": 5,
   "metadata": {},
   "outputs": [
    {
     "data": {
      "text/plain": [
       "'classified_20230209'"
      ]
     },
     "execution_count": 5,
     "metadata": {},
     "output_type": "execute_result"
    }
   ],
   "source": [
    "def get_key_from_value(dictionary, target_value):\n",
    "    matching_keys = [key for key, value in dictionary.items() if value == target_value]\n",
    "    return matching_keys[0] if matching_keys else None\n",
    "\n",
    "key = get_key_from_value(file_dict, '/home/asi/data/classified_images/classified_RandomForest_20230209_medianfilter_30m.tif')\n",
    "key"
   ]
  },
  {
   "cell_type": "code",
   "execution_count": 6,
   "metadata": {},
   "outputs": [
    {
     "data": {
      "text/plain": [
       "['/home/asi/data/classified_images/classified_RandomForest_20230209_medianfilter_30m.tif',\n",
       " '/home/asi/data/classified_images/classified_RandomForest_20230322_medianfilter_30m.tif',\n",
       " '/home/asi/data/classified_images/classified_RandomForest_20230408_medianfilter_30m.tif',\n",
       " '/home/asi/data/classified_images/classified_RandomForest_20230617_medianfilter_30m.tif',\n",
       " '/home/asi/data/classified_images/classified_RandomForest_20230710_medianfilter_30m.tif',\n",
       " '/home/asi/data/classified_images/classified_RandomForest_20230808_medianfilter_30m.tif']"
      ]
     },
     "execution_count": 6,
     "metadata": {},
     "output_type": "execute_result"
    }
   ],
   "source": [
    "list_files = sorted(list(iglob(join(file_basepath, '*.tif*'), recursive=True)))\n",
    "list_files"
   ]
  },
  {
   "cell_type": "markdown",
   "metadata": {},
   "source": [
    "# Generate product measurements list"
   ]
  },
  {
   "cell_type": "code",
   "execution_count": 7,
   "metadata": {
    "scrolled": true
   },
   "outputs": [
    {
     "data": {
      "application/vnd.jupyter.widget-view+json": {
       "model_id": "08e0445c5f1a4fe4a2e5fff2128a317d",
       "version_major": 2,
       "version_minor": 0
      },
      "text/plain": [
       "IntProgress(value=0, bar_style='info', description='Processing images', max=1)"
      ]
     },
     "metadata": {},
     "output_type": "display_data"
    },
    {
     "name": "stdout",
     "output_type": "stream",
     "text": [
      "Adding \"classified_images\" (this might take a while) DONE\n"
     ]
    },
    {
     "name": "stderr",
     "output_type": "stream",
     "text": [
      "2023-11-16 10:01:22,671 23763 datacube.index.postgres._products WARNING Product classified_images is already in the database, checking for differences\n"
     ]
    },
    {
     "name": "stdout",
     "output_type": "stream",
     "text": [
      "\u001b[32mAll classified images products have been updated into the ODC\u001b[0m\n"
     ]
    }
   ],
   "source": [
    "f = widgets.IntProgress(min=0, max=1, description='Processing images', bar_style='info')\n",
    "display(f)\n",
    "p_name = \"classified_images\"\n",
    "text_p0 = \"\"\"name: \"\"\" + p_name + \"\"\"\n",
    "description: Classified images using scikit-learn Random Forest Classified\n",
    "metadata_type: eo3\n",
    "\n",
    "metadata:\n",
    "    product:\n",
    "        name: \"\"\" + p_name + \"\"\"\n",
    "        format: GeoTIFF\n",
    "\n",
    "storage:\n",
    "    crs: EPSG:32632\n",
    "    dimension_order: [time, x, y]\n",
    "    resolution: \n",
    "        x: 30 \n",
    "        y: -30\"\"\"\n",
    "\n",
    "file = list_files[0]\n",
    "date_uuid = file[file.find('202'):file.find('202')+8]\n",
    "src = rasterio.open(file) \n",
    "xmin,ymin,xmax,ymax = src.bounds\n",
    "affine = src.transform\n",
    "shape = src.shape\n",
    "text_p2_1 = \"\"\"\"\"\"\n",
    "text_p2 = \"\"\"\"\"\"\n",
    "text_p1 = (\"\"\"\n",
    "\n",
    "measurements:\"\"\")\n",
    "\"\"\"\"\"\"\n",
    "\n",
    "text_p2_1 = \"\"\"\n",
    "    - name: classified_images\n",
    "      dtype: float32\n",
    "      nodata: NaN\n",
    "      units: ''\n",
    "    \"\"\"\n",
    "text_p2 = text_p2 + text_p2_1\n",
    "text_p3 = text_p0 + text_p1 + text_p2\n",
    "yaml_text = open('/home/asi/datacube_conf/'+p_name+'.yaml', \"wt\")\n",
    "yaml_text.write(text_p3)\n",
    "yaml_text.close()\n",
    "os.system(\"\"\"cd /home/asi/datacube_conf; \n",
    "datacube product add /home/asi/datacube_conf/\"\"\"+p_name+\"\"\".yaml\"\"\")\n",
    "#os.system(\"\"\"cd /home/asi/datacube_conf; \n",
    "#datacube product update --allow-unsafe /home/asi/datacube_conf/\"\"\"+p_name+\"\"\".yaml\"\"\")\n",
    "f.value += 1\n",
    "        \n",
    "print(colored('All classified images products have been updated into the ODC','green'))"
   ]
  },
  {
   "cell_type": "markdown",
   "metadata": {},
   "source": [
    "## Generate and Register Dataset "
   ]
  },
  {
   "cell_type": "code",
   "execution_count": 8,
   "metadata": {
    "scrolled": false
   },
   "outputs": [
    {
     "data": {
      "application/vnd.jupyter.widget-view+json": {
       "model_id": "c03a0db3e97f4d30872ee3c81bc90c80",
       "version_major": 2,
       "version_minor": 0
      },
      "text/plain": [
       "IntProgress(value=0, bar_style='info', description='Processing images', max=6)"
      ]
     },
     "metadata": {},
     "output_type": "display_data"
    },
    {
     "name": "stdout",
     "output_type": "stream",
     "text": [
      "20230209\n"
     ]
    },
    {
     "name": "stderr",
     "output_type": "stream",
     "text": [
      "2023-11-16 10:01:29,863 23770 datacube.index.postgres._datasets WARNING Dataset 60000000-0000-0000-0000-000020230209 is already in the database\n"
     ]
    },
    {
     "name": "stdout",
     "output_type": "stream",
     "text": [
      "20230322\n"
     ]
    },
    {
     "name": "stderr",
     "output_type": "stream",
     "text": [
      "2023-11-16 10:01:31,633 23777 datacube.index.postgres._datasets WARNING Dataset 60000000-0000-0000-0000-000020230322 is already in the database\n"
     ]
    },
    {
     "name": "stdout",
     "output_type": "stream",
     "text": [
      "20230408\n"
     ]
    },
    {
     "name": "stderr",
     "output_type": "stream",
     "text": [
      "2023-11-16 10:01:33,573 23784 datacube.index.postgres._datasets WARNING Dataset 60000000-0000-0000-0000-000020230408 is already in the database\n"
     ]
    },
    {
     "name": "stdout",
     "output_type": "stream",
     "text": [
      "20230617\n"
     ]
    },
    {
     "name": "stderr",
     "output_type": "stream",
     "text": [
      "2023-11-16 10:01:35,351 23791 datacube.index.postgres._datasets WARNING Dataset 60000000-0000-0000-0000-000020230617 is already in the database\n"
     ]
    },
    {
     "name": "stdout",
     "output_type": "stream",
     "text": [
      "20230710\n"
     ]
    },
    {
     "name": "stderr",
     "output_type": "stream",
     "text": [
      "2023-11-16 10:01:37,076 23798 datacube.index.postgres._datasets WARNING Dataset 60000000-0000-0000-0000-000020230710 is already in the database\n"
     ]
    },
    {
     "name": "stdout",
     "output_type": "stream",
     "text": [
      "20230808\n"
     ]
    },
    {
     "name": "stderr",
     "output_type": "stream",
     "text": [
      "2023-11-16 10:01:38,740 23805 datacube.index.postgres._datasets WARNING Dataset 60000000-0000-0000-0000-000020230808 is already in the database\n"
     ]
    },
    {
     "name": "stdout",
     "output_type": "stream",
     "text": [
      "\u001b[32mAll classified image products have been imported into the ODC\u001b[0m\n"
     ]
    }
   ],
   "source": [
    "f = widgets.IntProgress(min=0, max=len(list_files), description='Processing images', bar_style='info')\n",
    "display(f)\n",
    "\n",
    "for file in list_files:\n",
    "    date_uuid = file[file.find('202'):file.find('202')+8]\n",
    "    print(date_uuid)\n",
    "    src = rasterio.open(file)\n",
    "    xmin,ymin,xmax,ymax = src.bounds\n",
    "    affine = src.transform\n",
    "    shape = src.shape\n",
    "    text_p1 = (\"\"\"$schema: https://schemas.opendatacube.org/dataset\n",
    "\n",
    "id: 60000000-0000-0000-0000-0000\"\"\"+ str(date_uuid) +\"\"\"\n",
    "\n",
    "product:\n",
    "  name: classified_images\n",
    "  href: None\n",
    "  format: GeoTIFF\n",
    "\n",
    "crs: EPSG:32632\n",
    "\n",
    "geometry:\n",
    "  type: Polygon\n",
    "  coordinates: [[[\"\"\"+str(xmin)+\"\"\", \"\"\"+str(ymin)+\"\"\"], [\"\"\"+str(xmin)+\"\"\", \"\"\"+str(ymax)+\"\"\"], [\"\"\"+str(xmax)+\"\"\", \"\"\"+str(ymax)+\"\"\"], [\"\"\"+str(xmax)+\"\"\", \"\"\"+str(ymin)+\"\"\"], [\"\"\"+str(xmin)+\"\"\", \"\"\"+str(ymin)+\"\"\"]]]\n",
    "\n",
    "grids:\n",
    "  default:\n",
    "    shape: [\"\"\"+str(shape[0])+\"\"\",\"\"\"+str(shape[1])+\"\"\"]\n",
    "    transform: [\"\"\"+str(affine[0])+\"\"\",\"\"\"+str(affine[1])+\"\"\",\"\"\"+str(affine[2])+\"\"\",\"\"\"+str(affine[3])+\"\"\",\"\"\"+str(affine[4])+\"\"\",\"\"\"+str(affine[5])+\"\"\", 0,0,1]\n",
    "\n",
    "lineage: {}\n",
    "measurements:\n",
    "\"\"\")\n",
    "    text_p2 = \"\"\"\"\"\"\n",
    "\n",
    "    text_p2_1 = \"\"\"\n",
    "  classified_images:\n",
    "    path: \"\"\"+str(file)+\"\"\"\"\"\"\n",
    "    text_p2 = text_p2 + text_p2_1\n",
    "    \n",
    "    text_p3 = \"\"\"\n",
    "\n",
    "properties:\n",
    "  odc:file_format: GeoTIFF\n",
    "  datetime: \"\"\"+str(date_uuid)+\"\"\"T10:30:00Z\n",
    "    \"\"\"\n",
    "    yaml_text = open(file.replace('.tif', '.yaml'), \"wt\")\n",
    "    yaml_text.write(text_p1+text_p2+text_p3)\n",
    "    yaml_text.close()\n",
    "    os.system(\"\"\"cd /home/asi/datacube_conf; \n",
    "    datacube dataset add \"\"\"+file.replace('.tif', '.yaml'))\n",
    "    \n",
    "    f.value += 1\n",
    "        \n",
    "print(colored('All classified image products have been imported into the ODC','green'))"
   ]
  },
  {
   "cell_type": "code",
   "execution_count": null,
   "metadata": {},
   "outputs": [],
   "source": []
  }
 ],
 "metadata": {
  "kernelspec": {
   "display_name": "Python 3 (ipykernel)",
   "language": "python",
   "name": "python3"
  },
  "language_info": {
   "codemirror_mode": {
    "name": "ipython",
    "version": 3
   },
   "file_extension": ".py",
   "mimetype": "text/x-python",
   "name": "python",
   "nbconvert_exporter": "python",
   "pygments_lexer": "ipython3",
   "version": "3.8.17"
  },
  "varInspector": {
   "cols": {
    "lenName": 16,
    "lenType": 16,
    "lenVar": 40
   },
   "kernels_config": {
    "python": {
     "delete_cmd_postfix": "",
     "delete_cmd_prefix": "del ",
     "library": "var_list.py",
     "varRefreshCmd": "print(var_dic_list())"
    },
    "r": {
     "delete_cmd_postfix": ") ",
     "delete_cmd_prefix": "rm(",
     "library": "var_list.r",
     "varRefreshCmd": "cat(var_dic_list()) "
    }
   },
   "types_to_exclude": [
    "module",
    "function",
    "builtin_function_or_method",
    "instance",
    "_Feature"
   ],
   "window_display": false
  }
 },
 "nbformat": 4,
 "nbformat_minor": 2
}
