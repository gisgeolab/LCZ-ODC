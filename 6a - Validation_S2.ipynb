{
 "cells": [
  {
   "cell_type": "markdown",
   "id": "4855abfd-05fc-4705-9af1-229b72795ac1",
   "metadata": {
    "tags": []
   },
   "source": [
    "<div class=\"alert alert-info\">\n",
    "<u><strong>Authors:</strong></u> <b>Alberto Vavassori</b> (alberto.vavassori@polimi.it), <b>Emanuele Capizzi</b> (emanuele.capizzi@polimi.it) - DICA - Politecnico di Milano - GIS GEOLab <br>\n",
    "Developed within the LCZ-ODC project, funded by the Italian Space Agency (agreement n. 2022-30-HH.0).\n",
    "</div>"
   ]
  },
  {
   "cell_type": "markdown",
   "id": "9656c4a0-cec3-40d1-a79a-15926fc2733f",
   "metadata": {
    "tags": []
   },
   "source": [
    "# LCZ classification accuracy assessment\n",
    "\n",
    "<a id='TOC_TOP'></a>\n",
    "Notebook structure:  <br>\n",
    "\n",
    "[Part 1: Classification accuracy on testing samples](#sec1.0)\n",
    "\n",
    " 1. [Import testing samples](#sec1)  \n",
    " 2. [Rasterize testing samples](#sec2)\n",
    " 3. [Import the classified image to be assessed](#sec3)\n",
    " 4. [Assess classification accuracy on testing samples](#sec4)\n",
    " \n",
    "[Part 2: Inter-comparison with LCZ Generator product](#sec2.0)\n",
    "\n",
    " 5. [Accuracy of LCZ Generator product](#sec5)\n",
    " 6. [Extraction of samples for inter-comparison](#sec6)\n",
    " 7. [Computation of confusion matrix and consistency metrics](#sec7)\n",
    " \n",
    "<hr>"
   ]
  },
  {
   "cell_type": "markdown",
   "id": "1a04da65-b54a-4ade-a1b0-3196f07805a9",
   "metadata": {},
   "source": [
    "This Notebook is meant to verify the quality of the classification using testing samples. These samples consist of an external dataset that was not used within the classification step. The testing samples are always defined by the user and can be imported into this Notebook."
   ]
  },
  {
   "cell_type": "markdown",
   "id": "b0b49997-9f8f-4b95-a92b-66b0e5b35c9e",
   "metadata": {
    "tags": []
   },
   "source": [
    "### Import libraries"
   ]
  },
  {
   "cell_type": "markdown",
   "id": "dc262695-734b-4fdd-9870-ded7709edefd",
   "metadata": {},
   "source": [
    "<div class=\"alert alert-warning\" role=\"alert\">\n",
    "<span>&#9888;</span>\n",
    "Note: the Notebook relies on the <a href='https://gdal.org/' target='_blank'><em>gdal</em></a> Python library; make sure you have it installed in your environment.\n",
    "</div>"
   ]
  },
  {
   "cell_type": "code",
   "execution_count": null,
   "id": "4a1c5c67-31a3-4067-88bf-7830cbc3644d",
   "metadata": {
    "tags": []
   },
   "outputs": [],
   "source": [
    "import warnings\n",
    "warnings.filterwarnings(\"ignore\")\n",
    "\n",
    "import glob\n",
    "import geopandas as gpd\n",
    "import matplotlib\n",
    "import matplotlib.pyplot as plt\n",
    "import matplotlib.colors as colors\n",
    "import rasterio\n",
    "from rasterio.plot import show\n",
    "from rasterio.mask import mask\n",
    "from rasterio.windows import Window\n",
    "from rasterio.enums import Resampling\n",
    "import numpy as np\n",
    "import pandas as pd\n",
    "import seaborn as sns\n",
    "import ipywidgets as widgets\n",
    "from osgeo import gdal, ogr, gdalconst, gdal_array, osr\n",
    "from sklearn.metrics import accuracy_score, confusion_matrix, classification_report\n",
    "from shapely.geometry import box"
   ]
  },
  {
   "cell_type": "code",
   "execution_count": null,
   "id": "951322b5-4e4d-449e-9cff-0d6ad1819dde",
   "metadata": {
    "tags": []
   },
   "outputs": [],
   "source": [
    "# Import functions and set auto-reload\n",
    "from functions import *\n",
    "%load_ext autoreload\n",
    "%autoreload 2"
   ]
  },
  {
   "cell_type": "markdown",
   "id": "d43f7251-18e6-48ae-b939-91c91a9b1dac",
   "metadata": {},
   "source": [
    "<div class=\"alert alert-success\">\n",
    "\n",
    "# <a id='sec1.0'></a> Part 1: Classification accuracy on testing samples\n",
    "<a id='sec2'></a>\n",
    "[Back to top](#TOC_TOP)\n",
    "\n",
    "</div>"
   ]
  },
  {
   "cell_type": "markdown",
   "id": "379d6052-2d61-4133-8844-30544712f59c",
   "metadata": {
    "tags": []
   },
   "source": [
    "## 1. <a id='sec1'></a> Import testing samples\n",
    "[Back to top](#TOC_TOP)"
   ]
  },
  {
   "cell_type": "markdown",
   "id": "f03450e5-449e-41c0-bfd3-f03f5ee625f8",
   "metadata": {},
   "source": [
    "First, the following dictionary creates the correspondance between the date of acquisition of Sentinel-2 (key) and of PRISMA (value):"
   ]
  },
  {
   "cell_type": "code",
   "execution_count": null,
   "id": "de9e09bf-f6b4-482b-8a4d-f0d54fa40c90",
   "metadata": {
    "tags": []
   },
   "outputs": [],
   "source": [
    "prisma_s2_dates = {'2023-02-10': '2023-02-09',\n",
    "                   '2023-03-22': '2023-03-22',\n",
    "                   '2023-04-26': '2023-04-08',\n",
    "                   '2023-06-25': '2023-06-17',\n",
    "                   '2023-07-10': '2023-07-10',\n",
    "                   '2023-08-19': '2023-08-08'\n",
    "}"
   ]
  },
  {
   "cell_type": "markdown",
   "id": "ed49bc38-ad56-41e8-b442-2c55749abf63",
   "metadata": {},
   "source": [
    "First, select the Sentinel-2 image date:"
   ]
  },
  {
   "cell_type": "code",
   "execution_count": null,
   "id": "6f9d5b77-2919-4c7f-a4f6-041362ee60e7",
   "metadata": {
    "tags": []
   },
   "outputs": [],
   "source": [
    "date_s2_w = widgets.Dropdown(\n",
    "    options=['2023-02-10', '2023-03-22', '2023-04-26', '2023-06-25', '2023-07-10', '2023-08-19'],\n",
    "    value='2023-02-10',\n",
    "    description='Sentinel-2 date:',\n",
    "    disabled=False,\n",
    "    layout={'width': 'max-content'},\n",
    "    style = {'description_width': 'initial'}\n",
    ")\n",
    "date_s2_w"
   ]
  },
  {
   "cell_type": "code",
   "execution_count": null,
   "id": "cde817e6-b9ba-4c57-a070-63a542bd3a65",
   "metadata": {
    "tags": []
   },
   "outputs": [],
   "source": [
    "sel_s2_date = date_s2_w.value\n",
    "selected_s2_image = 'S2_outputs/S2_'+ sel_s2_date.replace('-', '') + '_20m_clip.tif'\n",
    "selected_prisma_image = 'PRISMA_outputs/coregistered/PR_VNIR_' + prisma_s2_dates[sel_s2_date].replace('-', '') + '_30m.tif'\n",
    "print(f\"The selected date is --> Sentinel-2: {sel_s2_date}.\")"
   ]
  },
  {
   "cell_type": "markdown",
   "id": "8a17155a-b39a-495b-9c40-e7f472d946a3",
   "metadata": {},
   "source": [
    "Set the legend that will be used henceforth for the plots:"
   ]
  },
  {
   "cell_type": "code",
   "execution_count": null,
   "id": "06e73544-d0ed-473a-ab01-d862e592f504",
   "metadata": {
    "tags": []
   },
   "outputs": [],
   "source": [
    "legend = {\n",
    "    2: ['Compact mid-rise', '#D10000'],\n",
    "    3: ['Compact low-rise', '#CD0000'],\n",
    "    5: ['Open mid-rise', '#FF6600'],\n",
    "    6: ['Open low-rise', '#FF9955'],\n",
    "    8: ['Large low-rise', '#BCBCBC'],\n",
    "    101: ['Dense trees', '#006A00'],\n",
    "    102: ['Scattered trees', '#00AA00'],\n",
    "    104: ['Low plants', '#B9DB79'],\n",
    "    105: ['Bare rock or paved', '#545454'],\n",
    "    106: ['Bare soil or sand', '#FBF7AF'],\n",
    "    107: ['Water', '#6A6AFF']\n",
    "}"
   ]
  },
  {
   "cell_type": "markdown",
   "id": "bd354c67-f882-4328-9b1e-8837f4005943",
   "metadata": {},
   "source": [
    "The following function displays the testing samples on a map."
   ]
  },
  {
   "cell_type": "code",
   "execution_count": null,
   "id": "3e56d8df-147f-423b-8271-651ab0521f85",
   "metadata": {
    "tags": []
   },
   "outputs": [],
   "source": [
    "testing_folder = './layers/testing_samples/testing_set_' + prisma_s2_dates[sel_s2_date].replace('-', '') + '.gpkg'\n",
    "cmm_folder = './layers/CMM.gpkg'"
   ]
  },
  {
   "cell_type": "code",
   "execution_count": null,
   "id": "dc9ea226-9736-477d-8981-84bc43e1a8ef",
   "metadata": {
    "tags": []
   },
   "outputs": [],
   "source": [
    "testing, m, shapes = plot_training_samples(testing_folder, cmm_folder, legend)"
   ]
  },
  {
   "cell_type": "code",
   "execution_count": null,
   "id": "ff8c6abc-eb82-4680-b0a1-27f52a874dee",
   "metadata": {
    "tags": []
   },
   "outputs": [],
   "source": [
    "m"
   ]
  },
  {
   "cell_type": "markdown",
   "id": "cbeb65ca-5c9f-4b37-b9d4-d504e5c457f7",
   "metadata": {},
   "source": [
    "The following function imports the testing samples and computes the area of each LCZ class. The function outputs a plot with the total area of each LCZ class as well as the path to the vector layer that will be used in the following."
   ]
  },
  {
   "cell_type": "markdown",
   "id": "c3b1ce2a-90e6-453c-a6b2-b9936babcd73",
   "metadata": {},
   "source": [
    "<div class=\"alert alert-warning\" role=\"alert\">\n",
    "<span>&#9888;</span>\n",
    "<a id='warning'></a> \n",
    "\n",
    "**Note**:\n",
    "Testing samples must be stored in `.gpkg` format as vector multi-polygons, and the file must contain a column `LCZ` with integer values corresponding to the LCZ class, as reported in the dictionary `legend`."
   ]
  },
  {
   "cell_type": "markdown",
   "id": "3769b87b-7265-4d69-abda-560ca1a76df2",
   "metadata": {},
   "source": [
    "</div>\n",
    "<div class=\"alert alert-warning\" role=\"alert\">\n",
    "<span>&#9888;</span>\n",
    "<a id='warning'></a> Testing samples are time-dependent, especially for the natural classes; they must be updated if there are changes (e.g. in the land cover).  The following function imports the training samples specific to the selected PRISMA acquisition date.\n",
    "</div>"
   ]
  },
  {
   "cell_type": "code",
   "execution_count": null,
   "id": "df579028-f388-4287-b083-c767461f8759",
   "metadata": {
    "tags": []
   },
   "outputs": [],
   "source": [
    "vector_LCZ_path = testing_area(prisma_s2_dates[sel_s2_date], legend)"
   ]
  },
  {
   "cell_type": "markdown",
   "id": "6fc3b2e3-3a95-4456-83bf-efd887b8e2de",
   "metadata": {
    "tags": []
   },
   "source": [
    "## 2. <a id='sec2'></a>Rasterize testing samples\n",
    "[Back to top](#TOC_TOP)"
   ]
  },
  {
   "cell_type": "markdown",
   "id": "b57aef21-af9a-4c95-b46a-d60daa961dd5",
   "metadata": {},
   "source": [
    "</div>\n",
    "<div class=\"alert alert-warning\" role=\"alert\">\n",
    "<span>&#9888;</span>\n",
    "<a id='warning'></a> If testing samples are already rasterized, skip this section and go to the next one.\n",
    "</div>"
   ]
  },
  {
   "cell_type": "markdown",
   "id": "f590ffa6-2b88-40f2-9a82-10142de97387",
   "metadata": {},
   "source": [
    "It is necessary to convert the testing set (provided in vector format as Geopackage) in raster format using the following functions."
   ]
  },
  {
   "cell_type": "code",
   "execution_count": null,
   "id": "60d58c7d-f3ba-445f-b427-cbb909890635",
   "metadata": {
    "tags": []
   },
   "outputs": [],
   "source": [
    "raster_reference = 'S2_outputs/S2_'+ sel_s2_date.replace('-', '') +'_20m_clip.tif'\n",
    "output = './layers/testing_samples/testing_set_'+ prisma_s2_dates[sel_s2_date].replace('-', '') + '_20m.tif'\n",
    "attribute = 'LCZ'\n",
    "projection = 32632"
   ]
  },
  {
   "cell_type": "code",
   "execution_count": null,
   "id": "61a55cd6-d0d1-4c56-b5b3-357dfbf4c0fb",
   "metadata": {
    "tags": []
   },
   "outputs": [],
   "source": [
    "rasterized_result = rasterize_training('S2_outputs/S2_' + sel_s2_date.replace('-', '') + '_20m.tif', vector_LCZ_path, output, attribute, projection)"
   ]
  },
  {
   "cell_type": "code",
   "execution_count": null,
   "id": "e85022c9-a147-418a-ac04-ff44c3834d8c",
   "metadata": {
    "tags": []
   },
   "outputs": [],
   "source": [
    "#plot_raster_training(output, legend)"
   ]
  },
  {
   "cell_type": "code",
   "execution_count": null,
   "id": "e56b7f24-22e6-49b8-835c-40eedb559be2",
   "metadata": {
    "tags": []
   },
   "outputs": [],
   "source": [
    "bbox = prisma_bbox(selected_prisma_image, prisma_s2_dates[sel_s2_date])"
   ]
  },
  {
   "cell_type": "code",
   "execution_count": null,
   "id": "6ddf9b37-0e3b-4270-b4de-d9753fa3a12f",
   "metadata": {
    "tags": []
   },
   "outputs": [],
   "source": [
    "mask_prisma = mask_prisma_image(selected_prisma_image)"
   ]
  },
  {
   "cell_type": "code",
   "execution_count": null,
   "id": "7df2bcb7-ced9-4311-9df3-22ac3e28d304",
   "metadata": {
    "tags": []
   },
   "outputs": [],
   "source": [
    "study_area = gpd.read_file(bbox)"
   ]
  },
  {
   "cell_type": "code",
   "execution_count": null,
   "id": "8e3fb42f-c325-48fc-9d2b-60b6b3b21ca0",
   "metadata": {
    "tags": []
   },
   "outputs": [],
   "source": [
    "roi_ds = './layers/testing_samples/testing_set_'+ prisma_s2_dates[sel_s2_date].replace('-', '')+'_20m.tif'\n",
    "roi_new_path = './layers/testing_samples/testing_set_'+ prisma_s2_dates[sel_s2_date].replace('-', '')+'_20m.tif'\n",
    "clip_image_study_area(roi_ds, roi_new_path, study_area)"
   ]
  },
  {
   "cell_type": "markdown",
   "id": "58ee727c-4ecf-4ef6-bda5-231c110ab764",
   "metadata": {
    "tags": []
   },
   "source": [
    "## 3. <a id='sec3'></a>Import the classified image to be assessed\n",
    "[Back to top](#TOC_TOP)"
   ]
  },
  {
   "cell_type": "markdown",
   "id": "a87f51df-7224-482a-bbe3-729ba55feddd",
   "metadata": {},
   "source": [
    "Select the method used for classification to chose the image that want to be tested:"
   ]
  },
  {
   "cell_type": "code",
   "execution_count": null,
   "id": "c201456d-3213-4ab3-9a8a-0006d432141d",
   "metadata": {
    "tags": []
   },
   "outputs": [],
   "source": [
    "classification_method_w = widgets.RadioButtons(\n",
    "    options=['RandomForest', 'XGBoost', 'AdaBoost', 'GradientBoost'],\n",
    "    value='RandomForest',\n",
    "    layout={'width': 'max-content'},\n",
    "    description='Classifier:',\n",
    "    disabled=False\n",
    ")\n",
    "classification_method_w"
   ]
  },
  {
   "cell_type": "code",
   "execution_count": null,
   "id": "507177b4-9097-4746-a434-6b6852b7bb28",
   "metadata": {
    "tags": []
   },
   "outputs": [],
   "source": [
    "classification_method = classification_method_w.value\n",
    "print(f'Selected classification method: {classification_method}')"
   ]
  },
  {
   "cell_type": "code",
   "execution_count": null,
   "id": "47a4135d-0537-4135-8ae0-caf847eec338",
   "metadata": {
    "tags": []
   },
   "outputs": [],
   "source": [
    "print('Selected image: classified_images/classified_' + classification_method + '_' + sel_s2_date.replace('-', '') + '_medianfilter_20m_align_S2_masked.tif')\n",
    "classified_image = rasterio.open('classified_images/comparison_PRISMA_S2/classified_' + classification_method + '_' + sel_s2_date.replace('-', '') + '_medianfilter_20m_align_S2_masked.tif')\n",
    "classified_image = classified_image.read()\n",
    "print(f\"Selected image shape: {classified_image.shape}\")"
   ]
  },
  {
   "cell_type": "code",
   "execution_count": null,
   "id": "ee2d6b4d-8abd-4308-8785-bc567d86b12a",
   "metadata": {
    "tags": []
   },
   "outputs": [],
   "source": [
    "plot_classified_image(sel_s2_date, classified_image, classification_method, legend)"
   ]
  },
  {
   "cell_type": "markdown",
   "id": "e182b231-83d8-4dc0-a0ff-b15e2ff65099",
   "metadata": {
    "tags": []
   },
   "source": [
    "## 4. <a id='sec4'></a>Assess classification accuracy on testing samples\n",
    "[Back to top](#TOC_TOP)"
   ]
  },
  {
   "cell_type": "markdown",
   "id": "c799b5a2-178a-4ead-9b01-44ae6c981c4a",
   "metadata": {},
   "source": [
    "In this section, some accuracy metrics are computed on the testing samples, specifically:\n",
    "* accuracy: overall accuracy of the model, i.e. the fraction of the total samples that were correctly classified\n",
    "\n",
    "$$ \\frac{TP+TN}{TP+TN+FP+FN} $$\n",
    "\n",
    "* precision: fraction of predictions as a positive class were actually positive\n",
    "\n",
    "$$ \\frac{TP}{TP+FP} $$\n",
    "\n",
    "* recall: fraction of all positive samples that are correctly predicted as positive\n",
    "\n",
    "$$ \\frac{TP}{TP+FN} $$\n",
    "\n",
    "* f1-score: combination of precision and recall; mathematically it is the harmonic mean of precision and recall\n",
    "\n",
    "$$\\frac{2(precision*recall)}{precision+recall}$$\n",
    "\n",
    "* support: number of occurrences of each class in the testing sample."
   ]
  },
  {
   "cell_type": "code",
   "execution_count": null,
   "id": "676f3667-ea34-4795-be3c-820a5e00d202",
   "metadata": {
    "tags": []
   },
   "outputs": [],
   "source": [
    "accuracy, confusion, report, report_df = print_accuracy_s2(classification_method, sel_s2_date, prisma_s2_dates, legend)"
   ]
  },
  {
   "cell_type": "code",
   "execution_count": null,
   "id": "639cf8a9-ef1d-4d05-a4c7-3da5724a0d9c",
   "metadata": {
    "tags": []
   },
   "outputs": [],
   "source": [
    "confusion"
   ]
  },
  {
   "cell_type": "code",
   "execution_count": null,
   "id": "2cbd37a4-e9b4-4bb8-92ce-309f48e1139e",
   "metadata": {
    "tags": []
   },
   "outputs": [],
   "source": [
    "report_df"
   ]
  },
  {
   "cell_type": "markdown",
   "id": "fd019665-aa5c-46fa-9dca-fbcc8dfd8cf8",
   "metadata": {},
   "source": [
    "<div class=\"alert alert-success\">\n",
    "\n",
    "# <a id='sec2.0'></a> Part 2: Inter-comparison with LCZ Generator product\n",
    "<a id='sec2'></a>\n",
    "[Back to top](#TOC_TOP)\n",
    "\n",
    "</div>"
   ]
  },
  {
   "cell_type": "markdown",
   "id": "ad166a0e-26a8-405d-b625-cf85effef806",
   "metadata": {},
   "source": [
    "## 5. <a id='sec5'></a> Accuracy of LCZ Generator product\n",
    "[Back to top](#TOC_TOP)"
   ]
  },
  {
   "cell_type": "markdown",
   "id": "f948a564-12f5-4f48-9aa5-22e0965d21a0",
   "metadata": {},
   "source": [
    "The accuracy of the LCZ Generator product is evaluated internally, and it is provided as output. Here we read the confusion matrix from the csv file, and we compute accuracy metrics."
   ]
  },
  {
   "cell_type": "code",
   "execution_count": null,
   "id": "349b6c62-447a-4613-b3ca-4e2936d257db",
   "metadata": {
    "tags": []
   },
   "outputs": [],
   "source": [
    "#directory = './layers/lcz_generator/comparison_' + prisma_s2_dates[sel_s2_date].replace('-', '') + '/data/*cm_average_formatted.csv'\n",
    "#confusion_matrix_path = glob.glob(directory)[0]"
   ]
  },
  {
   "cell_type": "code",
   "execution_count": null,
   "id": "a9206bf6-d26e-4f38-8857-7f9ab6d44c73",
   "metadata": {
    "tags": []
   },
   "outputs": [],
   "source": [
    "#report = lcz_generator_accuracy(confusion_matrix_path, legend)"
   ]
  },
  {
   "cell_type": "code",
   "execution_count": null,
   "id": "85e33e9e-9a39-460d-aa54-3b41464425ab",
   "metadata": {
    "tags": []
   },
   "outputs": [],
   "source": [
    "#report"
   ]
  },
  {
   "cell_type": "markdown",
   "id": "6925febc-42dc-4bb4-8a98-3ca7f44ea86b",
   "metadata": {
    "tags": []
   },
   "source": [
    "## 6. <a id='sec6'></a>Extraction of samples for inter-comparison with LCZ Generator product and with the PRISMA-derived map\n",
    "[Back to top](#TOC_TOP)"
   ]
  },
  {
   "cell_type": "markdown",
   "id": "c4c37207-823c-4153-b6b4-f154abc46430",
   "metadata": {},
   "source": [
    "<div class=\"alert alert-warning\" role=\"alert\">\n",
    "<span>&#9888;</span>\n",
    "This section needs some pre-processing that can be performed entirely in QGIS. Specifically:\n",
    "</div>"
   ]
  },
  {
   "cell_type": "markdown",
   "id": "4ed596da-fc9c-424d-ba1c-c4a4fe55e684",
   "metadata": {},
   "source": [
    "* The two maps have to be resampled to 10m resolution in QGIS, given that they have different spatial resolution (100m and 30m).\n",
    "* The LCZ Generator map must be aligned to the PRISMA map.\n",
    "* The two classified maps must finally be post-processed with a median filter of 9 pixels (the size is coherent with the 3 pixel window size that is used for post-processing the PRISMA map in the LCZ-ODC project workflow).\n",
    "* Finally, the LCZ Generator map must be reclassified so that the LCZ classes are encoded as in the PRISMA map."
   ]
  },
  {
   "cell_type": "markdown",
   "id": "accb228b-1aa4-466e-94f7-bd0a0e3c1e2f",
   "metadata": {},
   "source": [
    "Once the above pre-processing is done, clip the LCZ Generator map to the extent of the PRISMA map (this is crucial because the PRISMA map is rotated with respect to the other one due to the acquisition mode of the satellite)."
   ]
  },
  {
   "cell_type": "code",
   "execution_count": null,
   "id": "ee90687c-3abc-4c0f-82b7-69b48cf9befa",
   "metadata": {
    "tags": []
   },
   "outputs": [],
   "source": [
    "# Paths to your input rasters (pre-processed in QGIS)\n",
    "lcz_generator_map_path = './layers/lcz_generator/comparison_' + prisma_s2_dates[sel_s2_date].replace('-', '') + '/lcz_generator_map_' + prisma_s2_dates[sel_s2_date].replace('-', '') + '_10m_align_medianfilter9_reclass.tif'\n",
    "s2_map_path = './layers/lcz_generator/comparison_' + prisma_s2_dates[sel_s2_date].replace('-', '') + '/s2_' + sel_s2_date.replace('-', '') + '_10m_align_medianfilter9.tif'"
   ]
  },
  {
   "cell_type": "code",
   "execution_count": null,
   "id": "51529966-11fd-45d8-ae88-e86402a286f0",
   "metadata": {
    "tags": []
   },
   "outputs": [],
   "source": [
    "with rasterio.open(lcz_generator_map_path) as src1:\n",
    "    lcz_generator_map = src1.read()\n",
    "    lcz_generator_map_profile = src1.profile"
   ]
  },
  {
   "cell_type": "code",
   "execution_count": null,
   "id": "53f3b821-c158-4d27-b7fe-ff8a7c9626b6",
   "metadata": {
    "tags": []
   },
   "outputs": [],
   "source": [
    "with rasterio.open(s2_map_path) as src2:\n",
    "    s2_map = src2.read()\n",
    "    s2_map_profile = src2.profile"
   ]
  },
  {
   "cell_type": "code",
   "execution_count": null,
   "id": "0dd1ceb7-ecb2-4b41-b803-4e532f6b36b9",
   "metadata": {
    "tags": []
   },
   "outputs": [],
   "source": [
    "s2_map[s2_map < 0] = np.nan\n",
    "nan_indices = np.isnan(s2_map)\n",
    "lcz_generator_map[nan_indices] = np.nan"
   ]
  },
  {
   "cell_type": "code",
   "execution_count": null,
   "id": "4f45efd2-dce4-424a-8c90-f66d196e8212",
   "metadata": {
    "tags": []
   },
   "outputs": [],
   "source": [
    "with rasterio.open('./layers/lcz_generator/comparison_' + prisma_s2_dates[sel_s2_date].replace('-', '') + '/lcz_generator_map_' + prisma_s2_dates[sel_s2_date].replace('-', '') + '_10m_align_medianfilter9_reclass_clip.tif', 'w', **lcz_generator_map_profile) as dst:\n",
    "    dst.write(lcz_generator_map)"
   ]
  },
  {
   "cell_type": "code",
   "execution_count": null,
   "id": "8bc0f0fa-0041-4c86-9401-d77ce5cd5a46",
   "metadata": {
    "tags": []
   },
   "outputs": [],
   "source": [
    "with rasterio.open('./layers/lcz_generator/comparison_' + prisma_s2_dates[sel_s2_date].replace('-', '') + '/s2_' + sel_s2_date.replace('-', '') + '_10m_align_medianfilter9_reclass.tif', 'w', **lcz_generator_map_profile) as dst:\n",
    "    dst.write(s2_map)"
   ]
  },
  {
   "cell_type": "markdown",
   "id": "29fdf895-1eda-4234-91eb-92776bdad521",
   "metadata": {},
   "source": [
    "The inter-comparison is hereafter carried out following 3 sampling schemas."
   ]
  },
  {
   "cell_type": "markdown",
   "id": "620d5fb5-df6c-44df-9461-81eb6d7df354",
   "metadata": {},
   "source": [
    "<u>Sampling schema: random sampling with fixed pixel number<u>"
   ]
  },
  {
   "cell_type": "markdown",
   "id": "2008f112-040d-494c-90ae-f3df41701bda",
   "metadata": {},
   "source": [
    "This first sampling schema considers a fixed number of pixels, calculated using the Cochran's formula for large populations.\n",
    "Considering a precision level of +/-3%, a confidence level of 98%, and an estimated proportion of 0.5, the appropriate sample size is about 1500.\n",
    "In the random sampling, the same number of pixels is extracted out of each class, equal to 1500/n (n being the number of classes). In this case, n = 11."
   ]
  },
  {
   "cell_type": "code",
   "execution_count": null,
   "id": "1fce4de5-a361-4623-9496-ae56eab448e9",
   "metadata": {
    "tags": []
   },
   "outputs": [],
   "source": [
    "raster1_path = './layers/lcz_generator/comparison_' + prisma_s2_dates[sel_s2_date].replace('-', '') + '/lcz_generator_map_' + prisma_s2_dates[sel_s2_date].replace('-', '') + '_10m_align_medianfilter9_reclass_clip.tif'\n",
    "raster2_path = './layers/lcz_generator/comparison_' + prisma_s2_dates[sel_s2_date].replace('-', '') + '/s2_' + sel_s2_date.replace('-', '') + '_10m_align_medianfilter9_reclass.tif'\n",
    "raster3_path = './layers/lcz_generator/comparison_' + prisma_s2_dates[sel_s2_date].replace('-', '') + '/prisma_' + prisma_s2_dates[sel_s2_date].replace('-', '') + '_10m_align_medianfilter9_reclass.tif'"
   ]
  },
  {
   "cell_type": "code",
   "execution_count": null,
   "id": "344ac447-77ff-4836-a847-78ae4120628f",
   "metadata": {
    "tags": []
   },
   "outputs": [],
   "source": [
    "output_raster1_path = './layers/lcz_generator/comparison_' + prisma_s2_dates[sel_s2_date].replace('-', '') + '/lcz_generator_map_' + prisma_s2_dates[sel_s2_date].replace('-', '') + '_10m_align_medianfilter9_reclass_clip_pixels.tif'\n",
    "output_raster2_path = './layers/lcz_generator/comparison_' + prisma_s2_dates[sel_s2_date].replace('-', '') + '/s2_' + sel_s2_date.replace('-', '') + '_10m_align_medianfilter9_reclass_pixels.tif'\n",
    "output_raster3_path = './layers/lcz_generator/comparison_' + prisma_s2_dates[sel_s2_date].replace('-', '') + '/prisma_' + prisma_s2_dates[sel_s2_date].replace('-', '') + '_10m_align_medianfilter9_reclass_pixels.tif'"
   ]
  },
  {
   "cell_type": "code",
   "execution_count": null,
   "id": "40c72947-e28c-4777-b25d-c0a200483447",
   "metadata": {
    "tags": []
   },
   "outputs": [],
   "source": [
    "pixels_number = 1500"
   ]
  },
  {
   "cell_type": "code",
   "execution_count": null,
   "id": "a2cf5927-04d8-493c-b586-360e3c5bca0c",
   "metadata": {
    "tags": []
   },
   "outputs": [],
   "source": [
    "random_sampling(raster1_path, raster2_path, raster3_path, output_raster1_path, output_raster2_path, output_raster3_path, pixels_number, legend.keys())"
   ]
  },
  {
   "cell_type": "markdown",
   "id": "d4ebf16e-1dec-40ea-adc7-9fc0588f689f",
   "metadata": {},
   "source": [
    "<u>Sampling schema: stratified random sampling with fixed pixel number<u>"
   ]
  },
  {
   "cell_type": "markdown",
   "id": "6da0114f-ba63-4689-924e-ecb008010d95",
   "metadata": {},
   "source": [
    "A second sampling schema considers a fixed number of total pixels, calculated using the Cochran's formula for large populations, and subdivides it to each class (or stratum) according to its size (number of pixels). Considering a precision level of +/-3%, a confidence level of 98%, and an estimated proportion of 0.5, the appropriate sample size is about 1500. In the stratified random sampling, the number of pixels to be extracted per class is computed as:\n",
    "\n",
    "$$ n_h = \\frac{N_h}{N} n $$\n",
    "\n",
    "where $n_h$ is the sample size of the h-th class, $N_h$ is the population size of the h-th class, $N$ is the size of the entire population (number of pixels in the raster, excluding nans) and $n$ is the size of the entire sample (1500)."
   ]
  },
  {
   "cell_type": "code",
   "execution_count": null,
   "id": "531a603c-3597-4bfa-bc99-7f200b657fdb",
   "metadata": {
    "tags": []
   },
   "outputs": [],
   "source": [
    "raster1_path = './layers/lcz_generator/comparison_' + prisma_s2_dates[sel_s2_date].replace('-', '') + '/lcz_generator_map_' + prisma_s2_dates[sel_s2_date].replace('-', '') + '_10m_align_medianfilter9_reclass_clip.tif'\n",
    "raster2_path = './layers/lcz_generator/comparison_' + prisma_s2_dates[sel_s2_date].replace('-', '') + '/s2_' + sel_s2_date.replace('-', '') + '_10m_align_medianfilter9_reclass.tif'\n",
    "raster3_path = './layers/lcz_generator/comparison_' + prisma_s2_dates[sel_s2_date].replace('-', '') + '/prisma_' + prisma_s2_dates[sel_s2_date].replace('-', '') + '_10m_align_medianfilter9_reclass.tif'"
   ]
  },
  {
   "cell_type": "code",
   "execution_count": null,
   "id": "e3a286ee-bfef-447d-bc1a-3c465ba25d11",
   "metadata": {
    "tags": []
   },
   "outputs": [],
   "source": [
    "output_raster1_path = './layers/lcz_generator/comparison_' + prisma_s2_dates[sel_s2_date].replace('-', '') + '/lcz_generator_map_' + prisma_s2_dates[sel_s2_date].replace('-', '') + '_10m_align_medianfilter9_reclass_clip_pixels_strat.tif'\n",
    "output_raster2_path = './layers/lcz_generator/comparison_' + prisma_s2_dates[sel_s2_date].replace('-', '') + '/s2_' + sel_s2_date.replace('-', '') + '_10m_align_medianfilter9_reclass_pixels_strat.tif'\n",
    "output_raster3_path = './layers/lcz_generator/comparison_' + prisma_s2_dates[sel_s2_date].replace('-', '') + '/prisma_' + prisma_s2_dates[sel_s2_date].replace('-', '') + '_10m_align_medianfilter9_reclass_pixels_strat.tif'"
   ]
  },
  {
   "cell_type": "code",
   "execution_count": null,
   "id": "8106cb6d-157f-441e-a447-c63b07e52444",
   "metadata": {
    "tags": []
   },
   "outputs": [],
   "source": [
    "# n: size of the entire sample\n",
    "n = 1500\n",
    "pixels_number = n"
   ]
  },
  {
   "cell_type": "code",
   "execution_count": null,
   "id": "56d6db50-a0b3-405e-ba9b-cdc9807a55d5",
   "metadata": {
    "tags": []
   },
   "outputs": [],
   "source": [
    "stratified_sampling(raster1_path, raster2_path, raster3_path, output_raster1_path, output_raster2_path, output_raster3_path, pixels_number, legend.keys())"
   ]
  },
  {
   "cell_type": "markdown",
   "id": "6f6af332-4dd3-46cb-b907-ec618572791a",
   "metadata": {},
   "source": [
    "<u>Sampling schema: take all pixels of the maps<u>"
   ]
  },
  {
   "cell_type": "markdown",
   "id": "da304698-dd35-4db6-8b6d-337f4ff52286",
   "metadata": {},
   "source": [
    "A third possibility consists in using all the pixels of both rasters for the comparison. If this is the case, just put as input in the below function to outputs of the first pre-processing, namely:"
   ]
  },
  {
   "cell_type": "code",
   "execution_count": null,
   "id": "a35a24d3-97aa-48dc-a788-fe7c4af51505",
   "metadata": {},
   "outputs": [],
   "source": [
    "# raster1_path = './layers/lcz_generator/comparison_20230209/lcz_generator_map_20230209_10m_align_medianfilter9_reclass_clip.tif'\n",
    "# raster2_path = './layers/lcz_generator/comparison_20230209/prisma_20230209_10m_align_medianfilter9_reclass.tif'"
   ]
  },
  {
   "cell_type": "markdown",
   "id": "fb55033c-7940-48f5-851e-68b5c0c1c72b",
   "metadata": {},
   "source": [
    "## 7. <a id='sec7'></a>Computation of confusion matrix and consistency metrics\n",
    "[Back to top](#TOC_TOP)"
   ]
  },
  {
   "cell_type": "markdown",
   "id": "d15aa7e7-48ec-478f-9d8b-f37d2bca2e26",
   "metadata": {},
   "source": [
    "**PRISMA vs Sentinel-2**"
   ]
  },
  {
   "cell_type": "code",
   "execution_count": null,
   "id": "951d5eaf-3608-4b7a-9fca-044fb54a1230",
   "metadata": {
    "tags": []
   },
   "outputs": [],
   "source": [
    "ref_raster_path = './layers/lcz_generator/comparison_' + prisma_s2_dates[sel_s2_date].replace('-', '') + '/s2_' + sel_s2_date.replace('-', '') + '_10m_align_medianfilter9_reclass_pixels_strat.tif'\n",
    "raster_path = './layers/lcz_generator/comparison_' + prisma_s2_dates[sel_s2_date].replace('-', '') + '/prisma_' + prisma_s2_dates[sel_s2_date].replace('-', '') + '_10m_align_medianfilter9_reclass_pixels_strat.tif'"
   ]
  },
  {
   "cell_type": "code",
   "execution_count": null,
   "id": "6e8e655c-605d-456d-a2ed-98b9e164833e",
   "metadata": {
    "tags": []
   },
   "outputs": [],
   "source": [
    "accuracy, confusion, report, report_df = inter_comparison(raster_path, ref_raster_path, legend)"
   ]
  },
  {
   "cell_type": "code",
   "execution_count": null,
   "id": "c0d6bf8f-abbd-4a24-88d8-0ddadaa40fe6",
   "metadata": {
    "tags": []
   },
   "outputs": [],
   "source": [
    "confusion"
   ]
  },
  {
   "cell_type": "code",
   "execution_count": null,
   "id": "cfe106d1-f123-4a3a-9caa-7b046bc9da42",
   "metadata": {
    "tags": []
   },
   "outputs": [],
   "source": [
    "report_df"
   ]
  },
  {
   "cell_type": "markdown",
   "id": "92411cd5-547a-4217-8c25-e1f48d457bc6",
   "metadata": {},
   "source": [
    "**PRISMA vs LCZ Generator**"
   ]
  },
  {
   "cell_type": "code",
   "execution_count": null,
   "id": "82fb3b13-1602-4606-942c-c91f0eb04c2f",
   "metadata": {
    "tags": []
   },
   "outputs": [],
   "source": [
    "ref_raster_path = './layers/lcz_generator/comparison_' + prisma_s2_dates[sel_s2_date].replace('-', '') + '/lcz_generator_map_' + prisma_s2_dates[sel_s2_date].replace('-', '') + '_10m_align_medianfilter9_reclass_clip_pixels_strat.tif'\n",
    "raster_path = './layers/lcz_generator/comparison_' + prisma_s2_dates[sel_s2_date].replace('-', '') + '/prisma_' + prisma_s2_dates[sel_s2_date].replace('-', '') + '_10m_align_medianfilter9_reclass_pixels_strat.tif'"
   ]
  },
  {
   "cell_type": "code",
   "execution_count": null,
   "id": "c287ae5c-78d0-4777-9844-f415190935b0",
   "metadata": {
    "tags": []
   },
   "outputs": [],
   "source": [
    "accuracy, confusion, report, report_df = inter_comparison(raster_path, ref_raster_path, legend)"
   ]
  },
  {
   "cell_type": "code",
   "execution_count": null,
   "id": "e9a73e46-33d3-4c18-94db-b755bd47d310",
   "metadata": {
    "tags": []
   },
   "outputs": [],
   "source": [
    "confusion"
   ]
  },
  {
   "cell_type": "code",
   "execution_count": null,
   "id": "98be9a17-747f-4df1-bb9c-5cc87b10c52d",
   "metadata": {
    "tags": []
   },
   "outputs": [],
   "source": [
    "report_df"
   ]
  },
  {
   "cell_type": "markdown",
   "id": "c824fca0-a222-4fae-b966-9f29cb30669c",
   "metadata": {},
   "source": [
    "**Sentinel-2 vs LCZ Generator**"
   ]
  },
  {
   "cell_type": "code",
   "execution_count": null,
   "id": "cfbae10c-0c75-41a6-a32a-8785cfa8535d",
   "metadata": {
    "tags": []
   },
   "outputs": [],
   "source": [
    "ref_raster_path = './layers/lcz_generator/comparison_' + prisma_s2_dates[sel_s2_date].replace('-', '') + '/lcz_generator_map_' + prisma_s2_dates[sel_s2_date].replace('-', '') + '_10m_align_medianfilter9_reclass_clip_pixels_strat.tif'\n",
    "raster_path = './layers/lcz_generator/comparison_' + prisma_s2_dates[sel_s2_date].replace('-', '') + '/s2_' + sel_s2_date.replace('-', '') + '_10m_align_medianfilter9_reclass_pixels_strat.tif'"
   ]
  },
  {
   "cell_type": "code",
   "execution_count": null,
   "id": "75825749-6c0d-46ea-a354-a14cdf791601",
   "metadata": {
    "tags": []
   },
   "outputs": [],
   "source": [
    "accuracy, confusion, report, report_df = inter_comparison(raster_path, ref_raster_path, legend)"
   ]
  },
  {
   "cell_type": "code",
   "execution_count": null,
   "id": "a58298bc-96cc-4b47-97cb-98783a764409",
   "metadata": {
    "tags": []
   },
   "outputs": [],
   "source": [
    "confusion"
   ]
  },
  {
   "cell_type": "code",
   "execution_count": null,
   "id": "fe493c2f-291e-4f6e-a2ce-ce592623f738",
   "metadata": {
    "tags": []
   },
   "outputs": [],
   "source": [
    "report_df"
   ]
  },
  {
   "cell_type": "code",
   "execution_count": null,
   "id": "4cfd2724-01d7-42ca-813b-3433c46f2ef2",
   "metadata": {},
   "outputs": [],
   "source": []
  },
  {
   "cell_type": "code",
   "execution_count": null,
   "id": "483f7a46-fd4d-4cb4-b63b-99ed15777d88",
   "metadata": {},
   "outputs": [],
   "source": []
  },
  {
   "cell_type": "code",
   "execution_count": null,
   "id": "62480f28-bd28-44f1-8878-749e3b648e1c",
   "metadata": {
    "tags": []
   },
   "outputs": [],
   "source": [
    "classi = [\"Compact Mid-rise\",\"Compact Low-rise\",\"Open Mid-rise\",\"Open Low-rise\",\"Large Low-rise\",\n",
    "          \"Dense trees\",\"Scattered trees\",\"Low plants\",\"Bare rock or paved\",\"Bare soil or sand\",\"Water\"]\n",
    "\n",
    "accur_s2_10feb = np.array([[2720,   50,  238,    2,   12,    0,    0,    0,    0,    0,    0],\n",
    "       [ 292, 1502,  210,  339,   53,    0,    0,    0,    0,    0,    0],\n",
    "       [ 384,   90, 1960,  155,    7,    0,    0,    0,    0,    0,    0],\n",
    "       [   4,  393,  215, 1887,   10,    0,   44,    0,   50,    0,    1],\n",
    "       [   0,   54,   18,   26, 2503,    0,    0,    0,   26,    1,    0],\n",
    "       [   0,    0,   10,   11,    0, 2217,  369,    0,    0,    0,    0],\n",
    "       [   0,    0,    2,  121,    2,  250, 2307,   17,   62,    6,    7],\n",
    "       [   0,    0,    0,    1,    0,    0,   97, 2618,    0,    0,    0],\n",
    "       [   0,    0,    0,   31,    2,    0,   10,   11,  625,    3,    0],\n",
    "       [   0,    0,    0,    0,   13,    0,    0,    0,    0, 2789,    0],\n",
    "       [   0,    0,    0,    0,    0,    0,    0,    0,    0,    0, 1450]])\n",
    "accur_s2_10feb = accur_s2_10feb / np.sum(accur_s2_10feb)*100\n",
    "\n",
    "accur_s2_25jun = np.array([[2570,   76,  356,    0,   20,    0,    0,    0,    0,    0,    0],\n",
    "       [ 308, 1542,  194,  321,   30,    0,    0,    0,    0,    0,    1],\n",
    "       [ 380,   89, 1981,  145,    1,    0,    0,    0,    0,    0,    0],\n",
    "       [  10,  393,  197, 1909,   19,    0,   59,    2,   13,    2,    0],\n",
    "       [  18,  103,   19,   65, 2193,    0,    0,    0,  230,    0,    0],\n",
    "       [   0,    0,    6,   19,    0, 1354,  528,    6,    0,    0,    0],\n",
    "       [   0,    0,   15,   98,    2,  328, 2246,   18,   39,   23,    5],\n",
    "       [   0,    0,    0,    0,    0,    1,   68, 3637,    0,  292,    4],\n",
    "       [   0,    0,    0,   25,    2,    0,    1,   14,  640,    0,    0],\n",
    "       [   0,    0,    0,    0,   12,    0,   52,  413,    0, 2463,    0],\n",
    "       [   0,    0,    0,    0,    0,    0,    0,    0,    0,    0, 1450]])\n",
    "accur_s2_25jun = accur_s2_25jun / np.sum(accur_s2_25jun)*100\n",
    "\n",
    "accur_s2_19aug = np.array([[2625,   55,  315,    3,   24,    0,    0,    0,    0,    0,    0],\n",
    "       [ 328, 1273,  225,  167,   40,    0,    0,    0,    0,    0,    0],\n",
    "       [ 384,   83, 2011,  112,    6,    0,    0,    0,    0,    0,    0],\n",
    "       [  10,  373,  269, 1457,    8,    0,   69,    1,   16,    3,    0],\n",
    "       [  11,   17,    7,   29, 2507,    0,    0,    0,   56,    1,    0],\n",
    "       [   0,    0,   14,   20,    0,  699,  508,    5,    0,    0,    0],\n",
    "       [   0,    0,   19,   94,    7,  271, 2408,   51,   49,    2,   15],\n",
    "       [   0,    0,    0,    0,    0,    0,   61, 4943,    0,  323,    0],\n",
    "       [   0,    0,    0,   13,   17,    0,    0,   43, 1260,   10,    0],\n",
    "       [   0,    0,    0,    0,   28,    0,   27,  677,    0, 1781,    0],\n",
    "       [   0,    0,    0,    0,    0,    0,    0,    0,    0,    0, 1146]])\n",
    "accur_s2_19aug = accur_s2_19aug / np.sum(accur_s2_19aug)*100"
   ]
  },
  {
   "cell_type": "code",
   "execution_count": null,
   "id": "901eb487-1f6f-4c0f-ba31-d2fa957b7def",
   "metadata": {
    "tags": []
   },
   "outputs": [],
   "source": [
    "from string import ascii_letters\n",
    "import numpy as np\n",
    "import pandas as pd\n",
    "import seaborn as sns\n",
    "import matplotlib.pyplot as plt\n",
    "\n",
    "sns.set_theme(style=\"white\")\n",
    "\n",
    "# Create a DataFrame from the matrix\n",
    "accuracy_prisma = pd.DataFrame(data = accur_s2_10feb)\n",
    "\n",
    "# Generate a mask for the upper triangle\n",
    "\n",
    "# Set up the matplotlib figure\n",
    "f, ax1 = plt.subplots(figsize=(10, 10))\n",
    "plt.tight_layout()\n",
    "\n",
    "#cbar_ax = f.add_axes([0.25, 0.01, 0.5, 0.02])  # Adjust the position and size as needed\n",
    "\n",
    "# Generate a custom diverging colormap\n",
    "#cmap = sns.diverging_palette(230, 20, as_cmap=True)\n",
    "cmap = 'Greens'\n",
    "# Draw the heatmap with the mask and correct aspect ratio\n",
    "sns.heatmap(accur_s2_10feb, ax = ax1, cmap=cmap, vmin = 0, vmax = 14,\n",
    "            square=True, linewidths=.5, cbar_kws={\"shrink\": .5, \"use_gridspec\": True}, #, \"orientation\": \"horizontal\"\n",
    "            annot=True, fmt=\".1f\", annot_kws={\"fontsize\": 13, \"color\": 'black'}) #, cbar_ax = cbar_ax\n",
    "\n",
    "# Set x and y ticks\n",
    "ax1.set_xticks(np.arange(len(classi)) + 0.5)\n",
    "ax1.set_yticks(np.arange(len(classi)) + 0.5)\n",
    "ax1.set_ylabel(\"Testing samples\", fontsize = 15)\n",
    "ax1.set_xlabel(\"Sentinel-2 map\", fontsize = 15)\n",
    "\n",
    "# Set x and y tick labels\n",
    "ax1.set_xticklabels(classi, rotation = 90, ha = \"right\", fontsize = 15)\n",
    "ax1.set_yticklabels(classi, rotation = 0, va = \"center\", fontsize = 15)\n",
    "ax1.set_title('Confusion matrix computed from testing samples\\nSentinel-2', fontweight = 'bold', fontsize = 15)\n",
    "\n",
    "plt.subplots_adjust(left = 0.30, right = 0.9, bottom = 0.2, top = 0.9)\n",
    "plt.savefig('classified_images/accuracy_s2_feb_test_samples.png', dpi = 300)\n",
    "plt.show()"
   ]
  },
  {
   "cell_type": "code",
   "execution_count": null,
   "id": "c59e078d-1868-40e1-8a7f-c1089a3a2eee",
   "metadata": {
    "tags": []
   },
   "outputs": [],
   "source": [
    "from string import ascii_letters\n",
    "import numpy as np\n",
    "import pandas as pd\n",
    "import seaborn as sns\n",
    "import matplotlib.pyplot as plt\n",
    "\n",
    "sns.set_theme(style=\"white\")\n",
    "\n",
    "# Create a DataFrame from the matrix\n",
    "accuracy_prisma = pd.DataFrame(data = accur_s2_25jun)\n",
    "\n",
    "# Generate a mask for the upper triangle\n",
    "\n",
    "# Set up the matplotlib figure\n",
    "f, ax1 = plt.subplots(figsize=(10, 10))\n",
    "plt.tight_layout()\n",
    "\n",
    "#cbar_ax = f.add_axes([0.25, 0.01, 0.5, 0.02])  # Adjust the position and size as needed\n",
    "\n",
    "# Generate a custom diverging colormap\n",
    "#cmap = sns.diverging_palette(230, 20, as_cmap=True)\n",
    "cmap = 'Greens'\n",
    "# Draw the heatmap with the mask and correct aspect ratio\n",
    "sns.heatmap(accur_s2_25jun, ax = ax1, cmap=cmap, vmin = 0, vmax = 14,\n",
    "            square=True, linewidths=.5, cbar_kws={\"shrink\": .5, \"use_gridspec\": True}, #, \"orientation\": \"horizontal\"\n",
    "            annot=True, fmt=\".1f\", annot_kws={\"fontsize\": 13, \"color\": 'black'}) #, cbar_ax = cbar_ax\n",
    "\n",
    "# Set x and y ticks\n",
    "ax1.set_xticks(np.arange(len(classi)) + 0.5)\n",
    "ax1.set_yticks(np.arange(len(classi)) + 0.5)\n",
    "ax1.set_ylabel(\"Testing samples\", fontsize = 15)\n",
    "ax1.set_xlabel(\"Sentinel-2 map\", fontsize = 15)\n",
    "\n",
    "# Set x and y tick labels\n",
    "ax1.set_xticklabels(classi, rotation = 90, ha = \"right\", fontsize = 15)\n",
    "ax1.set_yticklabels(classi, rotation = 0, va = \"center\", fontsize = 15)\n",
    "ax1.set_title('Confusion matrix computed from testing samples\\nSentinel-2', fontweight = 'bold', fontsize = 15)\n",
    "\n",
    "plt.subplots_adjust(left = 0.30, right = 0.9, bottom = 0.2, top = 0.9)\n",
    "plt.savefig('classified_images/accuracy_s2_jun_test_samples.png', dpi = 300)\n",
    "plt.show()"
   ]
  },
  {
   "cell_type": "code",
   "execution_count": null,
   "id": "66e60f5c-8231-4e6b-84a1-f97e8cf64fb6",
   "metadata": {
    "tags": []
   },
   "outputs": [],
   "source": [
    "from string import ascii_letters\n",
    "import numpy as np\n",
    "import pandas as pd\n",
    "import seaborn as sns\n",
    "import matplotlib.pyplot as plt\n",
    "\n",
    "sns.set_theme(style=\"white\")\n",
    "\n",
    "# Create a DataFrame from the matrix\n",
    "accuracy_prisma = pd.DataFrame(data = accur_s2_19aug)\n",
    "\n",
    "# Generate a mask for the upper triangle\n",
    "\n",
    "# Set up the matplotlib figure\n",
    "f, ax1 = plt.subplots(figsize=(10, 10))\n",
    "plt.tight_layout()\n",
    "\n",
    "#cbar_ax = f.add_axes([0.25, 0.01, 0.5, 0.02])  # Adjust the position and size as needed\n",
    "\n",
    "# Generate a custom diverging colormap\n",
    "#cmap = sns.diverging_palette(230, 20, as_cmap=True)\n",
    "cmap = 'Greens'\n",
    "# Draw the heatmap with the mask and correct aspect ratio\n",
    "sns.heatmap(accur_s2_19aug, ax = ax1, cmap=cmap, vmin = 0, vmax = 14,\n",
    "            square=True, linewidths=.5, cbar_kws={\"shrink\": .5, \"use_gridspec\": True}, #, \"orientation\": \"horizontal\"\n",
    "            annot=True, fmt=\".1f\", annot_kws={\"fontsize\": 13, \"color\": 'black'}) #, cbar_ax = cbar_ax\n",
    "\n",
    "# Set x and y ticks\n",
    "ax1.set_xticks(np.arange(len(classi)) + 0.5)\n",
    "ax1.set_yticks(np.arange(len(classi)) + 0.5)\n",
    "ax1.set_ylabel(\"Testing samples\", fontsize = 15)\n",
    "ax1.set_xlabel(\"Sentinel-2 map\", fontsize = 15)\n",
    "\n",
    "# Set x and y tick labels\n",
    "ax1.set_xticklabels(classi, rotation = 90, ha = \"right\", fontsize = 15)\n",
    "ax1.set_yticklabels(classi, rotation = 0, va = \"center\", fontsize = 15)\n",
    "ax1.set_title('Confusion matrix computed from testing samples\\nSentinel-2', fontweight = 'bold', fontsize = 15)\n",
    "\n",
    "plt.subplots_adjust(left = 0.30, right = 0.9, bottom = 0.2, top = 0.9)\n",
    "plt.savefig('classified_images/accuracy_s2_aug_test_samples.png', dpi = 300)\n",
    "plt.show()"
   ]
  },
  {
   "cell_type": "code",
   "execution_count": null,
   "id": "5926d759-89b5-4d39-a5e7-417f3b1025e9",
   "metadata": {},
   "outputs": [],
   "source": []
  },
  {
   "cell_type": "code",
   "execution_count": null,
   "id": "0caed588-73d6-43e5-b19b-362a82d15eaa",
   "metadata": {
    "tags": []
   },
   "outputs": [],
   "source": [
    "s2_prisma_feb = np.array([[ 40,   1,   3,   0,   0,   0,   0,   0,   0,   0,   0],\n",
    "       [  3,  33,  10,  10,   8,   0,   0,   0,   0,   0,   0],\n",
    "       [  4,   0, 100,  23,   1,   0,   0,   0,   0,   0,   0],\n",
    "       [  0,   1,   8, 175,  11,   1,   8,   4,   4,   0,   0],\n",
    "       [  0,   1,   5,  11, 105,   0,   2,   0,   2,   0,   0],\n",
    "       [  0,   0,   0,   1,   0,  20,  12,   0,   0,   1,   0],\n",
    "       [  0,   0,   0,  11,   1,   9, 111,  38,   2,   2,   0],\n",
    "       [  0,   0,   0,   0,   0,   0,  23, 267,   3,  16,   0],\n",
    "       [  0,   0,   0,   9,   6,   0,  11,   9,  49,   2,   0],\n",
    "       [  0,   0,   0,   0,   2,   0,   4,  14,   4, 278,   1],\n",
    "       [  0,   0,   0,   0,   0,   0,   0,   1,   1,   3,  10]])\n",
    "s2_prisma_feb = s2_prisma_feb / np.sum(s2_prisma_feb)*100\n",
    "s2_lcz_gen_feb = np.array([[ 37,   8,   1,   0,   1,   0,   0,   0,   0,   0,   0],\n",
    "       [  5,  21,   2,   7,   1,   0,   0,   0,   0,   0,   0],\n",
    "       [ 14,  10,  57,  37,   5,   0,   2,   0,   1,   0,   0],\n",
    "       [  2,  15,  24, 159,  14,   1,   7,   6,   6,   6,   0],\n",
    "       [  0,  10,   9,  18,  86,   0,   3,   1,   5,   2,   0],\n",
    "       [  0,   0,   0,   2,   0,  20,   3,   3,   2,   0,   0],\n",
    "       [  0,   0,   2,  19,   2,   8,  82,  38,  10,   9,   1],\n",
    "       [  0,   0,   0,   7,   0,   3,  16, 206,   6,  95,   0],\n",
    "       [  0,   3,   5,  12,   7,   2,   6,   3,  16,  11,   0],\n",
    "       [  0,   0,   0,   5,   2,   0,   8,  69,   5, 213,   0],\n",
    "       [  0,   0,   0,   0,   0,   0,   0,   0,   1,   0,  10]])\n",
    "s2_lcz_gen_feb = s2_lcz_gen_feb / np.sum(s2_lcz_gen_feb)*100\n",
    "prisma_lcz_gen_feb = np.array([[ 37,   6,   1,   0,   0,   0,   0,   0,   0,   0,   0],\n",
    "       [  7,  31,   4,  14,   7,   0,   0,   0,   1,   0,   0],\n",
    "       [ 13,  11,  57,  40,   4,   0,   2,   1,   0,   0,   0],\n",
    "       [  0,   8,  23, 147,   7,   1,   6,  10,   5,   5,   0],\n",
    "       [  1,   7,   6,  17,  90,   0,   0,   0,   4,   1,   0],\n",
    "       [  0,   0,   0,   3,   0,  17,  10,   3,   1,   0,   0],\n",
    "       [  0,   0,   1,  18,   0,  11,  74,  52,   5,  12,   1],\n",
    "       [  0,   0,   1,   8,   0,   3,  18, 191,   2,  86,   0],\n",
    "       [  0,   4,   7,  13,   8,   0,   7,   8,  27,  12,   0],\n",
    "       [  0,   0,   0,   6,   2,   1,   8,  60,   6, 219,   1],\n",
    "       [  0,   0,   0,   0,   0,   1,   2,   1,   1,   1,   9]])\n",
    "prisma_lcz_gen_feb = prisma_lcz_gen_feb / np.sum(prisma_lcz_gen_feb)*100\n",
    "############################################################################\n",
    "s2_prisma_jun = np.array([[ 39,   0,   6,   0,   0,   0,   0,   0,   0,   0,   0],\n",
    "       [  1,  32,   5,   5,   4,   0,   0,   0,   0,   0,   0],\n",
    "       [  3,   3,  74,  23,   0,   0,   0,   0,   0,   0,   0],\n",
    "       [  0,   6,  19, 207,  10,   1,   8,   2,   0,   0,   1],\n",
    "       [  0,   1,   5,  31, 109,   0,   3,   1,   5,   0,   0],\n",
    "       [  0,   0,   0,   0,   0,  12,  17,   1,   0,   0,   0],\n",
    "       [  0,   0,   0,  13,   0,   4, 112,  21,   0,  12,   1],\n",
    "       [  0,   0,   0,   3,   2,   1,  26, 359,   1,  13,   2],\n",
    "       [  0,   0,   0,  10,  10,   0,  13,  12,  39,   6,   0],\n",
    "       [  0,   0,   0,   0,   2,   0,   4,  65,   2, 117,   0],\n",
    "       [  0,   0,   0,   0,   0,   0,   0,   0,   0,   1,   9]])\n",
    "s2_prisma_jun = s2_prisma_jun / np.sum(s2_prisma_jun)*100\n",
    "s2_lcz_gen_jun = np.array([[ 36,   6,   1,   0,   0,   0,   0,   0,   0,   0,   0],\n",
    "       [  5,  26,   1,   9,   0,   0,   0,   0,   1,   0,   0],\n",
    "       [ 11,   9,  56,  28,   2,   0,   1,   0,   2,   0,   0],\n",
    "       [  3,  14,  28, 186,  19,   0,  16,   9,   8,   9,   0],\n",
    "       [  5,   9,  10,  14,  88,   0,   3,   0,   4,   4,   0],\n",
    "       [  0,   0,   1,   1,   0,  13,   2,   0,   0,   1,   0],\n",
    "       [  0,   1,   3,  29,   4,  15,  85,  28,   4,  14,   0],\n",
    "       [  0,   0,   2,  12,   0,   5,  43, 274,   7, 118,   0],\n",
    "       [  0,   0,   3,   7,   6,   0,   1,   4,  21,   4,   1],\n",
    "       [  0,   0,   0,   3,   0,   0,   4,  71,   3,  68,   0],\n",
    "       [  0,   0,   0,   0,   0,   0,   1,   2,   0,   1,   9]])\n",
    "s2_lcz_gen_jun = s2_lcz_gen_jun / np.sum(s2_lcz_gen_jun)*100\n",
    "prisma_lcz_gen_jun = np.array([[ 34,   7,   2,   1,   1,   0,   0,   0,   0,   0,   0],\n",
    "       [  8,  26,   3,   7,   2,   0,   0,   0,   1,   0,   0],\n",
    "       [ 10,  11,  58,  20,   2,   0,   1,   0,   1,   0,   0],\n",
    "       [  1,  11,  18, 179,   7,   0,  15,   9,   5,   9,   0],\n",
    "       [  5,   9,  12,  19,  96,   0,   3,   0,   7,   4,   0],\n",
    "       [  0,   0,   1,   5,   0,  15,   8,   1,   0,   0,   0],\n",
    "       [  0,   1,   2,  23,   2,  14,  77,  20,   5,  19,   0],\n",
    "       [  0,   0,   1,  10,   0,   3,  35, 253,   7,  97,   1],\n",
    "       [  2,   0,   7,  20,   7,   0,   5,   9,  23,  16,   1],\n",
    "       [  0,   0,   1,   5,   2,   1,  12,  94,   1,  74,   0],\n",
    "       [  0,   0,   0,   0,   0,   0,   0,   2,   0,   0,   8]])\n",
    "prisma_lcz_gen_jun = prisma_lcz_gen_jun / np.sum(prisma_lcz_gen_jun)*100\n",
    "############################################################################\n",
    "s2_prisma_aug = np.array([[ 34,   4,   5,   0,   1,   0,   0,   0,   0,   0,   0],\n",
    "       [  3,  36,   7,   9,   2,   0,   0,   0,   0,   0,   0],\n",
    "       [  1,   1, 126,  27,   4,   0,   1,   0,   0,   0,   0],\n",
    "       [  0,   5,  17, 144,  10,   0,   8,   5,   7,   0,   0],\n",
    "       [  0,   3,   1,  16, 112,   0,   2,   0,   5,   3,   0],\n",
    "       [  0,   0,   0,   2,   1,   6,   9,   0,   0,   0,   0],\n",
    "       [  0,   0,   1,  14,   2,   2,  80,   5,   2,   0,   0],\n",
    "       [  0,   0,   0,  10,   1,   2,  60, 465,   9,  30,   0],\n",
    "       [  0,   0,   0,   9,  14,   0,   8,   7,  50,   4,   0],\n",
    "       [  0,   0,   0,   0,   3,   0,   5,  37,   4,  35,   0],\n",
    "       [  0,   0,   0,   1,   0,   0,   5,   1,   0,   1,  10]])\n",
    "s2_prisma_aug = s2_prisma_aug / np.sum(s2_prisma_aug)*100\n",
    "s2_lcz_gen_aug = np.array([[ 34,   2,   1,   0,   1,   0,   0,   0,   0,   0,   0],\n",
    "       [  9,  21,   4,  14,   1,   0,   0,   0,   0,   0,   0],\n",
    "       [ 15,  13,  74,  42,   4,   4,   3,   1,   1,   0,   0],\n",
    "       [  2,  19,  40,  92,  12,   3,  39,  15,   4,   6,   0],\n",
    "       [  6,  24,   9,  23,  72,   0,   5,   7,   3,   1,   0],\n",
    "       [  0,   0,   0,   0,   0,   8,   2,   0,   0,   0,   0],\n",
    "       [  0,   1,   5,   3,   4,  12, 105,  39,   1,   8,   0],\n",
    "       [  0,   2,   3,   4,   1,   1,  63, 405,   2,  39,   0],\n",
    "       [  4,   5,   7,  13,   8,   0,   7,  21,   7,   5,   0],\n",
    "       [  0,   1,   1,   3,   2,   0,  13,  37,   0,  16,   0],\n",
    "       [  0,   0,   0,   0,   0,   0,   0,   1,   0,   0,   9]])\n",
    "s2_lcz_gen_aug = s2_lcz_gen_aug / np.sum(s2_lcz_gen_aug)*100\n",
    "prisma_lcz_gen_aug = np.array([[ 36,   3,   4,   0,   1,   0,   0,   0,   0,   0,   0],\n",
    "       [  9,  23,  11,  13,   1,   0,   0,   0,   0,   0,   0],\n",
    "       [ 12,  17,  78,  33,  10,   2,   5,   1,   1,   1,   0],\n",
    "       [  3,  10,  28,  95,   7,   3,  31,  15,   2,   2,   0],\n",
    "       [  5,  25,   5,  24,  70,   0,   3,   5,   2,   3,   0],\n",
    "       [  0,   0,   1,   0,   0,   8,   8,   0,   0,   1,   0],\n",
    "       [  0,   0,   4,   1,   1,   9,  69,  18,   1,   3,   0],\n",
    "       [  0,   2,   3,  10,   2,   6,  95, 410,   2,  47,   0],\n",
    "       [  5,   8,   8,  16,   7,   0,   8,  23,  10,   7,   0],\n",
    "       [  0,   0,   2,   2,   6,   0,  13,  50,   0,  11,   0],\n",
    "       [  0,   0,   0,   0,   0,   0,   5,   4,   0,   0,   9]])\n",
    "prisma_lcz_gen_aug = prisma_lcz_gen_aug / np.sum(prisma_lcz_gen_aug)*100"
   ]
  },
  {
   "cell_type": "code",
   "execution_count": null,
   "id": "61879fb7-f973-4770-b2b0-6426af4a0828",
   "metadata": {
    "tags": []
   },
   "outputs": [],
   "source": [
    "from string import ascii_letters\n",
    "import numpy as np\n",
    "import pandas as pd\n",
    "import seaborn as sns\n",
    "import matplotlib.pyplot as plt\n",
    "\n",
    "sns.set_theme(style=\"white\")\n",
    "\n",
    "# Create a DataFrame from the matrix\n",
    "accuracy_prisma = pd.DataFrame(data = s2_prisma_feb)\n",
    "\n",
    "# Generate a mask for the upper triangle\n",
    "\n",
    "# Set up the matplotlib figure\n",
    "f, ax1 = plt.subplots(figsize=(10, 10))\n",
    "plt.tight_layout()\n",
    "\n",
    "#cbar_ax = f.add_axes([0.25, 0.01, 0.5, 0.02])  # Adjust the position and size as needed\n",
    "\n",
    "# Generate a custom diverging colormap\n",
    "#cmap = sns.diverging_palette(230, 20, as_cmap=True)\n",
    "cmap = 'Greens'\n",
    "# Draw the heatmap with the mask and correct aspect ratio\n",
    "sns.heatmap(s2_prisma_feb, ax = ax1, cmap=cmap, vmin=0, vmax=25,\n",
    "            square=True, linewidths=.5, cbar_kws={\"shrink\": .5, \"use_gridspec\": True}, #, \"orientation\": \"horizontal\"\n",
    "            annot=True, fmt=\".1f\", annot_kws={\"fontsize\": 13, \"color\": 'black'}) #, cbar_ax = cbar_ax\n",
    "\n",
    "# Set x and y ticks\n",
    "ax1.set_xticks(np.arange(len(classi)) + 0.5)\n",
    "ax1.set_yticks(np.arange(len(classi)) + 0.5)\n",
    "ax1.set_ylabel(\"PRISMA map\", fontsize = 15)\n",
    "ax1.set_xlabel(\"Sentinel-2 map\", fontsize = 15)\n",
    "\n",
    "# Set x and y tick labels\n",
    "ax1.set_xticklabels(classi, rotation = 90, ha = \"right\", fontsize = 15)\n",
    "ax1.set_yticklabels(classi, rotation = 0, va = \"center\", fontsize = 15)\n",
    "ax1.set_title('Inter-comparison\\nPRISMA vs Sentinel-2', fontweight = 'bold', fontsize = 15)\n",
    "\n",
    "plt.subplots_adjust(left = 0.30, right = 0.9, bottom = 0.2, top = 0.9)\n",
    "plt.savefig('classified_images/IC_s2_prisma_feb.png', dpi = 300)\n",
    "plt.show()"
   ]
  },
  {
   "cell_type": "code",
   "execution_count": null,
   "id": "f532f79d-c461-442f-98fe-a8e5c73fbb1c",
   "metadata": {
    "tags": []
   },
   "outputs": [],
   "source": [
    "from string import ascii_letters\n",
    "import numpy as np\n",
    "import pandas as pd\n",
    "import seaborn as sns\n",
    "import matplotlib.pyplot as plt\n",
    "\n",
    "sns.set_theme(style=\"white\")\n",
    "\n",
    "# Create a DataFrame from the matrix\n",
    "accuracy_prisma = pd.DataFrame(data = s2_lcz_gen_feb)\n",
    "\n",
    "# Generate a mask for the upper triangle\n",
    "\n",
    "# Set up the matplotlib figure\n",
    "f, ax1 = plt.subplots(figsize=(10, 10))\n",
    "plt.tight_layout()\n",
    "\n",
    "#cbar_ax = f.add_axes([0.25, 0.01, 0.5, 0.02])  # Adjust the position and size as needed\n",
    "\n",
    "# Generate a custom diverging colormap\n",
    "#cmap = sns.diverging_palette(230, 20, as_cmap=True)\n",
    "cmap = 'Greens'\n",
    "# Draw the heatmap with the mask and correct aspect ratio\n",
    "sns.heatmap(s2_lcz_gen_feb, ax = ax1, cmap=cmap, vmin=0, vmax=25,\n",
    "            square=True, linewidths=.5, cbar_kws={\"shrink\": .5, \"use_gridspec\": True}, #, \"orientation\": \"horizontal\"\n",
    "            annot=True, fmt=\".1f\", annot_kws={\"fontsize\": 13, \"color\": 'black'}) #, cbar_ax = cbar_ax\n",
    "\n",
    "# Set x and y ticks\n",
    "ax1.set_xticks(np.arange(len(classi)) + 0.5)\n",
    "ax1.set_yticks(np.arange(len(classi)) + 0.5)\n",
    "ax1.set_ylabel(\"Sentinel-2 map\", fontsize = 15)\n",
    "ax1.set_xlabel(\"LCZ Generator map\", fontsize = 15)\n",
    "\n",
    "# Set x and y tick labels\n",
    "ax1.set_xticklabels(classi, rotation = 90, ha = \"right\", fontsize = 15)\n",
    "ax1.set_yticklabels(classi, rotation = 0, va = \"center\", fontsize = 15)\n",
    "ax1.set_title('Inter-comparison\\nSentinel-2 vs LCZ Generator', fontweight = 'bold', fontsize = 15)\n",
    "\n",
    "plt.subplots_adjust(left = 0.30, right = 0.9, bottom = 0.2, top = 0.9)\n",
    "plt.savefig('classified_images/IC_s2_lcz_gen_feb.png', dpi = 300)\n",
    "plt.show()"
   ]
  },
  {
   "cell_type": "code",
   "execution_count": null,
   "id": "5793f867-10cf-4693-b80d-c8bbd8e4ed46",
   "metadata": {
    "tags": []
   },
   "outputs": [],
   "source": [
    "from string import ascii_letters\n",
    "import numpy as np\n",
    "import pandas as pd\n",
    "import seaborn as sns\n",
    "import matplotlib.pyplot as plt\n",
    "\n",
    "sns.set_theme(style=\"white\")\n",
    "\n",
    "# Create a DataFrame from the matrix\n",
    "accuracy_prisma = pd.DataFrame(data = prisma_lcz_gen_feb)\n",
    "\n",
    "# Generate a mask for the upper triangle\n",
    "\n",
    "# Set up the matplotlib figure\n",
    "f, ax1 = plt.subplots(figsize=(10, 10))\n",
    "plt.tight_layout()\n",
    "\n",
    "#cbar_ax = f.add_axes([0.25, 0.01, 0.5, 0.02])  # Adjust the position and size as needed\n",
    "\n",
    "# Generate a custom diverging colormap\n",
    "#cmap = sns.diverging_palette(230, 20, as_cmap=True)\n",
    "cmap = 'Greens'\n",
    "# Draw the heatmap with the mask and correct aspect ratio\n",
    "sns.heatmap(prisma_lcz_gen_feb, ax = ax1, cmap=cmap, vmin=0, vmax=25,\n",
    "            square=True, linewidths=.5, cbar_kws={\"shrink\": .5, \"use_gridspec\": True}, #, \"orientation\": \"horizontal\"\n",
    "            annot=True, fmt=\".1f\", annot_kws={\"fontsize\": 13, \"color\": 'black'}) #, cbar_ax = cbar_ax\n",
    "\n",
    "# Set x and y ticks\n",
    "ax1.set_xticks(np.arange(len(classi)) + 0.5)\n",
    "ax1.set_yticks(np.arange(len(classi)) + 0.5)\n",
    "ax1.set_ylabel(\"PRISMA map\", fontsize = 15)\n",
    "ax1.set_xlabel(\"LCZ Generator map\", fontsize = 15)\n",
    "\n",
    "# Set x and y tick labels\n",
    "ax1.set_xticklabels(classi, rotation = 90, ha = \"right\", fontsize = 15)\n",
    "ax1.set_yticklabels(classi, rotation = 0, va = \"center\", fontsize = 15)\n",
    "ax1.set_title('Inter-comparison\\nPRISMA vs LCZ Generator', fontweight = 'bold', fontsize = 15)\n",
    "\n",
    "plt.subplots_adjust(left = 0.30, right = 0.9, bottom = 0.2, top = 0.9)\n",
    "plt.savefig('classified_images/IC_prisma_lcz_gen_feb.png', dpi = 300)\n",
    "plt.show()"
   ]
  },
  {
   "cell_type": "code",
   "execution_count": null,
   "id": "a49c12c0-0dce-4a5f-96a9-a853380a87e9",
   "metadata": {
    "tags": []
   },
   "outputs": [],
   "source": [
    "## JUNE ##########################################"
   ]
  },
  {
   "cell_type": "code",
   "execution_count": null,
   "id": "e44ab076-4920-492d-b3b8-80300f20a3ff",
   "metadata": {
    "tags": []
   },
   "outputs": [],
   "source": [
    "from string import ascii_letters\n",
    "import numpy as np\n",
    "import pandas as pd\n",
    "import seaborn as sns\n",
    "import matplotlib.pyplot as plt\n",
    "\n",
    "sns.set_theme(style=\"white\")\n",
    "\n",
    "# Create a DataFrame from the matrix\n",
    "accuracy_prisma = pd.DataFrame(data = s2_prisma_jun)\n",
    "\n",
    "# Generate a mask for the upper triangle\n",
    "\n",
    "# Set up the matplotlib figure\n",
    "f, ax1 = plt.subplots(figsize=(10, 10))\n",
    "plt.tight_layout()\n",
    "\n",
    "#cbar_ax = f.add_axes([0.25, 0.01, 0.5, 0.02])  # Adjust the position and size as needed\n",
    "\n",
    "# Generate a custom diverging colormap\n",
    "#cmap = sns.diverging_palette(230, 20, as_cmap=True)\n",
    "cmap = 'Greens'\n",
    "# Draw the heatmap with the mask and correct aspect ratio\n",
    "sns.heatmap(s2_prisma_jun, ax = ax1, cmap=cmap, vmin=0, vmax=25,\n",
    "            square=True, linewidths=.5, cbar_kws={\"shrink\": .5, \"use_gridspec\": True}, #, \"orientation\": \"horizontal\"\n",
    "            annot=True, fmt=\".1f\", annot_kws={\"fontsize\": 13, \"color\": 'black'}) #, cbar_ax = cbar_ax\n",
    "\n",
    "# Set x and y ticks\n",
    "ax1.set_xticks(np.arange(len(classi)) + 0.5)\n",
    "ax1.set_yticks(np.arange(len(classi)) + 0.5)\n",
    "ax1.set_ylabel(\"PRISMA map\", fontsize = 15)\n",
    "ax1.set_xlabel(\"Sentinel-2 map\", fontsize = 15)\n",
    "\n",
    "# Set x and y tick labels\n",
    "ax1.set_xticklabels(classi, rotation = 90, ha = \"right\", fontsize = 15)\n",
    "ax1.set_yticklabels(classi, rotation = 0, va = \"center\", fontsize = 15)\n",
    "ax1.set_title('Inter-comparison\\nPRISMA vs Sentinel-2', fontweight = 'bold', fontsize = 15)\n",
    "\n",
    "plt.subplots_adjust(left = 0.30, right = 0.9, bottom = 0.2, top = 0.9)\n",
    "plt.savefig('classified_images/IC_s2_prisma_jun.png', dpi = 300)\n",
    "plt.show()"
   ]
  },
  {
   "cell_type": "code",
   "execution_count": null,
   "id": "d0722d2e-9f26-4ab2-96f5-e0c83215da83",
   "metadata": {
    "tags": []
   },
   "outputs": [],
   "source": [
    "from string import ascii_letters\n",
    "import numpy as np\n",
    "import pandas as pd\n",
    "import seaborn as sns\n",
    "import matplotlib.pyplot as plt\n",
    "\n",
    "sns.set_theme(style=\"white\")\n",
    "\n",
    "# Create a DataFrame from the matrix\n",
    "accuracy_prisma = pd.DataFrame(data = s2_lcz_gen_jun)\n",
    "\n",
    "# Generate a mask for the upper triangle\n",
    "\n",
    "# Set up the matplotlib figure\n",
    "f, ax1 = plt.subplots(figsize=(10, 10))\n",
    "plt.tight_layout()\n",
    "\n",
    "#cbar_ax = f.add_axes([0.25, 0.01, 0.5, 0.02])  # Adjust the position and size as needed\n",
    "\n",
    "# Generate a custom diverging colormap\n",
    "#cmap = sns.diverging_palette(230, 20, as_cmap=True)\n",
    "cmap = 'Greens'\n",
    "# Draw the heatmap with the mask and correct aspect ratio\n",
    "sns.heatmap(s2_lcz_gen_jun, ax = ax1, cmap=cmap, vmin=0, vmax=25,\n",
    "            square=True, linewidths=.5, cbar_kws={\"shrink\": .5, \"use_gridspec\": True}, #, \"orientation\": \"horizontal\"\n",
    "            annot=True, fmt=\".1f\", annot_kws={\"fontsize\": 13, \"color\": 'black'}) #, cbar_ax = cbar_ax\n",
    "\n",
    "# Set x and y ticks\n",
    "ax1.set_xticks(np.arange(len(classi)) + 0.5)\n",
    "ax1.set_yticks(np.arange(len(classi)) + 0.5)\n",
    "ax1.set_ylabel(\"Sentinel-2 map\", fontsize = 15)\n",
    "ax1.set_xlabel(\"LCZ Generator map\", fontsize = 15)\n",
    "\n",
    "# Set x and y tick labels\n",
    "ax1.set_xticklabels(classi, rotation = 90, ha = \"right\", fontsize = 15)\n",
    "ax1.set_yticklabels(classi, rotation = 0, va = \"center\", fontsize = 15)\n",
    "ax1.set_title('Inter-comparison\\nSentinel-2 vs LCZ Generator', fontweight = 'bold', fontsize = 15)\n",
    "\n",
    "plt.subplots_adjust(left = 0.30, right = 0.9, bottom = 0.2, top = 0.9)\n",
    "plt.savefig('classified_images/IC_s2_lcz_gen_jun.png', dpi = 300)\n",
    "plt.show()"
   ]
  },
  {
   "cell_type": "code",
   "execution_count": null,
   "id": "9ffea3b2-02db-46d5-9e4c-39c698969782",
   "metadata": {
    "tags": []
   },
   "outputs": [],
   "source": [
    "from string import ascii_letters\n",
    "import numpy as np\n",
    "import pandas as pd\n",
    "import seaborn as sns\n",
    "import matplotlib.pyplot as plt\n",
    "\n",
    "sns.set_theme(style=\"white\")\n",
    "\n",
    "# Create a DataFrame from the matrix\n",
    "accuracy_prisma = pd.DataFrame(data = prisma_lcz_gen_jun)\n",
    "\n",
    "# Generate a mask for the upper triangle\n",
    "\n",
    "# Set up the matplotlib figure\n",
    "f, ax1 = plt.subplots(figsize=(10, 10))\n",
    "plt.tight_layout()\n",
    "\n",
    "#cbar_ax = f.add_axes([0.25, 0.01, 0.5, 0.02])  # Adjust the position and size as needed\n",
    "\n",
    "# Generate a custom diverging colormap\n",
    "#cmap = sns.diverging_palette(230, 20, as_cmap=True)\n",
    "cmap = 'Greens'\n",
    "# Draw the heatmap with the mask and correct aspect ratio\n",
    "sns.heatmap(prisma_lcz_gen_jun, ax = ax1, cmap=cmap, vmin=0, vmax=25,\n",
    "            square=True, linewidths=.5, cbar_kws={\"shrink\": .5, \"use_gridspec\": True}, #, \"orientation\": \"horizontal\"\n",
    "            annot=True, fmt=\".1f\", annot_kws={\"fontsize\": 13, \"color\": 'black'}) #, cbar_ax = cbar_ax\n",
    "\n",
    "# Set x and y ticks\n",
    "ax1.set_xticks(np.arange(len(classi)) + 0.5)\n",
    "ax1.set_yticks(np.arange(len(classi)) + 0.5)\n",
    "ax1.set_ylabel(\"PRISMA map\", fontsize = 15)\n",
    "ax1.set_xlabel(\"LCZ Generator map\", fontsize = 15)\n",
    "\n",
    "# Set x and y tick labels\n",
    "ax1.set_xticklabels(classi, rotation = 90, ha = \"right\", fontsize = 15)\n",
    "ax1.set_yticklabels(classi, rotation = 0, va = \"center\", fontsize = 15)\n",
    "ax1.set_title('Inter-comparison\\nPRISMA vs LCZ Generator', fontweight = 'bold', fontsize = 15)\n",
    "\n",
    "plt.subplots_adjust(left = 0.30, right = 0.9, bottom = 0.2, top = 0.9)\n",
    "plt.savefig('classified_images/IC_prisma_lcz_gen_jun.png', dpi = 300)\n",
    "plt.show()"
   ]
  },
  {
   "cell_type": "code",
   "execution_count": null,
   "id": "bb8b382d-80cd-4450-9c5e-21a9422d258a",
   "metadata": {},
   "outputs": [],
   "source": []
  }
 ],
 "metadata": {
  "kernelspec": {
   "display_name": "Python 3 (ipykernel)",
   "language": "python",
   "name": "python3"
  },
  "language_info": {
   "codemirror_mode": {
    "name": "ipython",
    "version": 3
   },
   "file_extension": ".py",
   "mimetype": "text/x-python",
   "name": "python",
   "nbconvert_exporter": "python",
   "pygments_lexer": "ipython3",
   "version": "3.10.10"
  }
 },
 "nbformat": 4,
 "nbformat_minor": 5
}
