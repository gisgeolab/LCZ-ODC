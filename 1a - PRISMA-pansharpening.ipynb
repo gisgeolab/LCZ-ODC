{
 "cells": [
  {
   "cell_type": "markdown",
   "id": "c190cc3e-c838-48da-8ad3-d15d71d4343c",
   "metadata": {},
   "source": [
    "<div class=\"alert alert-info\">\n",
    "<u><strong>Authors:</strong></u> <b>Alberto Vavassori</b> (alberto.vavassori@polimi.it), <b>Emanuele Capizzi</b> (emanuele.capizzi@mail.polimi.it) - 2024 - Politecnico di Milano, Italy <br>\n",
    "Developed within the LCZ-ODC project, funded by the Italian Space Agency (agreement n. 2022-30-HH.0).\n",
    "</div>"
   ]
  },
  {
   "cell_type": "markdown",
   "id": "186467ce-e465-445a-b146-9bf2deff3021",
   "metadata": {},
   "source": [
    "# Pan-sharpening of PRISMA imagery"
   ]
  },
  {
   "cell_type": "markdown",
   "id": "1d346af8-1911-4c21-b52a-2aee03af3e94",
   "metadata": {},
   "source": [
    "### Introduction\n",
    "\n",
    "This Notebook contains examples of **pan-sharpening methods for hyperspectral PRISMA imagery** ([Loncan et al. 2015<sup>1</sup>](#1)).\n",
    "\n",
    "Pansharpening methods are implemented in the `methods.py` file. Functions are adapted to the PRISMA imagery context from a dedicated GitHub Repository[<sup>2</sup>](#2).\n",
    "\n",
    "Note: a MATLAB Toolbox is also available for pansharpening of PRISMA data[<sup>3</sup>](#3)."
   ]
  },
  {
   "cell_type": "markdown",
   "id": "50f12081-311a-499b-911f-2fbafdb0c6f3",
   "metadata": {},
   "source": [
    "#### PRISMA data specifications\n",
    "\n",
    "Information about the spectral ranges of the hyperspectral and panchromatic data is available within the PRISMA product specification document[<sup>4</sup>](#4).\n",
    "\n",
    "Specifically, spatial and spectral resolutions of the Hyperspectral (HS) - including Visible Near Infrared (VNIR) and Short Wave Infrared (SWIR) - and Panchromatic (PAN) bands are the following:\n",
    "\n",
    "| Sensor | Cube | Spectral Range [nm] | Spatial Resolution [m] | #Bands |\n",
    "| :---: | :---: | :----: | :---: | :---: |\n",
    "| HS | VNIR | 400 - 1010 | 30 | 66 |\n",
    "| HS | SWIR | 920 - 2500 | 30 | 171 |\n",
    "| PAN | PAN | 400 - 700 | 5 | 1 |"
   ]
  },
  {
   "cell_type": "markdown",
   "id": "82cbf67c-1278-4bd9-a4b1-c07939b49a73",
   "metadata": {},
   "source": [
    "### Resources\n",
    "    \n",
    "<span id=\"1\">[<sup>1</sup>Loncan, L. et al. «Hyperspectral Pansharpening: A Review». *IEEE Geoscience and Remote Sensing Magazine* 2015, 3(3), 1879–1900](https://ieeexplore.ieee.org/document/7284770)</span><br>\n",
    "<span id=\"2\">[<sup>2</sup>GitHub Repo for multispectral imagery pansharpening](https://github.com/codegaj/py_pansharpening)</span><br>\n",
    "<span id=\"3\">[<sup>3</sup>Matlab Toolbox for PRISMA pansharpening](https://openremotesensing.net/knowledgebase/hyperspectral-and-multispectral-data-fusion/)</span><br>\n",
    "<span id=\"4\">[<sup>4</sup>PRISMA Product Specifications](http://prisma.asi.it/missionselect/docs/PRISMA%20Product%20Specifications_Is2_3.pdf)</span><br>\n",
    "<span id=\"5\">[<sup>5</sup>Aiazzi, B. et al. «Improving Component Substitution Pansharpening Through Multivariate Regression of MS+Pan Data». *IEEE Transactions on Geoscience and Remote Sensing* 2007, 45(10), 3230–3239](https://ieeexplore.ieee.org/document/4305344)</span><br>"
   ]
  },
  {
   "cell_type": "markdown",
   "id": "687cb892-5fda-485c-9f49-4d5b4860ed33",
   "metadata": {
    "tags": []
   },
   "source": [
    "### <a id='TOC_TOP'></a>Notebook content\n",
    "\n",
    "</div>\n",
    "    \n",
    " 1. [Libraries and Data Preparation](#sec1)\n",
    " 2. [Component Substitution Based Pansharpening](#sec2)\n",
    "\n",
    "<hr>"
   ]
  },
  {
   "cell_type": "markdown",
   "id": "c1fff8ef-c677-4d0f-8e77-aec9e4079763",
   "metadata": {},
   "source": [
    "<div class=\"alert alert-info\" role=\"alert\">\n",
    "    \n",
    "## <a id='sec1'></a>&#x27A4; 1. Libraries and Data Preparation\n",
    "\n",
    "[Back to top](#TOC_TOP)\n",
    "    \n",
    "</div>"
   ]
  },
  {
   "cell_type": "markdown",
   "id": "64e4efff-67e2-4a32-b362-c268d369906a",
   "metadata": {},
   "source": [
    "### Import useful libraries"
   ]
  },
  {
   "cell_type": "markdown",
   "id": "453cc418-95af-43c4-a16d-59d57b292684",
   "metadata": {},
   "source": [
    "<div class=\"alert alert-warning\" role=\"alert\">\n",
    "<span>&#9888;</span>\n",
    "<a id='warning'></a> Make sure you have the following libraries installed in your working environment:\n",
    "</div>\n",
    "\n",
    "- `h5py`\n",
    "- `sklearn`\n",
    "- `ipyleaflet`\n",
    "- `ipywidgets`\n",
    "- `opencv` (i.e. `cv2`) -> install with `pip install opencv-python`\n",
    "- `leafmap` -> install with `pip install -U leafmap`\n",
    "\n",
    "Common libraries are also required (e.g. `numpy`, `rasterio`, `matplotlib`, `pandas`, `geopandas`, `shapely`)."
   ]
  },
  {
   "cell_type": "code",
   "execution_count": null,
   "id": "ed774f8c-9c44-4c28-8971-f7cea81ebd30",
   "metadata": {
    "tags": []
   },
   "outputs": [],
   "source": [
    "import numpy as np\n",
    "import rasterio as rio\n",
    "from rasterio.crs import CRS\n",
    "from rasterio.plot import show\n",
    "from rasterio.mask import mask\n",
    "from rasterio.merge import merge\n",
    "from rasterio.plot import show_hist\n",
    "from rasterio.warp import reproject, Resampling\n",
    "import matplotlib.pyplot as plt\n",
    "import matplotlib.image\n",
    "import ipywidgets as widgets\n",
    "from sklearn.decomposition import PCA\n",
    "import geopandas as gpd\n",
    "import h5py\n",
    "import pandas as pd\n",
    "import pyproj\n",
    "import cv2\n",
    "from shapely.geometry import Polygon\n",
    "from rasterio import mask\n",
    "from shapely.geometry import box\n",
    "from ipyleaflet import Map, basemaps, basemap_to_tiles, DrawControl, LayersControl, Rectangle\n",
    "import leafmap"
   ]
  },
  {
   "cell_type": "code",
   "execution_count": null,
   "id": "96ae7fe6-9138-48d5-b7c7-cb4f6340880c",
   "metadata": {
    "tags": []
   },
   "outputs": [],
   "source": [
    "# Import functions and set auto-reload\n",
    "from methods import *\n",
    "from metrics import *\n",
    "from functions import *\n",
    "%load_ext autoreload\n",
    "%autoreload 2"
   ]
  },
  {
   "cell_type": "markdown",
   "id": "233a0b5d-5d45-4f78-bb84-3c0fe9bdc949",
   "metadata": {},
   "source": [
    "### Date selection"
   ]
  },
  {
   "cell_type": "markdown",
   "id": "f800e209-e508-4c35-8932-195eaf7fab23",
   "metadata": {},
   "source": [
    "Here it is possible to select the PRISMA image acquisition date, i.e. a specific image. Pansharpening will be performed only to the selected image."
   ]
  },
  {
   "cell_type": "code",
   "execution_count": null,
   "id": "d2989be3-ba91-493b-b2ba-bfc935d2c601",
   "metadata": {
    "tags": []
   },
   "outputs": [],
   "source": [
    "date_prisma_w = widgets.Dropdown(\n",
    "    options = ['2023-02-09', '2023-03-22', '2023-04-08', '2023-06-17', '2023-07-10', '2023-08-08'],\n",
    "    value = '2023-02-09',\n",
    "    description = 'PRISMA date:',\n",
    "    disabled = False,\n",
    "    layout = {'width': 'max-content'},\n",
    "    style = {'description_width': 'initial'}\n",
    ")\n",
    "date_prisma_w"
   ]
  },
  {
   "cell_type": "code",
   "execution_count": null,
   "id": "03d69bd8-369d-403b-9885-c868dae7413b",
   "metadata": {
    "tags": []
   },
   "outputs": [],
   "source": [
    "sel_prisma_date = date_prisma_w.value\n",
    "print(f\"The selected date is {sel_prisma_date}.\")"
   ]
  },
  {
   "cell_type": "markdown",
   "id": "1d6975c8-0485-4b83-abfa-dddad6fa24f5",
   "metadata": {},
   "source": [
    "According to the selected date, the folder containing the coregistered images (where the outputs of the Notebook will be saved as well) is the following:"
   ]
  },
  {
   "cell_type": "code",
   "execution_count": null,
   "id": "a384b423-a0f8-4827-b547-210b13e11107",
   "metadata": {
    "tags": []
   },
   "outputs": [],
   "source": [
    "prisma_path = 'coregistered/' + sel_prisma_date.replace('-', '') + '/'\n",
    "prisma_path"
   ]
  },
  {
   "cell_type": "code",
   "execution_count": null,
   "id": "8091a3f1-1576-4f1d-aa48-740809f7ea64",
   "metadata": {
    "tags": []
   },
   "outputs": [],
   "source": [
    "prisma_meta = h5py.File('C:/Users/Utente/OneDrive - Politecnico di Milano/Progetti/Progetto LCZ-ODC/LCZ/PRISMA_S2_Processing/imagery_S2_PRISMA_raw/PRS_L2D_STD_20230209102412_20230209102416_0001.he5', 'r')"
   ]
  },
  {
   "cell_type": "markdown",
   "id": "563d7cad-cced-46c6-93d2-e54c2dd3df96",
   "metadata": {
    "tags": []
   },
   "source": [
    "### Interactive selection of the area of interest (AOI)"
   ]
  },
  {
   "cell_type": "markdown",
   "id": "ce7d98b2-3f52-433e-a4dc-63196eb078c8",
   "metadata": {},
   "source": [
    "In this section, it is possible to interactively select the area of interest.\n",
    "\n",
    "<div class=\"alert alert-warning\" role=\"alert\">\n",
    "<span>&#9888;</span>\n",
    "<a id='warning'></a> Pansharpening will only be carried out in the selected area. \n",
    "\n",
    "Running the pansharpening on the whole image extent would end up with a heavy file (up to 15 GB) [*extent: 30 km x 30 km; bands: ~240; spatial resolution: 5m*].\n",
    "</div>"
   ]
  },
  {
   "cell_type": "markdown",
   "id": "a267892b-8e5e-46b5-bf5a-622ba1a2f398",
   "metadata": {},
   "source": [
    "First, get the coordinates of the selected PRISMA image exent, by running the following function:"
   ]
  },
  {
   "cell_type": "code",
   "execution_count": null,
   "id": "f565a997-f621-486d-94d9-9652f09695b7",
   "metadata": {
    "tags": []
   },
   "outputs": [],
   "source": [
    "df = get_prisma_extent(prisma_path, sel_prisma_date)"
   ]
  },
  {
   "cell_type": "markdown",
   "id": "b078ea07-2239-416c-95e0-07a6a9185001",
   "metadata": {},
   "source": [
    "Draw an interactive map displaying the PRISMA image footprint.\n",
    "<a id='MAP'></a>"
   ]
  },
  {
   "cell_type": "code",
   "execution_count": null,
   "id": "0c6ce392-5438-4233-9247-816e37f61785",
   "metadata": {
    "tags": []
   },
   "outputs": [],
   "source": [
    "prisma_map, dc = draw_map(df['lat'].mean(), df['long'].mean(), 10)\n",
    "area_extent = Rectangle(bounds=((list(df.iloc[3, :])), (list(df.iloc[0, :]))), color='red', fill_color='red', fill_opacity=0.1, name='PRISMA image extent')\n",
    "prisma_map.add_layer(area_extent)\n",
    "prisma_map"
   ]
  },
  {
   "cell_type": "markdown",
   "id": "e0e7d790-5e23-4bf5-9ac4-b843e8626cdf",
   "metadata": {},
   "source": [
    "<div class=\"alert alert-success\" role=\"alert\">\n",
    "<span>&#x2714;</span>\n",
    "<a id='libraries'></a>\n",
    "When the map appears, use the <strong>draw a marker</strong> option to select the central point of the AOI. Then just go on with the code.\n",
    "</div>"
   ]
  },
  {
   "cell_type": "code",
   "execution_count": null,
   "id": "65a40d1f-ef64-42d9-b0e0-884e960912f9",
   "metadata": {
    "tags": []
   },
   "outputs": [],
   "source": [
    "coords = dc.last_draw['geometry']['coordinates']"
   ]
  },
  {
   "cell_type": "markdown",
   "id": "40910af8-6355-46e7-b4d8-48826ac617cd",
   "metadata": {},
   "source": [
    "Select through the following widget the extent of the squared area (half of the square side).\n",
    "\n",
    "*Note: there is a limit to 6 km, i.e. the square side cannot be larger than 12 km.*"
   ]
  },
  {
   "cell_type": "code",
   "execution_count": null,
   "id": "b45c323a-cfba-4baf-b473-48b797793aa8",
   "metadata": {
    "tags": []
   },
   "outputs": [],
   "source": [
    "window_w = widgets.IntSlider(\n",
    "    value=3000,\n",
    "    min=0,\n",
    "    max=12000,\n",
    "    step=1,\n",
    "    description='Window (m):',\n",
    "    disabled=False,\n",
    "    continuous_update=False,\n",
    "    orientation='horizontal',\n",
    "    readout=True,\n",
    "    readout_format='d'\n",
    ")\n",
    "window_w"
   ]
  },
  {
   "cell_type": "code",
   "execution_count": null,
   "id": "bdbc5052-4d32-4c8e-a77a-9706ca8fc206",
   "metadata": {
    "tags": []
   },
   "outputs": [],
   "source": [
    "side = window_w.value"
   ]
  },
  {
   "cell_type": "markdown",
   "id": "6a06e222-3d19-452d-b452-c1b37bb55fa2",
   "metadata": {},
   "source": [
    "Call the function `draw_aoi` to extract the vertex coordinates of the AOI."
   ]
  },
  {
   "cell_type": "code",
   "execution_count": null,
   "id": "40c5975b-deb1-4c0e-bef6-e288e4adf539",
   "metadata": {
    "tags": []
   },
   "outputs": [],
   "source": [
    "lat1, long1, polygon = draw_aoi(coords, side)"
   ]
  },
  {
   "cell_type": "code",
   "execution_count": null,
   "id": "22161d9e-432a-4c48-a6ee-5f54ce7050a2",
   "metadata": {
    "tags": []
   },
   "outputs": [],
   "source": [
    "selected_area = Rectangle(bounds=((lat1.min(), long1.min()), (lat1.max(), long1.max())), color='blue', name='Selected AOI')\n",
    "prisma_map.add_layer(selected_area)"
   ]
  },
  {
   "cell_type": "markdown",
   "id": "20452d5f-22e3-4914-810f-d1e323084e4a",
   "metadata": {},
   "source": [
    "<div class=\"alert alert-success\" role=\"alert\">\n",
    "<span>&#x2714;</span>\n",
    "<a id='libraries'></a>\n",
    "The AOI is now displayed in the map.\n",
    "</div>\n",
    "\n",
    "[Go back to the map](#MAP)"
   ]
  },
  {
   "cell_type": "markdown",
   "id": "07e57cb0-9aa7-4e51-9c5b-6af636b00ebe",
   "metadata": {},
   "source": [
    "Export the selection polygon to a Geopackage."
   ]
  },
  {
   "cell_type": "code",
   "execution_count": null,
   "id": "fc227c06-1608-43ca-a26f-b5453975d7e5",
   "metadata": {
    "tags": []
   },
   "outputs": [],
   "source": [
    "polygon = gpd.read_file('./coregistered/' + sel_prisma_date.replace('-', '') + '/aoi_1.gpkg')"
   ]
  },
  {
   "cell_type": "code",
   "execution_count": null,
   "id": "251624a8-e7ce-42bd-9c87-4347fe791a87",
   "metadata": {
    "tags": []
   },
   "outputs": [],
   "source": [
    "polygon.to_file(prisma_path + \"aoi_1.gpkg\", driver=\"GPKG\")"
   ]
  },
  {
   "cell_type": "markdown",
   "id": "014722de-3b81-4c22-854f-adeecfd3a923",
   "metadata": {
    "tags": []
   },
   "source": [
    "### [Optionally, select multiple AOIs]"
   ]
  },
  {
   "cell_type": "markdown",
   "id": "4a8af3f4-ac39-45b7-a392-e938b3888d43",
   "metadata": {},
   "source": [
    "<div class=\"alert alert-warning\" role=\"alert\">\n",
    "<span>&#9888;</span>\n",
    "<a id='warning'></a> Optionally, you can iteratively perform pansharpening on subsets of the original image. <br>\n",
    "Note: do not go closer to the borders! Pansharpening will be affected by border effects.\n",
    "</div>"
   ]
  },
  {
   "cell_type": "code",
   "execution_count": null,
   "id": "a107db52-cfe7-4094-a316-bc7a5c94baab",
   "metadata": {},
   "outputs": [],
   "source": [
    "# Open the last AOI\n",
    "polygon = gpd.read_file(prisma_path + 'aoi_1.gpkg')\n",
    "\n",
    "# Extract the geometry field\n",
    "polygon_geometry = polygon.at[0, 'geometry']\n",
    "coordinates_list = list(polygon_geometry.exterior.coords)\n",
    "\n",
    "# Update the coordinates to define an adjacent AOI\n",
    "# This will create an AOI horizontally (eastword) translated with respect to the previous one\n",
    "# (this is defined based on the selected dimension of the window)\n",
    "\n",
    "new_coordinates = [(x + (side * 2), y) for x, y in coordinates_list]\n",
    "updated_polygon = Polygon(new_coordinates)\n",
    "polygon.at[0, 'geometry'] = updated_polygon\n",
    "\n",
    "# Save the new polygon to a geopackage\n",
    "polygon.to_file(prisma_path + \"aoi_2.gpkg\", driver=\"GPKG\")"
   ]
  },
  {
   "cell_type": "markdown",
   "id": "fef37125-ec8a-4230-b669-78690d85f799",
   "metadata": {
    "tags": []
   },
   "source": [
    "### Import the HS and PAN bands and clip to the AOI"
   ]
  },
  {
   "cell_type": "markdown",
   "id": "7f8e50f8-7aff-4dfe-ab16-9d1f30d61f6f",
   "metadata": {},
   "source": [
    "The co-registered bands of the HS (VNIR) and PAN cubes are imported and clipped to the selected AOI."
   ]
  },
  {
   "cell_type": "markdown",
   "id": "234471fd-7bc1-4419-a907-17b17343be56",
   "metadata": {},
   "source": [
    "<div class=\"alert alert-warning\" role=\"alert\">\n",
    "<span>&#9888;</span>\n",
    "<a id='warning'></a> Only the bands of the VNIR are used for pansharpening, since they cover the same region of the elecromagnetic spectrum as the PAN band. Accordingly, the SWIR bands will not be sharpened to the PAN resolution.\n",
    "</div>"
   ]
  },
  {
   "cell_type": "markdown",
   "id": "308e2b2e-ced2-4761-9175-e6b82923bd47",
   "metadata": {},
   "source": [
    "Set the paths of the panchromatic band `pan_full` and hyperspectral (VNIR) bands `hs_full` (coregistered)."
   ]
  },
  {
   "cell_type": "code",
   "execution_count": null,
   "id": "52ab5bca-da9f-48e5-913a-266fa741afc7",
   "metadata": {
    "tags": []
   },
   "outputs": [],
   "source": [
    "pan_full = prisma_path + 'PR_pan_' + sel_prisma_date.replace('-', '') + '_5m.tif'\n",
    "hs_full = prisma_path + 'PR_VNIR_' + sel_prisma_date.replace('-', '') + '_30m.tif'"
   ]
  },
  {
   "cell_type": "markdown",
   "id": "470e1e6b-df96-48ae-b037-a72f39d92c1b",
   "metadata": {},
   "source": [
    "Set the path and name of the same images clipped to the selected AOI (`pan_path` and `hs_path`)."
   ]
  },
  {
   "cell_type": "code",
   "execution_count": null,
   "id": "841c6240-e3e5-4b58-ba88-4f22a18cbad7",
   "metadata": {
    "tags": []
   },
   "outputs": [],
   "source": [
    "pan_path = prisma_path + 'pan_1.tif'\n",
    "hs_path = prisma_path + 'hs_1.tif'"
   ]
  },
  {
   "cell_type": "markdown",
   "id": "93e6276c-0020-440c-bc80-a65f9d266859",
   "metadata": {},
   "source": [
    "Call the function `clip_pan_hs` defined in `methods.py` to clip the VNIR and PAN bands to the AOI and save them to GeoTIFF files."
   ]
  },
  {
   "cell_type": "code",
   "execution_count": null,
   "id": "4222f2b5-a653-40b8-b12d-7145eceb232e",
   "metadata": {
    "tags": []
   },
   "outputs": [],
   "source": [
    "clip_pan_hs(hs_full, pan_full, polygon, hs_path, pan_path)"
   ]
  },
  {
   "cell_type": "markdown",
   "id": "abd6fd5f-bd5c-4c1e-b7ce-70959d3b83f3",
   "metadata": {},
   "source": [
    "<div class=\"alert alert-success\" role=\"alert\">\n",
    "<span>&#x2714;</span>\n",
    "<a id='libraries'></a>\n",
    "The VNIR and PAN bands have been clipped to the AOI and saved to GeoTIFF files. These will now be used as a starting point for pansharpening.\n",
    "</div>"
   ]
  },
  {
   "cell_type": "markdown",
   "id": "b5fdc445-319b-4be3-bfce-29c8d734f643",
   "metadata": {
    "tags": []
   },
   "source": [
    "### Image preparation for pansharpening"
   ]
  },
  {
   "cell_type": "markdown",
   "id": "b4d2d75b-d47d-4278-a61e-494f0015f2bb",
   "metadata": {},
   "source": [
    "Before applying the pansharpening methods, the VNIR bands have to be upsampled to the same resolution of the PAN band, and possibly all-zero value bands have to be removed."
   ]
  },
  {
   "cell_type": "markdown",
   "id": "135fb348-1929-4d0e-aa4b-4fc0647cdbb9",
   "metadata": {},
   "source": [
    "Open the clipped images. The VNIR bands have to be upsampled to the same resolution of the PAN band to perform the pansharpening."
   ]
  },
  {
   "cell_type": "code",
   "execution_count": null,
   "id": "f4dec33b-6fc5-4cd4-b412-a1dc9f04ac52",
   "metadata": {
    "tags": []
   },
   "outputs": [],
   "source": [
    "with rio.open(pan_path) as src_pan:\n",
    "    pan_data = src_pan.read()\n",
    "    pan_data_meta = src_pan.meta"
   ]
  },
  {
   "cell_type": "code",
   "execution_count": null,
   "id": "93402b75-c8ea-4c56-9c0f-5379c2e83b54",
   "metadata": {
    "tags": []
   },
   "outputs": [],
   "source": [
    "with rio.open(hs_path) as src_hs:\n",
    "    hs_data = src_hs.read()\n",
    "    hs_data_meta = src_hs.meta"
   ]
  },
  {
   "cell_type": "code",
   "execution_count": null,
   "id": "0ec7781e-0805-410a-a03f-c250f60ee584",
   "metadata": {
    "tags": []
   },
   "outputs": [],
   "source": [
    "band_threshold = 1e-8\n",
    "hs_data = hs_data[~np.all(hs_data <= band_threshold, axis=(1,2))]"
   ]
  },
  {
   "cell_type": "markdown",
   "id": "cc93db94-9c62-43cd-bf94-ca173ef78353",
   "metadata": {},
   "source": [
    "Extract the number of VNIR bands."
   ]
  },
  {
   "cell_type": "code",
   "execution_count": null,
   "id": "8719b430-0667-45da-8f4c-06a704b6012e",
   "metadata": {
    "tags": []
   },
   "outputs": [],
   "source": [
    "n_bands = hs_data.shape[0]"
   ]
  },
  {
   "cell_type": "code",
   "execution_count": null,
   "id": "9d3336c0-aff3-443d-abfb-5895c0609d5f",
   "metadata": {
    "tags": []
   },
   "outputs": [],
   "source": [
    "hs_data_meta['count'] = n_bands"
   ]
  },
  {
   "cell_type": "code",
   "execution_count": null,
   "id": "64a4de89-97ba-4082-b84e-0d3c08a26fa2",
   "metadata": {
    "tags": []
   },
   "outputs": [],
   "source": [
    "with rio.open(prisma_path + 'hs_VNIR_1.tif', 'w', **hs_data_meta) as dst:\n",
    "    dst.write(hs_data)"
   ]
  },
  {
   "cell_type": "markdown",
   "id": "7da9af76-c426-4f3a-ad27-c7fd80362533",
   "metadata": {},
   "source": [
    "Upsample the VNIR bands to the same resolution as PAN band. It is possible to select the sampling method."
   ]
  },
  {
   "cell_type": "markdown",
   "id": "94c34253-58da-4356-a32e-e56b0717811e",
   "metadata": {},
   "source": [
    "Select the resampling method: this will be used to interpolate the VNIR bands to the same resolution as PAN."
   ]
  },
  {
   "cell_type": "code",
   "execution_count": null,
   "id": "5a4a59a5-6de5-49d1-959f-1234f83a5bba",
   "metadata": {
    "tags": []
   },
   "outputs": [],
   "source": [
    "resampling_methods = { \"nearest\": Resampling.nearest,\n",
    "                      \"bilinear\": Resampling.bilinear,\n",
    "                      \"cubic\": Resampling.cubic,\n",
    "                      \"cubic_spline\": Resampling.cubic_spline,\n",
    "                      \"lanczos\": Resampling.lanczos,\n",
    "                      \"average\": Resampling.average\n",
    "}\n",
    "\n",
    "resampling_methods_list = list(resampling_methods.keys())\n",
    "\n",
    "resampling_w = widgets.Dropdown(\n",
    "    options=resampling_methods_list,\n",
    "    value='bilinear',\n",
    "    description='Method:',\n",
    "    disabled=False,\n",
    ")\n",
    "resampling_w"
   ]
  },
  {
   "cell_type": "markdown",
   "id": "f4c577f4-cc7b-4e75-a67c-91ebc83a620c",
   "metadata": {},
   "source": [
    "Set the metadata of the upsampled image, and specify the path where it will be saved."
   ]
  },
  {
   "cell_type": "code",
   "execution_count": null,
   "id": "e177904c-c299-41df-b4b1-59a39f575d24",
   "metadata": {
    "tags": []
   },
   "outputs": [],
   "source": [
    "dst_meta = pan_data_meta.copy()\n",
    "dst_meta.update({'count': n_bands})"
   ]
  },
  {
   "cell_type": "code",
   "execution_count": null,
   "id": "7570a3cc-e62b-4f75-98fd-3135a15cf95f",
   "metadata": {
    "tags": []
   },
   "outputs": [],
   "source": [
    "hs_5m_path = prisma_path + 'hs_5m_1.tif'"
   ]
  },
  {
   "cell_type": "markdown",
   "id": "02e7a72c-6342-4039-8184-919b792c50f2",
   "metadata": {},
   "source": [
    "Use the function `resample_image` to upsample the VNIR bands and save them as a new GeoTIFF file."
   ]
  },
  {
   "cell_type": "code",
   "execution_count": null,
   "id": "083ddc1f-2d8d-4795-aa5a-171123105b25",
   "metadata": {
    "tags": []
   },
   "outputs": [],
   "source": [
    "resampled_hs = resample_image(hs_data, hs_data_meta, dst_meta, hs_5m_path, resampling_methods[resampling_w.value])\n",
    "print(f\"Resampling using {resampling_w.value} done\")"
   ]
  },
  {
   "cell_type": "markdown",
   "id": "bbb108cf-3474-4d40-bc95-f96df1fe9240",
   "metadata": {},
   "source": [
    "Finally, open the upsampled hyperspectral image at 5m resolution and remove the bands with all zeros."
   ]
  },
  {
   "cell_type": "code",
   "execution_count": null,
   "id": "8cdff41f-1a95-44b8-b28b-9fb20bf573d5",
   "metadata": {
    "tags": []
   },
   "outputs": [],
   "source": [
    "with rio.open(hs_5m_path) as src_hs_5m:\n",
    "    hs_5m_data = src_hs_5m.read()\n",
    "    hs_5m_data_meta = src_hs_5m.meta"
   ]
  },
  {
   "cell_type": "code",
   "execution_count": null,
   "id": "c07ea765-3bbb-4cfe-9ca0-2ef72dbaf182",
   "metadata": {
    "tags": []
   },
   "outputs": [],
   "source": [
    "band_threshold = 1e-8\n",
    "hs_5m_data = hs_5m_data[~np.all(hs_5m_data <= band_threshold, axis=(1,2))]"
   ]
  },
  {
   "cell_type": "markdown",
   "id": "9dc8f6b5-c086-4dd4-abad-5abc2643287b",
   "metadata": {},
   "source": [
    "<div class=\"alert alert-info\" role=\"alert\">\n",
    "\n",
    "## <a id='sec2'></a>&#x27A4; 2. Component Substitution Based Pansharpening\n",
    "\n",
    "[Back to top](#TOC_TOP)\n",
    "\n",
    "</div>"
   ]
  },
  {
   "cell_type": "markdown",
   "id": "8393a347-0e20-4d25-a264-73db0f61c257",
   "metadata": {},
   "source": [
    "In this part of the Notebook, two Component Substitution (CS) based approaches are implemented for PRISMA image pansharpening, namely the **Principal Component Analysis (PCA)** and **Gram-Schmidt (GS)** methods. An adaptive version of the GS is also implemented, namely **Gram-Schmidt Adaptive (GSA)** ([Aiazzi et al. 2007<sup>5</sup>](#5)).\n",
    "\n",
    "These methods rely upon the projection of the higher spectral resolution image into another space, in order to separate spatial and spectral information. The transformed data are sharpened by substituting the component that containes the spatial information with the PAN image. The greater the correlation between the PAN image and the replaced component, the less spectral distortion will be introduced by the fusion approach. The fusion process is completed by applying the inverse spectral transformation to obtain the fused image."
   ]
  },
  {
   "cell_type": "markdown",
   "id": "2f187211-04ce-4636-a65e-d337346a75b9",
   "metadata": {},
   "source": [
    "The general equation can be expressed as follows:\n",
    "\n",
    "$\\hat{H}_k = \\tilde{H}_k + G_k (P-I_L) \\quad k = 1, ..., N$\n",
    "\n",
    "* $\\hat{H}_k$ is the HS pansharpened image;\n",
    "* $\\tilde{H}_k$ is the HS image interpolated at PAN scale;\n",
    "* $P$ is the PAN image;\n",
    "* $G_k$ are the gain coefficients;\n",
    "* $I_L$ is the so-called intensity component;\n",
    "\n",
    "while $k$ denotes the k-th band ($N$ is the number of bands).\n",
    "\n",
    "$G_k$ and $I_L$ are computed differently depending on the employed method.\n",
    "\n",
    "$I_L$ can be expressed as $I_L = \\sum_{i=1}^{N} w_i \\tilde{H}_i$, but different formulations exist."
   ]
  },
  {
   "cell_type": "markdown",
   "id": "39062e5d-7f47-424d-b1ec-7b009d44c1d9",
   "metadata": {},
   "source": [
    "<div class=\"alert alert-warning\" role=\"alert\">\n",
    "<span>&#9888;</span>\n",
    "<a id='warning'></a> Note about the input data shape for pansharpening functions:\n",
    "</div>\n",
    "\n",
    "Input data must be provided in the following order: `(n_bands, height, width)`, e.g. (63, 2136, 1860).\n",
    "\n",
    "Nonetheless, in order to be saved as GeoTIFF in rasterio the order must be the following: `(height, width, n_bands)`, e.g. (2136, 1860, 63)."
   ]
  },
  {
   "cell_type": "markdown",
   "id": "793e73dc-12c5-4f1a-a4d9-c9c6dffdb784",
   "metadata": {},
   "source": [
    "The metadata of the pansharpened image is the same as the panchromatic band, except for the band number. The following line sets the metadata of the pansharpened image."
   ]
  },
  {
   "cell_type": "code",
   "execution_count": null,
   "id": "9dd55a40-8013-43e0-86ee-9f42859aabe4",
   "metadata": {
    "tags": []
   },
   "outputs": [],
   "source": [
    "pansharpened_meta = pan_data_meta\n",
    "pansharpened_meta.update({'count': hs_5m_data.shape[0]})"
   ]
  },
  {
   "cell_type": "markdown",
   "id": "a082d9ad-8208-44d4-85af-f679fb9967c4",
   "metadata": {
    "tags": []
   },
   "source": [
    "### **PCA**-based pansharpening"
   ]
  },
  {
   "cell_type": "markdown",
   "id": "1c996e2a-fc01-4004-9a67-49af87bed398",
   "metadata": {},
   "source": [
    "The hypothesis underlying the application of PCA to pansharpening is that the spatial information (shared by all the channels) is concentrated in the first PC, while the spectral information specific to each single band) is accounted for the other PCs.\n",
    "\n",
    "The vectors $w_i$ and $G_k$ of coefficient vectors are derived by the PCA procedure applied to the HS image."
   ]
  },
  {
   "cell_type": "code",
   "execution_count": null,
   "id": "012ac131-b261-49d1-99cf-e19e2aba54c9",
   "metadata": {
    "tags": []
   },
   "outputs": [],
   "source": [
    "# Launch the algorithm\n",
    "PCA_pansharpened, variance_ratios, pc_comp = pan_pca(pan_data, hs_5m_data)"
   ]
  },
  {
   "cell_type": "markdown",
   "id": "e5173ffd-1182-4aef-aacd-0384ffa61d7a",
   "metadata": {},
   "source": [
    "The higher the explained variance of the first Principal Component, the more reliable is the method.\n",
    "It is hereafter possible to display the explained variance ratio of the first 10 Principal Components."
   ]
  },
  {
   "cell_type": "code",
   "execution_count": null,
   "id": "1ba4eca6-ba6b-49c3-9b31-f8c4f5358415",
   "metadata": {
    "tags": []
   },
   "outputs": [],
   "source": [
    "x_bar_components = 4 #Change depending on the number of PC to be plotted\n",
    "pc_names = ['PC' + str(i) for i in range(1, x_bar_components+1)]"
   ]
  },
  {
   "cell_type": "code",
   "execution_count": null,
   "id": "63105b43-e698-4e79-9b61-5eeb35602229",
   "metadata": {
    "tags": []
   },
   "outputs": [],
   "source": [
    "plt.plot(range(x_bar_components), variance_ratios[0:x_bar_components], marker = 'o')\n",
    "# set the x-axis labels\n",
    "plt.xticks(range(x_bar_components), pc_names)\n",
    "plt.xlabel('Principal Component')\n",
    "plt.ylabel('Explained Variance Ratio')\n",
    "plt.show()"
   ]
  },
  {
   "cell_type": "code",
   "execution_count": null,
   "id": "23fb267f-45b3-449b-ac4d-c70e5a376859",
   "metadata": {
    "tags": []
   },
   "outputs": [],
   "source": [
    "# Save to file\n",
    "with rio.open(prisma_path + 'pansharpened_PCA_1.tif', 'w', **dst_meta) as dst:\n",
    "    dst.write(PCA_pansharpened)"
   ]
  },
  {
   "cell_type": "markdown",
   "id": "8f3537b4-25d4-42b0-9c1b-346ad2b38a40",
   "metadata": {
    "tags": []
   },
   "source": [
    "### **GS**-based pansharpening"
   ]
  },
  {
   "cell_type": "markdown",
   "id": "16889ebe-18f5-41f3-8179-50e1d9d363ed",
   "metadata": {},
   "source": [
    "The fusion process starts by using, as the component, a synthetic low resolution PAN image $I_L$ at the same spatial resolution as the HS image. A complete orthogonal decomposition is then performed, starting with that component. The pansharpening procedure is completed by substituting that component with the PAN image, and inverting the decomposition.\n",
    "\n",
    "Gain coefficients are computed as follows:\n",
    "\n",
    "$G_k = \\frac{cov(\\tilde{H}_k, I_L)}{var(I_L)}$\n",
    "\n",
    "while the weights:\n",
    "\n",
    "$w_i = \\frac{1}{N}$\n",
    "\n",
    "meaning that the intensity component is computed as a mean of the HS bands."
   ]
  },
  {
   "cell_type": "code",
   "execution_count": null,
   "id": "3de3f25a-5a0c-485c-87fa-577901a08806",
   "metadata": {
    "tags": []
   },
   "outputs": [],
   "source": [
    "# Launch the algotithm\n",
    "GS_pansharpened = pan_GS(pan_data, hs_5m_data)"
   ]
  },
  {
   "cell_type": "code",
   "execution_count": null,
   "id": "c87ec7ae-54a6-4241-b7ac-58fb4a819f27",
   "metadata": {
    "tags": []
   },
   "outputs": [],
   "source": [
    "# Save to file\n",
    "with rio.open(prisma_path + 'pansharpened_GS_1.tif', 'w', **dst_meta) as dst:\n",
    "    dst.write(GS_pansharpened)"
   ]
  },
  {
   "cell_type": "markdown",
   "id": "24d99a7c-534e-45a4-b575-5a75796ea99a",
   "metadata": {
    "tags": []
   },
   "source": [
    "### **GSA**-based pansharpening"
   ]
  },
  {
   "cell_type": "markdown",
   "id": "30c27f9f-461f-43b8-b2bf-73c0b86c38cc",
   "metadata": {},
   "source": [
    "In adaptive version of the GS method, a linear regression between PAN and HS bands is performed. A synthetic intensity having a minimum mean-square error with respect to the reduced PAN, is computed. Accordingly, the weights $w_i$ are estimated by means of a *linear regression algorithm*."
   ]
  },
  {
   "cell_type": "code",
   "execution_count": null,
   "id": "e159774c-845f-48ca-bd4d-9cd516f741a9",
   "metadata": {
    "tags": []
   },
   "outputs": [],
   "source": [
    "# Launch the algorithm\n",
    "GSA_pansharpened = pan_GSA(pan_data, hs_data, hs_5m_data, 'local')"
   ]
  },
  {
   "cell_type": "code",
   "execution_count": null,
   "id": "01fd7c77-5292-4108-b38b-30e43f62d051",
   "metadata": {
    "tags": []
   },
   "outputs": [],
   "source": [
    "# Save to file\n",
    "with rio.open(prisma_path + 'pansharpened_GSA_1.tif', 'w', **dst_meta) as dst:\n",
    "    dst.write(GSA_pansharpened)"
   ]
  },
  {
   "cell_type": "markdown",
   "id": "e52d5524-7f32-4c14-921f-1e33274ba550",
   "metadata": {
    "tags": []
   },
   "source": [
    "### [If you have done piecewise pansharpening, merge the pansharpened images]"
   ]
  },
  {
   "cell_type": "markdown",
   "id": "f391e4c3-b55a-427d-b36a-d7bceee8c6df",
   "metadata": {},
   "source": [
    "<div class=\"alert alert-warning\" role=\"alert\">\n",
    "<span>&#9888;</span>\n",
    "<a id='warning'></a> Optionally, if you have computed more piecewise pansharpening, merge together the pansharpened images as well as the original hyperspectral images with the following code\n",
    "</div>"
   ]
  },
  {
   "cell_type": "code",
   "execution_count": null,
   "id": "e09f48b3-7398-40a5-8200-83ae770ef87c",
   "metadata": {
    "tags": []
   },
   "outputs": [],
   "source": [
    "# merge the original PRISMA images\n",
    "# define the path to the PRISMA images to be merged, and the name of the merged image\n",
    "tiles = [prisma_path + 'hs_5m_1_nn.tif', prisma_path + 'hs_5m_2_nn.tif']\n",
    "output_path = prisma_path + 'hs_5m_merged_nn.tif'\n",
    "\n",
    "src_files_to_mosaic = []\n",
    "for tile in tiles:\n",
    "    src = rio.open(tile)\n",
    "    src_files_to_mosaic.append(src)\n",
    "\n",
    "mosaic, out_trans = merge(src_files_to_mosaic)\n",
    "out_meta = src.meta.copy()\n",
    "\n",
    "out_meta.update({\"driver\": \"GTiff\",\n",
    "                 \"height\": mosaic.shape[1],\n",
    "                 \"width\": mosaic.shape[2],\n",
    "                 \"transform\": out_trans,\n",
    "                 \"crs\": \"epsg:32632\"\n",
    "                })\n",
    "\n",
    "with rio.open(output_path, \"w\", **out_meta) as dest:\n",
    "    dest.write(mosaic)"
   ]
  },
  {
   "cell_type": "code",
   "execution_count": null,
   "id": "20b7febb-c848-488d-97fa-ea2d711235ae",
   "metadata": {},
   "outputs": [],
   "source": [
    "# merge the pansharpened images (with GSA)\n",
    "# define the path to the pansharpened images to be merged, and the name of the merged image\n",
    "tiles = [prisma_path + 'pansharpened_GSA_1.tif', prisma_path + 'pansharpened_GSA_2.tif']\n",
    "output_path = prisma_path + 'pansharpened_GSA_merged.tif'\n",
    "\n",
    "src_files_to_mosaic = []\n",
    "for tile in tiles:\n",
    "    src = rio.open(tile)\n",
    "    src_files_to_mosaic.append(src)\n",
    "\n",
    "mosaic, out_trans = merge(src_files_to_mosaic)\n",
    "out_meta = src.meta.copy()\n",
    "\n",
    "out_meta.update({\"driver\": \"GTiff\",\n",
    "                 \"height\": mosaic.shape[1],\n",
    "                 \"width\": mosaic.shape[2],\n",
    "                 \"transform\": out_trans,\n",
    "                 \"crs\": \"epsg:32632\"\n",
    "                })\n",
    "\n",
    "with rio.open(output_path, \"w\", **out_meta) as dest:\n",
    "    dest.write(mosaic)"
   ]
  },
  {
   "cell_type": "code",
   "execution_count": null,
   "id": "dfe49e96-5042-46f9-b258-5667a6f513fc",
   "metadata": {},
   "outputs": [],
   "source": []
  }
 ],
 "metadata": {
  "kernelspec": {
   "display_name": "Python 3 (ipykernel)",
   "language": "python",
   "name": "python3"
  },
  "language_info": {
   "codemirror_mode": {
    "name": "ipython",
    "version": 3
   },
   "file_extension": ".py",
   "mimetype": "text/x-python",
   "name": "python",
   "nbconvert_exporter": "python",
   "pygments_lexer": "ipython3",
   "version": "3.10.10"
  }
 },
 "nbformat": 4,
 "nbformat_minor": 5
}
