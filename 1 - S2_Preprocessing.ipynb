{
 "cells": [
  {
   "cell_type": "markdown",
   "id": "588e8c29-c67e-4bd2-864d-e2751eead62a",
   "metadata": {},
   "source": [
    "<div class=\"alert alert-info\">\n",
    "<u><strong>Authors:</strong></u> <b>Alberto Vavassori</b> (alberto.vavassori@polimi.it), <b>Emanuele Capizzi</b> (emanuele.capizzi@polimi.it) - DICA - Politecnico di Milano - GIS GEOLab <br>\n",
    "Developed within the LCZ-ODC project, funded by the Italian Space Agency (agreement n. 2022-30-HH.0).\n",
    "</div>"
   ]
  },
  {
   "cell_type": "markdown",
   "id": "0f284aa5-eb57-4999-a3b1-2e6ee862e5fd",
   "metadata": {},
   "source": [
    "# Sentinel-2 imagery preprocessing and preparation\n",
    "<a id='TOC_TOP'></a>\n",
    "This notebook allows to preprocess the Sentinel-2 imagery in order to be ready for next stages of processing. In particulare it allows to perform the following steps indicated in these sections: <br>\n",
    " 1. [convert the Sentinel-2 bands from .jp2 to GeoTIFF and stack the bands into a single multiband GeoTIFF file](#sec1)  \n",
    " 2. [merge Sentinel-2 tiles (band by band) into a unique GeoTIFF file](#sec2)\n",
    " 3. [clip the Sentinel-2 merged image over the PRISMA image extent](#sec3)   \n",
    " 4. [repeat the same procedure for bands from B02 to B12 (for spectral signature plotting)](#sec4)\n",
    "<hr>\n",
    "\n",
    "<div class=\"alert alert-block alert-warning\"> <b>NOTE:</b> The notebook allows you to merge tiles <b>T32TMR</b> and <b>T32TNR</b> of Sentinel-2, which entirely cover the Metropolitan City of Milan (case study of the LCZ-ODC project).\n",
    "</div>"
   ]
  },
  {
   "cell_type": "markdown",
   "id": "541987c5-313f-4686-ac1a-2391ffd6bca2",
   "metadata": {},
   "source": [
    "### Import libraries"
   ]
  },
  {
   "cell_type": "code",
   "execution_count": null,
   "id": "3bd45486-0755-4ee8-8830-85be6467e2a1",
   "metadata": {
    "tags": []
   },
   "outputs": [],
   "source": [
    "import os\n",
    "import numpy as np\n",
    "import matplotlib.pyplot as plt\n",
    "import rasterio\n",
    "from rasterio.merge import merge\n",
    "from rasterio.plot import show\n",
    "from rasterio.plot import show_hist\n",
    "from rasterio import mask\n",
    "from rasterio.warp import reproject, Resampling\n",
    "import ipywidgets as widgets\n",
    "import h5py\n",
    "import pandas as pd\n",
    "import geopandas as gpd\n",
    "from shapely.geometry import Polygon\n",
    "from skimage import exposure\n",
    "\n",
    "# Import functions and set auto-reload\n",
    "from functions import *\n",
    "%load_ext autoreload\n",
    "%autoreload 2"
   ]
  },
  {
   "cell_type": "markdown",
   "id": "3db731d0-5df4-4129-ae01-f436c44c3f72",
   "metadata": {},
   "source": [
    "### Select S2 datasets"
   ]
  },
  {
   "cell_type": "markdown",
   "id": "f16bd672-afcb-4420-a64c-b6dd02c9c593",
   "metadata": {},
   "source": [
    "Select interactively the resolution of Sentinel-2 bands to be used for the preprocessing step:"
   ]
  },
  {
   "cell_type": "code",
   "execution_count": null,
   "id": "8ea295a7-ccba-4956-898b-82202f054e42",
   "metadata": {
    "scrolled": true,
    "tags": []
   },
   "outputs": [],
   "source": [
    "w_resol = widgets.RadioButtons(\n",
    "    options=['R10m', 'R20m', 'R60m'],\n",
    "    description='S2 resolution:',\n",
    "    value='R20m',\n",
    "    disabled=False)\n",
    "w_resol"
   ]
  },
  {
   "cell_type": "code",
   "execution_count": null,
   "id": "78b483fe-3c6c-4271-b78d-d45a7fc15ef6",
   "metadata": {
    "tags": []
   },
   "outputs": [],
   "source": [
    "sel_resol = w_resol.value\n",
    "print(f\"The selected resolution is {sel_resol}.\")"
   ]
  },
  {
   "cell_type": "markdown",
   "id": "d00a4137-68c9-45a3-a12f-b9e96d5ba814",
   "metadata": {},
   "source": [
    "Select the date for Sentinel-2. The dates are in the **yyyy-mm-dd** format. For example, the 2023-02-10 date will correspond to 10th February 2023.\n",
    "Dates available:\n",
    "- 2023-02-10\n",
    "- 2023-03-22\n",
    "- 2023-04-26\n",
    "- 2023-06-25\n",
    "- 2023-07-10"
   ]
  },
  {
   "cell_type": "code",
   "execution_count": null,
   "id": "067ac7fb-28f7-4f31-a14c-8db204f5eadb",
   "metadata": {
    "tags": []
   },
   "outputs": [],
   "source": [
    "date_s2_w = widgets.Dropdown(\n",
    "    options=['2023-02-10', '2023-03-22', '2023-04-26', '2023-06-25', '2023-07-10', '2023-08-19'],\n",
    "    value='2023-02-10',\n",
    "    description='Sentinel-2 date:',\n",
    "    disabled=False,\n",
    "    layout={'width': 'max-content'},\n",
    "    style = {'description_width': 'initial'}\n",
    ")\n",
    "date_s2_w"
   ]
  },
  {
   "cell_type": "code",
   "execution_count": null,
   "id": "3b4a466b-2f93-4e88-97dd-40b843a5aa29",
   "metadata": {
    "tags": []
   },
   "outputs": [],
   "source": [
    "date_prisma_w = widgets.Dropdown(\n",
    "    options=['2023-02-09', '2023-03-22', '2023-04-08', '2023-06-17', '2023-07-10', '2023-08-08'],\n",
    "    value='2023-02-09',\n",
    "    description='PRISMA date:',\n",
    "    disabled=False,\n",
    "    layout={'width': 'max-content'},\n",
    "    style = {'description_width': 'initial'}\n",
    ")\n",
    "date_prisma_w"
   ]
  },
  {
   "cell_type": "code",
   "execution_count": null,
   "id": "bfc178e0-4310-4684-8439-0603b9e01a98",
   "metadata": {
    "tags": []
   },
   "outputs": [],
   "source": [
    "sel_s2_date = date_s2_w.value\n",
    "sel_prisma_date = date_prisma_w.value\n",
    "print(f\"The selected dates are -> Sentinel-2: {sel_s2_date} | PRISMA: {sel_prisma_date}.\")"
   ]
  },
  {
   "attachments": {
    "5c8ec605-389d-4bb2-8b33-288575471bdc.png": {
     "image/png": "[encoded data removed]"
    }
   },
   "cell_type": "markdown",
   "id": "ba44f92d-9240-4352-abe6-2ed3d07d9d39",
   "metadata": {},
   "source": [
    "The following function allows you to automatically get the path of each Sentinel-2 band with the corresponding spatial resolution selected by the user. The files are contained inside the **imagery_S2_PRISMA** folder, which contains all the data.\n",
    "\n",
    "![image.png](attachment:5c8ec605-389d-4bb2-8b33-288575471bdc.png)"
   ]
  },
  {
   "cell_type": "markdown",
   "id": "db7491d0",
   "metadata": {},
   "source": [
    "Call the function to automatically retreive the Sentinel-2 tiles path:"
   ]
  },
  {
   "cell_type": "code",
   "execution_count": null,
   "id": "bbf0d591-cceb-4e4f-a5fd-f533f3b671e2",
   "metadata": {
    "tags": []
   },
   "outputs": [],
   "source": [
    "path_TMR, path_TNR = get_TMR_TNR_paths('imagery_S2_PRISMA', sel_resol, sel_s2_date)"
   ]
  },
  {
   "cell_type": "markdown",
   "id": "04ffd278-96e7-431f-b946-ccba59144634",
   "metadata": {},
   "source": [
    "Then, define the path to the PRISMA image to be used for clipping the Sentinel-2 image. This image cover the entire study area chosen during the project:"
   ]
  },
  {
   "cell_type": "code",
   "execution_count": null,
   "id": "76227449-27e2-437e-ae57-d3aa20423e89",
   "metadata": {
    "tags": []
   },
   "outputs": [],
   "source": [
    "selected_image_prisma = get_PRISMA_path('imagery_S2_PRISMA', sel_prisma_date)\n",
    "print(selected_image_prisma)"
   ]
  },
  {
   "cell_type": "code",
   "execution_count": null,
   "id": "16598d3f-85f7-4d86-992e-32658fb0b9d2",
   "metadata": {
    "tags": []
   },
   "outputs": [],
   "source": [
    "f = h5py.File(selected_image_prisma, 'r')"
   ]
  },
  {
   "cell_type": "markdown",
   "id": "988535dc-c589-4067-b1ba-f24bb65f546c",
   "metadata": {},
   "source": [
    "## 1. <a id='sec1'></a>Convert bands format from .jp2 to GeoTIFF and stack bands in a single GeoTIFF\n",
    "\n",
    "[Back to top](#TOC_TOP)\n",
    "\n",
    "\n",
    "The following code will convert the bands selected in the band_names list in GeoTIFF format and it stacks the bands in a single GeoTIFF image. <br>\n",
    "Let's check the files available inside each folder and define the output name of the stacked image. In particular the name will include:\n",
    "- *tile name*: e.g. T32TMR or T32TNR\n",
    "- *date of acquisition*: e.g. 20230210T102049\n",
    "- *spatial resolution*: e.g. 20m\n",
    "\n",
    "The output name file will be something similar to: `T32TMR_20230210T102049_20m`"
   ]
  },
  {
   "cell_type": "code",
   "execution_count": null,
   "id": "c8df6fa8-692c-4fdf-9499-4818a855a556",
   "metadata": {
    "tags": []
   },
   "outputs": [],
   "source": [
    "# Create the folder/directory if it doesn't exist where all the output are saved\n",
    "if not os.path.exists('S2_outputs'):\n",
    "    os.makedirs('S2_outputs')\n",
    "\n",
    "# List the files contained inside the folder (tile TMR)\n",
    "dir_list_TMR = os.listdir(path_TMR)"
   ]
  },
  {
   "cell_type": "code",
   "execution_count": null,
   "id": "8656d25c",
   "metadata": {
    "tags": []
   },
   "outputs": [],
   "source": [
    "dir_list_TMR"
   ]
  },
  {
   "cell_type": "code",
   "execution_count": null,
   "id": "d4d21407-81c5-4e01-a66c-0b903cf061f8",
   "metadata": {
    "tags": []
   },
   "outputs": [],
   "source": [
    "# Define the GeoTIFF image output name (tile TMR)\n",
    "TMR_output_name = 'S2_outputs/T32TMR_' + sel_s2_date.replace('-', '') + '_' + sel_resol[1:] + '.tif'\n",
    "TMR_output_name"
   ]
  },
  {
   "cell_type": "code",
   "execution_count": null,
   "id": "a5ea7d3c-83d9-446e-bdd6-46c11c8d49cc",
   "metadata": {
    "tags": []
   },
   "outputs": [],
   "source": [
    "# List the files contained inside the folder (tile TNR)\n",
    "dir_list_TNR = os.listdir(path_TNR)"
   ]
  },
  {
   "cell_type": "code",
   "execution_count": null,
   "id": "c8244aa2-c389-4ef3-9c30-ad1cb0d932f6",
   "metadata": {
    "tags": []
   },
   "outputs": [],
   "source": [
    "# Define the GeoTIFF image output name (tile TNR)\n",
    "TNR_output_name = 'S2_outputs/T32TNR_' + sel_s2_date.replace('-', '') + '_' + sel_resol[1:] + '.tif'\n",
    "TNR_output_name"
   ]
  },
  {
   "cell_type": "markdown",
   "id": "238e998a-7c89-47a3-a3d8-dc02db5ff517",
   "metadata": {},
   "source": [
    "Now it is possible to select the bands that you want to stack in a single image.\n",
    "\n",
    "\n",
    "<div class=\"alert alert-block alert-warning\"> <b>NOTE:</b> only imagery with the same resolution and that are contained in the same folder can be merged.\n",
    "</div>"
   ]
  },
  {
   "cell_type": "code",
   "execution_count": null,
   "id": "818bd316-d1ce-45aa-a538-e45aa9d8679b",
   "metadata": {
    "tags": []
   },
   "outputs": [],
   "source": [
    "band_names = [i[23:26] for i in dir_list_TMR]\n",
    "\n",
    "checkboxes = [widgets.Checkbox(value=False, description=label) for label in band_names]\n",
    "output = widgets.VBox(children=checkboxes)\n",
    "display(output)"
   ]
  },
  {
   "cell_type": "code",
   "execution_count": null,
   "id": "0d447c4f-8f91-4e9f-a93c-50f3321aef18",
   "metadata": {
    "tags": []
   },
   "outputs": [],
   "source": [
    "dir_list_TMR"
   ]
  },
  {
   "cell_type": "code",
   "execution_count": null,
   "id": "8a22feb4-82a9-4bf1-983c-38803b95696b",
   "metadata": {
    "tags": []
   },
   "outputs": [],
   "source": [
    "# Create a list with the selected bands\n",
    "selected_bands = ['B02', 'B03', 'B04', 'B8A']\n",
    "#selected_bands = []\n",
    "for i in range(0, len(checkboxes)):\n",
    "    if checkboxes[i].value == True:\n",
    "        selected_bands = selected_bands + [checkboxes[i].description]\n",
    "print(selected_bands)\n",
    "\n",
    "# # Otherwise use a predefined list\n",
    "# band_names = ['B8A', 'B04', 'B03', 'B02']"
   ]
  },
  {
   "cell_type": "markdown",
   "id": "b2ca4720",
   "metadata": {},
   "source": [
    "The following function allows to convert the band format from .jp2 to GeoTIFF and stack the GeoTIFF bands into a single multiband GeoTIFF image."
   ]
  },
  {
   "cell_type": "markdown",
   "id": "850654ce-80ad-4b70-9f97-4a993f93c7ab",
   "metadata": {},
   "source": [
    "Call the function to create the stacked files for each tile:"
   ]
  },
  {
   "cell_type": "code",
   "execution_count": null,
   "id": "5d5dce86-cbcd-42a4-abcf-af0d89ed278f",
   "metadata": {
    "tags": []
   },
   "outputs": [],
   "source": [
    "convert_jp2_to_geotiff(path_TMR, selected_bands, TMR_output_name)"
   ]
  },
  {
   "cell_type": "code",
   "execution_count": null,
   "id": "60b345dc-85ca-486f-a349-6083bb9071c8",
   "metadata": {
    "tags": []
   },
   "outputs": [],
   "source": [
    "convert_jp2_to_geotiff(path_TNR, selected_bands, TNR_output_name)"
   ]
  },
  {
   "cell_type": "code",
   "execution_count": null,
   "id": "2d035dcb-9d99-4441-9553-738350da66fa",
   "metadata": {
    "tags": []
   },
   "outputs": [],
   "source": [
    "# Open the first image using rasterio\n",
    "with rasterio.open(TMR_output_name) as src:\n",
    "    img1 = (src.read(indexes = [3,2,1]) - 1000 ) / 10000\n",
    "\n",
    "    show(img1*3)"
   ]
  },
  {
   "cell_type": "code",
   "execution_count": null,
   "id": "39eaef5a-c704-4a93-bf68-8bdd60d28a98",
   "metadata": {
    "tags": []
   },
   "outputs": [],
   "source": [
    "# Open the second image using rasterio\n",
    "with rasterio.open(TNR_output_name) as src:\n",
    "    img2 = (src.read(indexes = [3,2,1]) - 1000) / 10000\n",
    "    \n",
    "    show(img2*3)"
   ]
  },
  {
   "cell_type": "markdown",
   "id": "d076f964-f904-4b57-a5fd-8c064bc595d5",
   "metadata": {},
   "source": [
    "## 2. <a id='sec2'></a>Merge Sentinel-2 tiles\n",
    "\n",
    "[Back to top](#TOC_TOP)\n",
    "\n",
    "This part of the code allows to create the mosaicked image by merging the desired Sentinel-2 tiles. <br> In the following list, the desired tiles have to be specified. In this case, the TMR and TNR tiles (generated in the previous step) are being used:"
   ]
  },
  {
   "cell_type": "code",
   "execution_count": null,
   "id": "e1c04efb-3099-44e1-952c-83c465050a09",
   "metadata": {
    "tags": []
   },
   "outputs": [],
   "source": [
    "tiles = [TMR_output_name, TNR_output_name]"
   ]
  },
  {
   "cell_type": "markdown",
   "id": "642a7fff-34ba-4beb-aba0-4abeeae2736b",
   "metadata": {},
   "source": [
    "Let's automatically define the output name of the mosaic:"
   ]
  },
  {
   "cell_type": "code",
   "execution_count": null,
   "id": "ebdcd32f-874a-459d-b897-5e2abff8e0d4",
   "metadata": {
    "tags": []
   },
   "outputs": [],
   "source": [
    "mosaic_name = 'S2_outputs/S2_' + sel_s2_date.replace('-', '') + '_' + sel_resol[1:] + '.tif'\n",
    "mosaic_name"
   ]
  },
  {
   "cell_type": "markdown",
   "id": "35c07410",
   "metadata": {},
   "source": [
    "The following function allows to merge the Sentinel-2 tiles into a single mosaic image and write it in a GeoTIFF file:"
   ]
  },
  {
   "cell_type": "code",
   "execution_count": null,
   "id": "1e979988-7761-425c-a8f3-4b99259560f9",
   "metadata": {
    "tags": []
   },
   "outputs": [],
   "source": [
    "merge_tiles_s2(tiles, mosaic_name)"
   ]
  },
  {
   "cell_type": "code",
   "execution_count": null,
   "id": "13aeafeb-3a4d-4355-8f49-0a4411033f7b",
   "metadata": {
    "tags": []
   },
   "outputs": [],
   "source": [
    "# Open the first image using rasterio\n",
    "with rasterio.open(mosaic_name) as src:\n",
    "    mos = src.read(indexes = [3,2,1])\n",
    "    src_meta = src.meta\n",
    "    \n",
    "    show(mos*3)"
   ]
  },
  {
   "cell_type": "markdown",
   "id": "c21f5430-9053-434d-8f9d-20cd138bb18c",
   "metadata": {},
   "source": [
    "## 3. <a id='sec3'></a>Clipping Sentinel-2 image to PRISMA image extent\n",
    "\n",
    "[Back to top](#TOC_TOP)\n",
    "\n",
    "This part is used to clip the Sentinel-2 mosaic over the PRISMA image extent.\n",
    "\n",
    "<div class=\"alert alert-block alert-warning\"> <b>NOTE:</b> The coordinates corresponding to the PRISMA imagery bounding box are contained inside the PRISMA data cube and can be extracted as shown in the next steps.\n",
    "</div>"
   ]
  },
  {
   "cell_type": "markdown",
   "id": "29008162",
   "metadata": {},
   "source": [
    "Define the dataframe containing the bounding box of PRISMA image (the bounding box is provided in the attributes of the PRISMA file):"
   ]
  },
  {
   "cell_type": "code",
   "execution_count": null,
   "id": "85ff5c1c-2c45-42ea-9d30-b1c6aa2fbdac",
   "metadata": {
    "tags": []
   },
   "outputs": [],
   "source": [
    "df = pd.DataFrame({'east': [f.attrs['Product_ULcorner_easting'],\n",
    "                            f.attrs['Product_URcorner_easting'],\n",
    "                            f.attrs['Product_LRcorner_easting'],\n",
    "                            f.attrs['Product_LLcorner_easting']],\n",
    "                   'north': [f.attrs['Product_ULcorner_northing'],\n",
    "                             f.attrs['Product_URcorner_northing'],\n",
    "                             f.attrs['Product_LRcorner_northing'],\n",
    "                             f.attrs['Product_LLcorner_northing']]})"
   ]
  },
  {
   "cell_type": "markdown",
   "id": "f5fe804b",
   "metadata": {},
   "source": [
    "Create a polygon shape using the bounding box coordinates stored in the dataframe:"
   ]
  },
  {
   "cell_type": "code",
   "execution_count": null,
   "id": "80b880f1-3143-431c-a6f3-6c1212efeb6c",
   "metadata": {
    "tags": []
   },
   "outputs": [],
   "source": [
    "polygon_geom = Polygon(zip(df.east, df.north))\n",
    "polygon = gpd.GeoDataFrame(index = [0], crs='epsg:32632', geometry = [polygon_geom])\n",
    "polygon = polygon.buffer(15, join_style=2)\n",
    "shapes = polygon.geometry"
   ]
  },
  {
   "cell_type": "markdown",
   "id": "5b6140ea-a017-4f8b-b0f5-0adb2b31e6b1",
   "metadata": {},
   "source": [
    "Save the polygon of the study area. It corresponds to the image of the 9th February 2023:"
   ]
  },
  {
   "cell_type": "code",
   "execution_count": null,
   "id": "5dc6b4af-4b63-4734-9f61-c7e56fb49d33",
   "metadata": {
    "tags": []
   },
   "outputs": [],
   "source": [
    "#polygon.to_file('study_area.gpkg')  #study area is the one from image of 9th February 2023"
   ]
  },
  {
   "cell_type": "markdown",
   "id": "03b77879",
   "metadata": {},
   "source": [
    "Use the `rasterio.mask` function to clip the Sentinel-2 image with the previously created polygon (bounding box):"
   ]
  },
  {
   "cell_type": "code",
   "execution_count": null,
   "id": "79279af4-db36-4ae4-8dcc-82babe0a5c47",
   "metadata": {
    "tags": []
   },
   "outputs": [],
   "source": [
    "with rasterio.open(mosaic_name) as src:\n",
    "    prova_meta = src.meta.copy()\n",
    "    out_image, out_transform = rasterio.mask.mask(src, shapes, crop=True, all_touched=True)\n",
    "    out_meta = prova_meta\n",
    "    \n",
    "# Save clipped imagery - Update metadata\n",
    "out_meta.update({\"driver\": \"GTiff\",\n",
    "                 \"height\": out_image.shape[1],\n",
    "                 \"width\": out_image.shape[2],\n",
    "                 \"transform\": out_transform})"
   ]
  },
  {
   "cell_type": "markdown",
   "id": "4e6c2592-321b-4652-a2e3-25a571985ec0",
   "metadata": {},
   "source": [
    "Automatically define the output image name:"
   ]
  },
  {
   "cell_type": "code",
   "execution_count": null,
   "id": "1a9d8766-ffbe-48f8-b21e-bb62763aa6b0",
   "metadata": {
    "tags": []
   },
   "outputs": [],
   "source": [
    "mosaic_name_clip = mosaic_name[0:-4] +'_clip.tif'\n",
    "mosaic_name_clip"
   ]
  },
  {
   "cell_type": "markdown",
   "id": "47f18203-7001-4fef-8503-2de20d72bcb6",
   "metadata": {},
   "source": [
    "Save the clipped mosaic image:"
   ]
  },
  {
   "cell_type": "code",
   "execution_count": null,
   "id": "8106ee54-6da6-439c-b3ee-a71e13e73c0a",
   "metadata": {
    "tags": []
   },
   "outputs": [],
   "source": [
    "with rasterio.open(mosaic_name_clip, \"w\", **out_meta) as dest:\n",
    "    dest.write(out_image)"
   ]
  },
  {
   "cell_type": "code",
   "execution_count": null,
   "id": "edf8923d-30b8-45f9-a287-1625806cafa9",
   "metadata": {
    "tags": []
   },
   "outputs": [],
   "source": [
    "# Open the first image using rasterio\n",
    "with rasterio.open(mosaic_name_clip) as src:\n",
    "    img1 = src.read(indexes = [3,2,1])\n",
    "    \n",
    "    # Calculate the 2nd and 98th percentiles of the image\n",
    "    p2, p98 = np.percentile(img1, (2, 98))\n",
    "\n",
    "    # Apply a contrast stretch to the image\n",
    "    img1 = exposure.rescale_intensity(img1, in_range=(p2, p98))\n",
    "\n",
    "    # Create a figure with two axes\n",
    "    fig, ax = plt.subplots(1, 1, figsize=(6,6))\n",
    "    show(img1)"
   ]
  },
  {
   "cell_type": "markdown",
   "id": "34a853d6-9912-4709-aa0a-b5f453b2dc53",
   "metadata": {},
   "source": [
    "## 4. <a id='sec4'></a>Repeat the same procedure for bands from B02 to B12 (_for spectral signature plotting_)\n",
    "\n",
    "[Back to top](#TOC_TOP)"
   ]
  },
  {
   "cell_type": "code",
   "execution_count": null,
   "id": "4f1db459-0dfc-45e0-8427-abc9921d59d4",
   "metadata": {
    "tags": []
   },
   "outputs": [],
   "source": [
    "selected_bands = ['B02', 'B03', 'B04', 'B05', 'B06', 'B07', 'B8A', 'B11', 'B12']"
   ]
  },
  {
   "cell_type": "code",
   "execution_count": null,
   "id": "569be08c-d9fc-4f15-822c-4ea89054eb68",
   "metadata": {
    "tags": []
   },
   "outputs": [],
   "source": [
    "convert_jp2_to_geotiff(path_TMR, selected_bands, TMR_output_name)"
   ]
  },
  {
   "cell_type": "code",
   "execution_count": null,
   "id": "43ced520-81ba-4fac-92ae-2b94615749ff",
   "metadata": {
    "tags": []
   },
   "outputs": [],
   "source": [
    "convert_jp2_to_geotiff(path_TNR, selected_bands, TNR_output_name)"
   ]
  },
  {
   "cell_type": "code",
   "execution_count": null,
   "id": "22a61312-a5d3-4957-b46f-d994b2b0d39f",
   "metadata": {
    "tags": []
   },
   "outputs": [],
   "source": [
    "tiles = [TMR_output_name, TNR_output_name]"
   ]
  },
  {
   "cell_type": "code",
   "execution_count": null,
   "id": "ddd0041f-b120-49df-8870-44f8f5139ef2",
   "metadata": {
    "tags": []
   },
   "outputs": [],
   "source": [
    "mosaic_name = 'S2_outputs/S2_' + sel_s2_date.replace('-', '') + '_' + sel_resol[1:] + '_all_bands.tif'\n",
    "mosaic_name"
   ]
  },
  {
   "cell_type": "code",
   "execution_count": null,
   "id": "28d506ff-15e2-400e-9576-29ac4e7780d9",
   "metadata": {
    "tags": []
   },
   "outputs": [],
   "source": [
    "merge_tiles_s2(tiles, mosaic_name)"
   ]
  },
  {
   "cell_type": "code",
   "execution_count": null,
   "id": "e919fd22-0d79-4e19-baf0-47fc6f17a95a",
   "metadata": {
    "tags": []
   },
   "outputs": [],
   "source": [
    "with rasterio.open(mosaic_name) as src:\n",
    "    prova_meta = src.meta.copy()\n",
    "    out_image, out_transform = rasterio.mask.mask(src, shapes, crop=True, all_touched=True)\n",
    "    #out_image = (out_image - 1000) / 10000\n",
    "    out_meta = prova_meta\n",
    "    \n",
    "# Save clipped imagery - Update metadata\n",
    "out_meta.update({\"driver\": \"GTiff\",\n",
    "                 \"height\": out_image.shape[1],\n",
    "                 \"width\": out_image.shape[2],\n",
    "                 \"transform\": out_transform})"
   ]
  },
  {
   "cell_type": "code",
   "execution_count": null,
   "id": "00fce626-4cca-4e30-9c4b-be7d9cb83681",
   "metadata": {
    "tags": []
   },
   "outputs": [],
   "source": [
    "ninth_element = out_image[8, :, :]\n",
    "out_image = np.delete(out_image, 8, axis = 0)\n",
    "out_image = np.insert(out_image, 6, ninth_element, axis = 0)"
   ]
  },
  {
   "cell_type": "code",
   "execution_count": null,
   "id": "73f90c21-f850-4e48-ae66-8d16a5817e9d",
   "metadata": {
    "tags": []
   },
   "outputs": [],
   "source": [
    "mosaic_name_clip = mosaic_name[0:-4] +'_clip.tif'\n",
    "mosaic_name_clip"
   ]
  },
  {
   "cell_type": "code",
   "execution_count": null,
   "id": "60ade1ec-2dab-4001-b77a-716915d22f27",
   "metadata": {
    "tags": []
   },
   "outputs": [],
   "source": [
    "with rasterio.open(mosaic_name_clip, \"w\", **out_meta) as dest:\n",
    "    dest.write(out_image)"
   ]
  },
  {
   "cell_type": "markdown",
   "id": "e293a5ed-73f7-4f39-b345-7c2bb59017bb",
   "metadata": {},
   "source": [
    "### Resampling all S2 bands from 20m to 30m"
   ]
  },
  {
   "cell_type": "code",
   "execution_count": null,
   "id": "f62c5861-8dbf-4cac-bacc-f60672846c68",
   "metadata": {
    "tags": []
   },
   "outputs": [],
   "source": [
    "with rasterio.open(mosaic_name_clip) as src:\n",
    "    # Read the data from the red, green, and blue bands\n",
    "    data = src.read()\n",
    "    src_meta = src.meta\n",
    "\n",
    "dst_resolution = 30\n",
    "\n",
    "dst_meta = src_meta.copy()\n",
    "dst_meta.update({\n",
    "    'height': int(src.height * src.transform[0] / dst_resolution),\n",
    "    'width': int(src.width * src.transform[0] / dst_resolution),\n",
    "    'transform': rasterio.Affine(dst_resolution, 0, src.bounds.left, 0, -dst_resolution, src.bounds.top),\n",
    "    'dtype' : 'float32'\n",
    "})\n",
    "\n",
    "resampled_data = np.zeros((src.count, dst_meta['height'], dst_meta['width']), dtype=data.dtype)\n",
    "reproject(data,resampled_data,src_transform=src.transform,src_crs=src.crs, dst_transform=dst_meta['transform'], dst_crs=src.crs, resampling=Resampling.bilinear);\n",
    "\n",
    "s2_30_path = 'S2_outputs/S2_'+ sel_s2_date.replace('-', '') + '_30m_all_bands_clip.tif'\n",
    "print(f\"Sentinel-2 image with {dst_resolution}m resolution path --> {s2_30_path}\")\n",
    "\n",
    "with rasterio.open(s2_30_path, 'w', **dst_meta) as dst:\n",
    "    dst.write(resampled_data)"
   ]
  },
  {
   "cell_type": "code",
   "execution_count": null,
   "id": "6bdeadde-c686-4ce8-933e-2573ef17cb1e",
   "metadata": {
    "tags": []
   },
   "outputs": [],
   "source": [
    "if os.path.isfile(mosaic_name):\n",
    "    os.remove(mosaic_name)\n",
    "    \n",
    "if os.path.isfile(TNR_output_name):\n",
    "    os.remove(TNR_output_name)\n",
    "    \n",
    "if os.path.isfile(TMR_output_name):\n",
    "    os.remove(TMR_output_name)"
   ]
  },
  {
   "cell_type": "code",
   "execution_count": null,
   "id": "2510b931-b21d-4f4c-bd09-2d5626f07ad0",
   "metadata": {},
   "outputs": [],
   "source": []
  }
 ],
 "metadata": {
  "kernelspec": {
   "display_name": "Python 3 (ipykernel)",
   "language": "python",
   "name": "python3"
  },
  "language_info": {
   "codemirror_mode": {
    "name": "ipython",
    "version": 3
   },
   "file_extension": ".py",
   "mimetype": "text/x-python",
   "name": "python",
   "nbconvert_exporter": "python",
   "pygments_lexer": "ipython3",
   "version": "3.10.10"
  }
 },
 "nbformat": 4,
 "nbformat_minor": 5
}
