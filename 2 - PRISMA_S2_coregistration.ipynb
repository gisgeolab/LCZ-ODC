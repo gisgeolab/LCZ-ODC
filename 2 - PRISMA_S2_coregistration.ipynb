{
 "cells": [
  {
   "cell_type": "markdown",
   "id": "a3d0c8e8-2f42-4c87-b717-cc057053f366",
   "metadata": {},
   "source": [
    "<div class=\"alert alert-info\">\n",
    "<u><strong>Authors:</strong></u> <b>Alberto Vavassori</b> (alberto.vavassori@polimi.it), <b>Emanuele Capizzi</b> (emanuele.capizzi@polimi.it) - DICA - Politecnico di Milano - GIS GEOLab <br>\n",
    "Developed within the LCZ-ODC project, funded by the Italian Space Agency (agreement n. 2022-30-HH.0).\n",
    "</div>"
   ]
  },
  {
   "cell_type": "markdown",
   "id": "722132e0-42a5-4590-a76d-d2aa6d6b3648",
   "metadata": {},
   "source": [
    "# Co-registration of PRISMA imagery with Sentinel-2 imagery through GeFolki algorithm\n",
    "\n",
    "This notebook is meant to co-register PRISMA imagery (SWIR and NIR data cubes) using Sentinel-2 pre-processed imagery as reference. <br> \n",
    "Co-registration is performed using the Ge-Folki algorithm (reference GitHub page for Geofolki algorithm: [Link](https://github.com/aplyer/gefolki)) which is based on Optical-Flow Computation.\n",
    "\n",
    "<a id='TOC_TOP'></a>\n",
    "\n",
    "The main steps implemented in this notebook are the following: <br>\n",
    " 1. [opening PRISMA file (provided in .he5 format), reading and extracting image data](#sec1)  \n",
    " 2. [importing the pre-processed Sentinel-2 image clipped to PRISMA image extent (i.e. result obtained through the notebook `1 - S2_Preprocessing.ipynb`) and resample it at 30m resolution](#sec2)\n",
    " 3. [application of GeFolki algorithm](#sec3)  \n",
    " 4. [exporting the original non co-registered PRISMA bands (RGB composite and all NIR/SWIR bands) as well as the co-registered PRISMA bands (RGB composite and all NIR/SWIR bands); the bands combinations are exported in GeoTIFF](#sec4)\n",
    " 5. [Panchromatic coregistration and export](#sec5)\n",
    "<hr>"
   ]
  },
  {
   "cell_type": "markdown",
   "id": "6f23e73b-095b-470d-a9d3-609b9ec293b5",
   "metadata": {},
   "source": [
    "## 1. <a id='sec1'></a>Opening PRISMA file, reading and extracting image data"
   ]
  },
  {
   "cell_type": "markdown",
   "id": "25eee82f-cd8c-4cc7-952b-5845f52c0527",
   "metadata": {},
   "source": [
    "**REQUIREMENT**: installation of [***h5py***](https://docs.h5py.org/en/stable/quick.html) library from command line with `pip install h5py`.\n",
    "Libraries required for running the code:\n",
    "- `h5py`\n",
    "- `numpy`\n",
    "- `matplotlib`\n",
    "- `rasterio`\n",
    "- `os`\n",
    "- `pylab`\n",
    "- `ipwidgets`\n",
    "- GeFolki functionalities (`EFolki` and `wrapData`)"
   ]
  },
  {
   "cell_type": "code",
   "execution_count": null,
   "id": "cff8fae0-6239-41bd-b19b-659ff85885c9",
   "metadata": {
    "tags": []
   },
   "outputs": [],
   "source": [
    "#Import libraries\n",
    "import h5py\n",
    "import numpy as np\n",
    "import rasterio as rio\n",
    "from rasterio.plot import show, show_hist\n",
    "from rasterio.warp import reproject, Resampling\n",
    "import matplotlib.pyplot as plt\n",
    "from matplotlib.ticker import MaxNLocator\n",
    "import pylab as pl\n",
    "import os\n",
    "import ipywidgets as widgets\n",
    "\n",
    "# Import Gefolki functionalities\n",
    "import sys\n",
    "sys.path.append('python')\n",
    "from algorithm import EFolki\n",
    "from tools import wrapData\n",
    "\n",
    "# Import functions and set auto-reload\n",
    "from functions import *\n",
    "%load_ext autoreload\n",
    "%autoreload 2\n",
    "\n",
    "# Create the folder/directory if it doesn't exist\n",
    "if not os.path.exists('PRISMA_outputs'):\n",
    "    os.makedirs('PRISMA_outputs')"
   ]
  },
  {
   "cell_type": "markdown",
   "id": "6266e08f-c3c9-47fc-9755-0bdfb7c8e13d",
   "metadata": {},
   "source": [
    "Open the file containing the **PRISMA** image (.he5 file) and **Sentinel-2** to be processed:"
   ]
  },
  {
   "cell_type": "code",
   "execution_count": null,
   "id": "91f4e9c6-3541-4091-a25c-622ecceaf86a",
   "metadata": {
    "tags": []
   },
   "outputs": [],
   "source": [
    "date_s2_w = widgets.Dropdown(\n",
    "    options=['2023-02-10', '2023-03-22', '2023-04-26', '2023-06-25', '2023-07-10'],\n",
    "    value='2023-02-10',\n",
    "    description='Sentinel-2 date:',\n",
    "    disabled=False,\n",
    "    layout={'width': 'max-content'},\n",
    "    style = {'description_width': 'initial'}\n",
    ")\n",
    "date_s2_w"
   ]
  },
  {
   "cell_type": "code",
   "execution_count": null,
   "id": "8b72a2d0-2d86-4ff4-90f8-7a0cc0781008",
   "metadata": {
    "tags": []
   },
   "outputs": [],
   "source": [
    "date_prisma_w = widgets.Dropdown(\n",
    "    options=['2023-02-09', '2023-03-22', '2023-04-08', '2023-06-17', '2023-07-10'],\n",
    "    value='2023-02-09',\n",
    "    description='PRISMA date:',\n",
    "    disabled=False,\n",
    "    layout={'width': 'max-content'},\n",
    "    style = {'description_width': 'initial'}\n",
    ")\n",
    "date_prisma_w"
   ]
  },
  {
   "cell_type": "code",
   "execution_count": null,
   "id": "d3e05f78-3fa2-4bce-8965-aa2d22e7875a",
   "metadata": {
    "tags": []
   },
   "outputs": [],
   "source": [
    "sel_s2_date = date_s2_w.value\n",
    "sel_prisma_date = date_prisma_w.value\n",
    "print(f\"The selected dates are --> Sentinel-2: {sel_s2_date} | PRISMA: {sel_prisma_date}.\")\n",
    "\n",
    "selected_image_s2 = get_s2_path('S2_outputs', sel_s2_date)\n",
    "print(f\"Selected Sentinel-2 image path --> {selected_image_s2}\")\n",
    "selected_image_prisma = get_PRISMA_path('imagery_S2_PRISMA', sel_prisma_date)\n",
    "print(f\"Selected PRISMA image path --> {selected_image_prisma}\")"
   ]
  },
  {
   "cell_type": "code",
   "execution_count": null,
   "id": "633987db-f8d4-4516-a0b6-f38a3aa12b2c",
   "metadata": {
    "tags": []
   },
   "outputs": [],
   "source": [
    "f = h5py.File(selected_image_prisma, 'r')"
   ]
  },
  {
   "cell_type": "markdown",
   "id": "545d81b9-3c24-4beb-a478-7669f0063db1",
   "metadata": {},
   "source": [
    "Print the list of keys. Each key can be accessed to explore the image metadata:"
   ]
  },
  {
   "cell_type": "code",
   "execution_count": null,
   "id": "8a96367d-78be-42af-aea6-f67fa79411b9",
   "metadata": {
    "tags": []
   },
   "outputs": [],
   "source": [
    "list(f.keys())"
   ]
  },
  {
   "cell_type": "markdown",
   "id": "26eef24c-f34a-40c2-8141-07ef0d0fca35",
   "metadata": {},
   "source": [
    "(Optionally) it is possible to read names and values for root attributes (metadata contained in `HDF5` root):"
   ]
  },
  {
   "cell_type": "code",
   "execution_count": null,
   "id": "703f6426-2877-4969-9d4a-45ed94c16dc0",
   "metadata": {
    "tags": []
   },
   "outputs": [],
   "source": [
    "# for attribute in f.attrs:\n",
    "#     print(attribute,f.attrs[attribute])"
   ]
  },
  {
   "cell_type": "markdown",
   "id": "d19a2a43-f67a-49cc-8528-2861c31a31c6",
   "metadata": {},
   "source": [
    "(Optionally) it is possible to read the names for all attributes (metadata) contained in the `HDF5` Groups. Specific method for reading the values shall be built depending on the specific metadata type (a single value, an array, a matrix, etc):"
   ]
  },
  {
   "cell_type": "code",
   "execution_count": null,
   "id": "a3f61ac9-b3fc-4b88-9e29-5b20b6f1a901",
   "metadata": {
    "tags": []
   },
   "outputs": [],
   "source": [
    "# def printname(name):\n",
    "#     print(name)\n",
    "\n",
    "# f.visit(printname)"
   ]
  },
  {
   "cell_type": "markdown",
   "id": "87ee371e-f10c-49e5-bf3c-a751a2d5f10e",
   "metadata": {},
   "source": [
    "List the band wavelengths available in the VNIR cube:"
   ]
  },
  {
   "cell_type": "code",
   "execution_count": null,
   "id": "ce6ff283-ba67-4a4f-b44d-2b84a40f055a",
   "metadata": {
    "tags": []
   },
   "outputs": [],
   "source": [
    "vnir_bands = f.attrs['List_Cw_Vnir']\n",
    "vnir_bands"
   ]
  },
  {
   "cell_type": "markdown",
   "id": "e2999f15-172e-4a64-9053-d3a22fbf3eac",
   "metadata": {},
   "source": [
    "List the band wavelengths available in the SWIR cube:"
   ]
  },
  {
   "cell_type": "code",
   "execution_count": null,
   "id": "6216ba45-db3e-4c2e-bff5-783332c835f8",
   "metadata": {
    "tags": []
   },
   "outputs": [],
   "source": [
    "swir_bands = f.attrs['List_Cw_Swir']\n",
    "swir_bands"
   ]
  },
  {
   "cell_type": "code",
   "execution_count": null,
   "id": "45ff138e-03f1-4aa3-8f67-89c4aa0686e6",
   "metadata": {
    "tags": []
   },
   "outputs": [],
   "source": [
    "print(f\"Number of VNIR Bands: {len(vnir_bands)}\")"
   ]
  },
  {
   "cell_type": "code",
   "execution_count": null,
   "id": "2b10d34f-c3e6-4f34-a440-ecd9e414ffb4",
   "metadata": {
    "tags": []
   },
   "outputs": [],
   "source": [
    "print(f\"Number of SWIR Bands: {len(swir_bands)}\")"
   ]
  },
  {
   "cell_type": "markdown",
   "id": "d8fe80cf-7e57-4954-838d-780fd84e033e",
   "metadata": {},
   "source": [
    "Bands are stored in the two data cubes from larger to smaller wavelengths, but it is preferable to have them stored inversely. <br>\n",
    "Therefore, a dictionary is created with keys containing the band number and value containing the wavelength. The first band has the smallest key:"
   ]
  },
  {
   "cell_type": "code",
   "execution_count": null,
   "id": "a1ab4330-c693-4a4a-86ba-c1cb4f62e2c1",
   "metadata": {
    "tags": []
   },
   "outputs": [],
   "source": [
    "vnir_dict = {}\n",
    "\n",
    "for i, band in enumerate(vnir_bands):\n",
    "    vnir_dict[len(vnir_bands) - i] = band\n",
    "\n",
    "print(vnir_dict)"
   ]
  },
  {
   "cell_type": "code",
   "execution_count": null,
   "id": "caf27625-ad5c-49d5-98f6-fec33a9db5a9",
   "metadata": {
    "tags": []
   },
   "outputs": [],
   "source": [
    "swir_dict = {}\n",
    "\n",
    "for i, band in enumerate(swir_bands):\n",
    "    swir_dict[len(swir_bands) - i] = band\n",
    "\n",
    "print(swir_dict)"
   ]
  },
  {
   "cell_type": "markdown",
   "id": "214da70c-4a90-4c40-91ff-57978d499813",
   "metadata": {},
   "source": [
    "The following indexes are corresponding to NIR, red, green and blue wavelenghts (Keep the same band notation as ENMAP plugin where these bands have this meaning):"
   ]
  },
  {
   "cell_type": "code",
   "execution_count": null,
   "id": "4e09cd8a-97ad-446b-a86d-4ed9236f4ba1",
   "metadata": {
    "tags": []
   },
   "outputs": [],
   "source": [
    "# Index of NIR red, green and blue in the VNIR cube\n",
    "idx_nir = 51\n",
    "idx_red = 33\n",
    "idx_green = 23\n",
    "idx_blue = 11\n",
    "\n",
    "print(f\"NIR wvl: {vnir_dict[idx_nir]:.3f}, \\nRed wvl: {vnir_dict[idx_red]:.3f}, \\nGreen wvl: {vnir_dict[idx_green]:.3f}, \\nBlue wvl: {vnir_dict[idx_blue]:.3f}\")"
   ]
  },
  {
   "cell_type": "markdown",
   "id": "f91cf674-2468-439f-9bef-4948c6af23c9",
   "metadata": {},
   "source": [
    "Store the NIR and SWIR keys (band number) in two lists:"
   ]
  },
  {
   "cell_type": "code",
   "execution_count": null,
   "id": "3e6d782a-d1e0-42a7-bc36-489a78f198af",
   "metadata": {
    "tags": []
   },
   "outputs": [],
   "source": [
    "vnir_keys = list(vnir_dict.keys())\n",
    "swir_keys = list(swir_dict.keys())"
   ]
  },
  {
   "cell_type": "markdown",
   "id": "b88edadc-3d8e-485b-8844-f6b1d30f7fd8",
   "metadata": {},
   "source": [
    "PRISMA images are stored in the inverse order. So we must obtain the position of the band in the cube (using its index) and use that position to extract the image:"
   ]
  },
  {
   "cell_type": "code",
   "execution_count": null,
   "id": "13c2b428-85ed-4b16-a37a-f5f0712bb78d",
   "metadata": {
    "tags": []
   },
   "outputs": [],
   "source": [
    "# #Index of the NIR(849 nm - Band 51) Red (660.26361nm - Band 33), Blue (478.1763nm - Band 11), and Green (571.00281nm - Band 23) bands:\n",
    "idx_nir_prisma = vnir_keys.index(idx_nir)\n",
    "idx_red_prisma = vnir_keys.index(idx_red)\n",
    "idx_green_prisma = vnir_keys.index(idx_green)\n",
    "idx_blue_prisma = vnir_keys.index(idx_blue)\n",
    "print(f\"The NIR band number {idx_nir} has position {idx_nir_prisma}\")\n",
    "print(f\"The Red band number {idx_red} has position {idx_red_prisma}\")\n",
    "print(f\"The Green band number {idx_green} has position {idx_green_prisma}\")\n",
    "print(f\"The Blue band number {idx_blue} has position {idx_blue_prisma}\")"
   ]
  },
  {
   "cell_type": "markdown",
   "id": "36c17e45-7c57-40ac-ae05-0d2728b1c0c7",
   "metadata": {},
   "source": [
    "Let's read and store attributes and wavelengths (_needed to choose the specific bands_) in separate arrays:"
   ]
  },
  {
   "cell_type": "code",
   "execution_count": null,
   "id": "155d936c-92a9-4315-8da0-c28a02972ac8",
   "metadata": {
    "tags": []
   },
   "outputs": [],
   "source": [
    "# Attributes\n",
    "attrs = f.attrs\n",
    "\n",
    "# Wavelengths (separately for VNIR and SWIR)\n",
    "vn_wvl = np.array([wvl for wvl in attrs['List_Cw_Vnir']])\n",
    "sw_wvl = np.array([wvl for wvl in attrs['List_Cw_Swir']])\n",
    "\n",
    "# #Index of the Red (660.26361nm - Band 33), Blue (478.1763nm - Band 11), and Green (571.00281nm - Band 23) bands:\n",
    "# idx_red = np.where(vn_wvl == 664.8941)[0][0]\n",
    "# idx_blue = np.where(vn_wvl == 475.31885)[0][0]\n",
    "# idx_green = np.where(vn_wvl == 575.4868)[0][0]"
   ]
  },
  {
   "cell_type": "code",
   "execution_count": null,
   "id": "862fcd09-6e5a-4cf9-bb37-e656521f2d88",
   "metadata": {
    "tags": []
   },
   "outputs": [],
   "source": [
    "vn_wvl"
   ]
  },
  {
   "cell_type": "markdown",
   "id": "ccb40ace-b932-4538-93cc-96b15f348556",
   "metadata": {},
   "source": [
    "Let's store the pixel coordinates (latitude and longitude) in two arrays (lat, lon):"
   ]
  },
  {
   "cell_type": "code",
   "execution_count": null,
   "id": "4ad3a39a-4d02-4000-8156-5f4b56984d0d",
   "metadata": {
    "tags": []
   },
   "outputs": [],
   "source": [
    "data = f['HDFEOS']['SWATHS']['PRS_L2D_HCO']\n",
    "\n",
    "lat = np.array(data['Geolocation Fields']['Latitude'][:])\n",
    "lon = np.array(data['Geolocation Fields']['Longitude'][:])"
   ]
  },
  {
   "cell_type": "markdown",
   "id": "6d8e0fbe-85bc-40a6-8da7-2bcd12e1ffb0",
   "metadata": {},
   "source": [
    "Let's get the spectral information of each data cube and correct the dimensions of the arrays to get depth as the third dimension:"
   ]
  },
  {
   "cell_type": "code",
   "execution_count": null,
   "id": "b3a5980f-3d0a-408e-a6d0-a108a9ba390d",
   "metadata": {
    "tags": []
   },
   "outputs": [],
   "source": [
    "vrf = np.array(data['Data Fields']['VNIR_Cube'][:]) \n",
    "srf = np.array(data['Data Fields']['SWIR_Cube'][:]) \n",
    "print(vrf.shape)\n",
    "print(srf.shape)"
   ]
  },
  {
   "cell_type": "code",
   "execution_count": null,
   "id": "425b49b8-8fc2-4393-9871-060ace88a780",
   "metadata": {
    "tags": []
   },
   "outputs": [],
   "source": [
    "#move the number of wavelengths to the last position:\n",
    "vrf = np.moveaxis(vrf, 1, 2)\n",
    "srf = np.moveaxis(srf, 1, 2)\n",
    "print(vrf.shape)\n",
    "print(srf.shape)"
   ]
  },
  {
   "cell_type": "markdown",
   "id": "f3c9bdc9-b878-4b95-80be-625ce11933bc",
   "metadata": {},
   "source": [
    "Let's now convert the values stored in the data cubes from DN to spectral reflectance. To do so, we need to access the scaling factors availables among the attributes, namely `L2ScaleVnirMax` and `L2ScaleVnirMax` for the NIR cube, and `L2ScaleSwirMax` and `L2ScaleSwirMax` for the SWIR cube. Then, let's apply the formula provided in the documentation:\n"
   ]
  },
  {
   "cell_type": "code",
   "execution_count": null,
   "id": "807ea7c7-23fb-4afe-910a-647ed3f2bed4",
   "metadata": {
    "tags": []
   },
   "outputs": [],
   "source": [
    "L2ScaleVnirMax = attrs['L2ScaleVnirMax']\n",
    "L2ScaleVnirMin = attrs['L2ScaleVnirMin']\n",
    "L2ScaleSwirMax = attrs['L2ScaleSwirMax']\n",
    "L2ScaleSwirMin = attrs['L2ScaleSwirMin']\n",
    "print(f\"VNIR min: {L2ScaleVnirMin:.3f}, VNIR max: {L2ScaleVnirMax:.3f}\")\n",
    "print(f\"SWIR min: {L2ScaleSwirMin:.3f}, SWIR max: {L2ScaleSwirMax:.3f}\")\n",
    "\n",
    "SR_scaler = 65535\n",
    "\n",
    "vrf_refl = L2ScaleVnirMin + vrf*(L2ScaleVnirMax - L2ScaleVnirMin) / SR_scaler\n",
    "srf_refl = L2ScaleSwirMin + srf*(L2ScaleSwirMax - L2ScaleSwirMin) / SR_scaler"
   ]
  },
  {
   "cell_type": "markdown",
   "id": "aa220e4d-3c52-4157-b719-dc2c4f7ed4c9",
   "metadata": {},
   "source": [
    "Select the NIR, red, green, blue bands from the scaled VNIR cube, and plot them:"
   ]
  },
  {
   "cell_type": "code",
   "execution_count": null,
   "id": "276b963e-fb88-4412-b2c8-5423d4db998b",
   "metadata": {
    "tags": []
   },
   "outputs": [],
   "source": [
    "nir_band_prisma = vrf_refl[:, :, idx_nir_prisma]\n",
    "red_band_prisma = vrf_refl[:, :, idx_red_prisma]\n",
    "green_band_prisma = vrf_refl[:, :, idx_green_prisma]\n",
    "blue_band_prisma = vrf_refl[:, :, idx_blue_prisma]"
   ]
  },
  {
   "cell_type": "code",
   "execution_count": null,
   "id": "41350523-c5b2-4471-a9bd-3bd233008bfb",
   "metadata": {
    "tags": []
   },
   "outputs": [],
   "source": [
    "plt.figure(figsize = (15,15))\n",
    "height, width = nir_band_prisma.shape\n",
    "extent = [0, width, height, 0]  # left, right, bottom, top\n",
    "plt.imshow(nir_band_prisma, cmap=\"Purples\", vmin=-np.quantile(nir_band_prisma, 0.1), vmax=np.quantile(nir_band_prisma, 0.9), extent=extent)\n",
    "\n",
    "plt.gca().xaxis.set_major_locator(MaxNLocator(integer=True, prune='both', nbins=width//100+1))\n",
    "plt.gca().yaxis.set_major_locator(MaxNLocator(integer=True, prune='both', nbins=height//100+1))\n",
    "plt.title(f'PRISMA NIR - Band {vnir_dict[idx_red]:.3f}')\n",
    "plt.colorbar()\n",
    "\n",
    "'''NIR Band stored in a dedicated array'''\n",
    "PRISMA_NirBand = nir_band_prisma"
   ]
  },
  {
   "cell_type": "code",
   "execution_count": null,
   "id": "884ad126-110d-4450-9f47-8353b677f271",
   "metadata": {
    "tags": []
   },
   "outputs": [],
   "source": [
    "plt.figure(figsize = (15,15))\n",
    "height, width = red_band_prisma.shape\n",
    "extent = [0, width, height, 0]  # left, right, bottom, top\n",
    "plt.imshow(red_band_prisma, cmap=\"Reds\", vmin=-np.quantile(red_band_prisma, 0.1), vmax=np.quantile(red_band_prisma, 0.9), extent=extent)\n",
    "\n",
    "plt.gca().xaxis.set_major_locator(MaxNLocator(integer=True, prune='both', nbins=width//100+1))\n",
    "plt.gca().yaxis.set_major_locator(MaxNLocator(integer=True, prune='both', nbins=height//100+1))\n",
    "plt.title(f'PRISMA Red - Band {vnir_dict[idx_red]:.3f}')\n",
    "plt.colorbar()\n",
    "\n",
    "'''Red Band stored in a dedicated array'''\n",
    "PRISMA_RedBand = red_band_prisma"
   ]
  },
  {
   "cell_type": "code",
   "execution_count": null,
   "id": "a840068a-32ef-4e27-99b3-1efdfe377ec0",
   "metadata": {
    "tags": []
   },
   "outputs": [],
   "source": [
    "plt.figure(figsize = (15,15))\n",
    "height, width = green_band_prisma.shape\n",
    "extent = [0, width, height, 0]  # left, right, bottom, top\n",
    "plt.imshow(green_band_prisma, cmap=\"Greens\", vmin=-np.quantile(green_band_prisma, 0.1), vmax=np.quantile(green_band_prisma, 0.9), extent=extent)\n",
    "\n",
    "plt.gca().xaxis.set_major_locator(MaxNLocator(integer=True, prune='both', nbins=width//100+1))\n",
    "plt.gca().yaxis.set_major_locator(MaxNLocator(integer=True, prune='both', nbins=height//100+1))\n",
    "plt.title(f'PRISMA Green - Band {vnir_dict[idx_green]:.3f}')\n",
    "plt.colorbar()\n",
    "\n",
    "'''Red Band stored in a dedicated array'''\n",
    "PRISMA_GreenBand = green_band_prisma"
   ]
  },
  {
   "cell_type": "code",
   "execution_count": null,
   "id": "7a31f8fe-7414-4a75-8a7e-a81cc14898e1",
   "metadata": {
    "tags": []
   },
   "outputs": [],
   "source": [
    "plt.figure(figsize = (15,15))\n",
    "height, width = blue_band_prisma.shape\n",
    "extent = [0, width, height, 0]  # left, right, bottom, top\n",
    "plt.imshow(blue_band_prisma, cmap=\"Blues\", vmin=-np.quantile(blue_band_prisma, 0.1), vmax=np.quantile(blue_band_prisma, 0.9), extent=extent)\n",
    "\n",
    "plt.gca().xaxis.set_major_locator(MaxNLocator(integer=True, prune='both', nbins=width//100+1))\n",
    "plt.gca().yaxis.set_major_locator(MaxNLocator(integer=True, prune='both', nbins=height//100+1))\n",
    "plt.title(f'PRISMA Blue - Band {vnir_dict[idx_blue]:.3f}')\n",
    "plt.colorbar()\n",
    "\n",
    "'''Blue Band stored in a dedicated array'''\n",
    "PRISMA_BlueBand = blue_band_prisma"
   ]
  },
  {
   "cell_type": "markdown",
   "id": "28f1b363-8ece-4ec7-b7ff-490e90b88a19",
   "metadata": {},
   "source": [
    "## 2. <a id='sec2'></a>Importing the pre-processed Sentinel-2 image clipped to PRISMA image extent and resample it at 30m resolution\n",
    "[Back to top](#TOC_TOP)"
   ]
  },
  {
   "cell_type": "markdown",
   "id": "2bb52891-fcef-4968-be04-3a905c4cf9a6",
   "metadata": {},
   "source": [
    "Let's import the pre-processed Sentinel-2 image (result of the first notebook `1 - S2_Preprocessing.ipynb`)"
   ]
  },
  {
   "cell_type": "markdown",
   "id": "00793cad-6fbf-4ee3-851f-453d8f5788aa",
   "metadata": {},
   "source": [
    "To scale Sentinel-2 to reflectance:"
   ]
  },
  {
   "cell_type": "code",
   "execution_count": null,
   "id": "85a31ba3-6574-4862-85c0-2248a959d543",
   "metadata": {
    "tags": []
   },
   "outputs": [],
   "source": [
    "S2_scale = 1\n",
    "\n",
    "with rio.open(selected_image_s2) as src:\n",
    "    # Read the data from the red, green, and blue bands\n",
    "    data = src.read() / S2_scale  #indexes=[4, 3, 2]\n",
    "    # Get the metadata of the source image\n",
    "    src_meta = src.meta"
   ]
  },
  {
   "cell_type": "markdown",
   "id": "01fe04d1-c3ba-48cb-b8a3-6e41c09da44c",
   "metadata": {},
   "source": [
    "Define the output desired resolution to resample Sentinel-2 image (30m in this case using bilinear resampling):"
   ]
  },
  {
   "cell_type": "code",
   "execution_count": null,
   "id": "8c7276a8-f09e-4ec7-ae99-58147dfa1c41",
   "metadata": {
    "tags": []
   },
   "outputs": [],
   "source": [
    "dst_resolution = 30"
   ]
  },
  {
   "cell_type": "markdown",
   "id": "1873fb2c-d64f-425f-bce1-1119165f2ce8",
   "metadata": {},
   "source": [
    "Get transform parameters from the input image:"
   ]
  },
  {
   "cell_type": "code",
   "execution_count": null,
   "id": "e05d9cc0-d46e-4da5-80b9-99eddddc6c1e",
   "metadata": {
    "tags": []
   },
   "outputs": [],
   "source": [
    "src.transform[:]"
   ]
  },
  {
   "cell_type": "markdown",
   "id": "2ce52648-dbc0-41f5-8e4c-6e1f23f2983f",
   "metadata": {},
   "source": [
    "Update to new resolution the parameters:"
   ]
  },
  {
   "cell_type": "code",
   "execution_count": null,
   "id": "0be63b4d-9429-4c1f-ac93-6502ead66bb1",
   "metadata": {
    "tags": []
   },
   "outputs": [],
   "source": [
    "dst_meta = src_meta.copy()\n",
    "dst_meta.update({\n",
    "    'height': int(src.height * src.transform[0] / dst_resolution),\n",
    "    'width': int(src.width * src.transform[0] / dst_resolution),\n",
    "    'transform': rio.Affine(dst_resolution, 0, src.bounds.left, 0, -dst_resolution, src.bounds.top),\n",
    "    'dtype' : 'float32'\n",
    "})"
   ]
  },
  {
   "cell_type": "markdown",
   "id": "af3fd43d-3109-4106-b689-24c5d4d609e0",
   "metadata": {},
   "source": [
    "Resample using a **bilinear** interpolation with rasterio.reproject (it is possible to change the interpolation method):"
   ]
  },
  {
   "cell_type": "code",
   "execution_count": null,
   "id": "75b55ffd-1945-4c35-9f6a-bf28035060a4",
   "metadata": {
    "tags": []
   },
   "outputs": [],
   "source": [
    "resampled_data = np.zeros((src.count, dst_meta['height'], dst_meta['width']), dtype=data.dtype)\n",
    "reproject(data,resampled_data,src_transform=src.transform,src_crs=src.crs, dst_transform=dst_meta['transform'], dst_crs=src.crs, resampling=Resampling.bilinear);"
   ]
  },
  {
   "cell_type": "markdown",
   "id": "881305b1-fa6b-4f0c-aa22-26c945798cb5",
   "metadata": {},
   "source": [
    "Save the resampled raster to a 30m GeoTIFF file:"
   ]
  },
  {
   "cell_type": "code",
   "execution_count": null,
   "id": "584db328-bb2d-47aa-88b3-b20d42c4325e",
   "metadata": {
    "tags": []
   },
   "outputs": [],
   "source": [
    "s2_30_path = 'S2_outputs/S2_'+ sel_s2_date.replace('-', '') + '_30m_clip.tif'\n",
    "print(f\"Sentinel-2 image with {dst_resolution}m resolution path --> {s2_30_path}\")"
   ]
  },
  {
   "cell_type": "code",
   "execution_count": null,
   "id": "af1a4bdc-e9e7-4832-8614-2cc8f0493eb4",
   "metadata": {
    "tags": []
   },
   "outputs": [],
   "source": [
    "with rio.open(s2_30_path, 'w', **dst_meta) as dst:\n",
    "    dst.write(resampled_data)"
   ]
  },
  {
   "cell_type": "markdown",
   "id": "65eb6009-b5c5-45ca-9795-4bd9fee05f3b",
   "metadata": {},
   "source": [
    "Open the resampled Sentinel-2 image:"
   ]
  },
  {
   "cell_type": "code",
   "execution_count": null,
   "id": "435cd52c-4cd9-4a02-a4c1-287143098eb7",
   "metadata": {
    "tags": []
   },
   "outputs": [],
   "source": [
    "sentinel_file = rio.open(s2_30_path)\n",
    "\n",
    "Sentinel2_NirBand = sentinel_file.read(4)\n",
    "Sentinel2_RedBand = sentinel_file.read(3)\n",
    "Sentinel2_GreenBand = sentinel_file.read(2)\n",
    "Sentinel2_BlueBand = sentinel_file.read(1)"
   ]
  },
  {
   "cell_type": "markdown",
   "id": "9a3efa85-e629-47ee-9ea0-7bb6629c083a",
   "metadata": {},
   "source": [
    "Plot Sentinel-2 Bands:"
   ]
  },
  {
   "cell_type": "code",
   "execution_count": null,
   "id": "7594a093-176a-4445-8fc9-c47421ff6b03",
   "metadata": {
    "tags": []
   },
   "outputs": [],
   "source": [
    "plt.figure(figsize = (15,15))\n",
    "height, width = Sentinel2_NirBand.shape\n",
    "extent = [0, width, height, 0]  # left, right, bottom, top\n",
    "plt.imshow(Sentinel2_NirBand, vmin=-np.quantile(Sentinel2_NirBand, 0.1), vmax=np.quantile(Sentinel2_NirBand, 0.9), cmap=\"Purples\")\n",
    "\n",
    "plt.gca().xaxis.set_major_locator(MaxNLocator(integer=True, prune='both', nbins=width//100+1))\n",
    "plt.gca().yaxis.set_major_locator(MaxNLocator(integer=True, prune='both', nbins=height//100+1))\n",
    "plt.title('S2 - NIR band')\n",
    "plt.colorbar()"
   ]
  },
  {
   "cell_type": "code",
   "execution_count": null,
   "id": "47c826fc-d51a-43f8-8345-7e31ad86f4e1",
   "metadata": {
    "tags": []
   },
   "outputs": [],
   "source": [
    "plt.figure(figsize = (15,15))\n",
    "height, width = Sentinel2_RedBand.shape\n",
    "extent = [0, width, height, 0]  # left, right, bottom, top\n",
    "plt.imshow(Sentinel2_RedBand, cmap=\"Reds\", vmin=-np.quantile(Sentinel2_RedBand, 0.1), vmax=np.quantile(Sentinel2_RedBand, 0.9), extent=extent)\n",
    "\n",
    "plt.gca().xaxis.set_major_locator(MaxNLocator(integer=True, prune='both', nbins=width//100+1))\n",
    "plt.gca().yaxis.set_major_locator(MaxNLocator(integer=True, prune='both', nbins=height//100+1))\n",
    "plt.title('S2 - Red band')\n",
    "plt.colorbar()"
   ]
  },
  {
   "cell_type": "code",
   "execution_count": null,
   "id": "f76cbb40-1def-44c9-af16-85848efb1d08",
   "metadata": {
    "tags": []
   },
   "outputs": [],
   "source": [
    "plt.figure(figsize = (15,15))\n",
    "height, width = Sentinel2_GreenBand.shape\n",
    "extent = [0, width, height, 0]  # left, right, bottom, top\n",
    "plt.imshow(Sentinel2_GreenBand, cmap=\"Greens\", vmin=-np.quantile(Sentinel2_GreenBand, 0.1), vmax=np.quantile(Sentinel2_GreenBand, 0.9), extent=extent)\n",
    "\n",
    "plt.gca().xaxis.set_major_locator(MaxNLocator(integer=True, prune='both', nbins=width//100+1))\n",
    "plt.gca().yaxis.set_major_locator(MaxNLocator(integer=True, prune='both', nbins=height//100+1))\n",
    "plt.title('S2 - Green band')\n",
    "plt.colorbar()"
   ]
  },
  {
   "cell_type": "code",
   "execution_count": null,
   "id": "b197f3f2-a1e6-4c16-a9ef-c2c4a9b57ae9",
   "metadata": {
    "tags": []
   },
   "outputs": [],
   "source": [
    "plt.figure(figsize = (15,15))\n",
    "height, width = Sentinel2_BlueBand.shape\n",
    "extent = [0, width, height, 0]  # left, right, bottom, top\n",
    "plt.imshow(Sentinel2_BlueBand, cmap=\"Blues\", vmin=-np.quantile(Sentinel2_BlueBand, 0.1), vmax=np.quantile(Sentinel2_BlueBand, 0.9), extent=extent)\n",
    "\n",
    "plt.gca().xaxis.set_major_locator(MaxNLocator(integer=True, prune='both', nbins=width//100+1))\n",
    "plt.gca().yaxis.set_major_locator(MaxNLocator(integer=True, prune='both', nbins=height//100+1))\n",
    "plt.title('S2 - Blue band')\n",
    "plt.colorbar()"
   ]
  },
  {
   "cell_type": "markdown",
   "id": "99cf5ebd-7ab4-4685-b2a8-8297cf44562a",
   "metadata": {},
   "source": [
    "### Export NOT coregistered PRISMA imagery (Red-Green-Blue-NIR) - RGBN\n",
    "This part is not relevant, but these images can be used for comparison to check whether the coregistration is performed correctly."
   ]
  },
  {
   "cell_type": "code",
   "execution_count": null,
   "id": "cfef86e3-29aa-4df6-8d8f-1147d4238f62",
   "metadata": {
    "tags": []
   },
   "outputs": [],
   "source": [
    "kwargs = {}\n",
    "kwargs['driver'] = 'GTiff'\n",
    "kwargs['dtype'] = 'float32'\n",
    "kwargs['count'] = 4\n",
    "kwargs['width'] = vrf_refl.shape[1]\n",
    "kwargs['height'] = srf_refl.shape[0]\n",
    "kwargs['dtype'] = 'float32'\n",
    "kwargs['crs'] = rio.crs.CRS.from_epsg(32632)\n",
    "kwargs['transform'] = rio.transform.Affine(dst_resolution, src.transform[1],src.transform[2], src.transform[3], -dst_resolution, src.transform[5])"
   ]
  },
  {
   "cell_type": "code",
   "execution_count": null,
   "id": "8a4c17a3-f078-4541-9272-5034d97e1c1f",
   "metadata": {
    "tags": []
   },
   "outputs": [],
   "source": [
    "# # Create a new raster file RGB (change the count number to 3) - Not relevant\n",
    "# with rio.open('PRISMA_outputs/PR_rgb_'+ sel_prisma_date.replace('-', '') +'_NotCor_30m.tif', 'w', **kwargs) as dst:\n",
    "#     # Write the RGB data to the raster file\n",
    "#     dst.write(red_band_prisma, 1)\n",
    "#     dst.write(green_band_prisma, 2)\n",
    "#     dst.write(blue_band_prisma, 3)"
   ]
  },
  {
   "cell_type": "code",
   "execution_count": null,
   "id": "0a746eb6-293b-4c9f-882e-951bc47428f2",
   "metadata": {
    "tags": []
   },
   "outputs": [],
   "source": [
    "# Create a new raster file RGBN\n",
    "with rio.open('PRISMA_outputs/PR_rgbn_'+ sel_prisma_date.replace('-', '') +'_NotCor_30m.tif', 'w', **kwargs) as dst:\n",
    "    # Write the RGB data to the raster file\n",
    "    dst.write(red_band_prisma, 1)\n",
    "    dst.write(green_band_prisma, 2)\n",
    "    dst.write(blue_band_prisma, 3)\n",
    "    dst.write(nir_band_prisma, 4)"
   ]
  },
  {
   "cell_type": "markdown",
   "id": "be04dc0b-0a5d-4c61-b953-289975ad7bc3",
   "metadata": {},
   "source": [
    "## 3. <a id='sec3'></a>Application of GeFolki algorithm\n",
    "[Back to top](#TOC_TOP)"
   ]
  },
  {
   "cell_type": "markdown",
   "id": "9d3531b6-0356-4cda-9506-7090a79d91e2",
   "metadata": {},
   "source": [
    "Now let's apply the EFolki algorithm (this part of code is the same as `GEFOLKI_TP1.ipynb` in the original notebook provided in the GeFolki repository). <br>\n",
    "This code allows the user to select the desired band to be used for the displacement field estimation. Specifically, the user can select among the Blue, Green, Red, and NIR bands of both PRISMA and Sentinel-2 images."
   ]
  },
  {
   "cell_type": "markdown",
   "id": "53138b1c",
   "metadata": {},
   "source": [
    "Firstly, let's define the parameters required by the algorithm. These values yield good results, however, it is possible to tune them (refer to the GeFolki documentation):"
   ]
  },
  {
   "cell_type": "code",
   "execution_count": null,
   "id": "d91b2d46-d94f-4afc-a559-9de7822f79ad",
   "metadata": {
    "tags": []
   },
   "outputs": [],
   "source": [
    "iteration = 4\n",
    "radius = [100, 100]\n",
    "rank = 4\n",
    "level = 5"
   ]
  },
  {
   "cell_type": "code",
   "execution_count": null,
   "id": "88e798fb-e95d-4c46-a1c9-4b9ecdec764f",
   "metadata": {
    "tags": []
   },
   "outputs": [],
   "source": [
    "bands_dict_PRISMA = {'Blue':PRISMA_BlueBand,\n",
    "             'Green':PRISMA_GreenBand,\n",
    "             'Red':PRISMA_RedBand,\n",
    "             'NIR':PRISMA_NirBand}\n",
    "\n",
    "bands_dict_S2 = {'Blue':Sentinel2_BlueBand,\n",
    "             'Green':Sentinel2_GreenBand,\n",
    "             'Red':Sentinel2_RedBand,\n",
    "             'NIR':Sentinel2_NirBand}"
   ]
  },
  {
   "cell_type": "markdown",
   "id": "479a2225-0159-4369-bbba-cddd8e8486f1",
   "metadata": {},
   "source": [
    "It is possible to select the S2 and PRISMA bands to be used for coregistration. There are no noticeable differences between the use of differents bands as long as they are corresponding (e.g. PRISMA red band with S2 red band):"
   ]
  },
  {
   "cell_type": "code",
   "execution_count": null,
   "id": "4ca10cc0-9938-4420-b6db-a6209844a455",
   "metadata": {
    "tags": []
   },
   "outputs": [],
   "source": [
    "w_band = widgets.RadioButtons(\n",
    "    options=['Blue', 'Green', 'Red', 'NIR'],\n",
    "    description='Select band for coregistration:',\n",
    "    disabled=False,\n",
    "    value='Red')\n",
    "w_band"
   ]
  },
  {
   "cell_type": "code",
   "execution_count": null,
   "id": "8d053219-370c-4687-a8f2-a4fa0b4dd2f8",
   "metadata": {
    "tags": []
   },
   "outputs": [],
   "source": [
    "band_sel = w_band.value\n",
    "print(f\"The band selected for coregistration is: {band_sel}\")"
   ]
  },
  {
   "cell_type": "markdown",
   "id": "615258de",
   "metadata": {},
   "source": [
    "The following piece of code applies the algorithm. The result is the estimated horizontal (u) and vertical (v) displacement. (REMINDER: the zeros outside the PRISMA image are intentionally left. Using np.nan gives some issues when processing with GeFolki algorithm):"
   ]
  },
  {
   "cell_type": "code",
   "execution_count": null,
   "id": "b381c3b1-879a-4820-9922-cdd4ed56d93a",
   "metadata": {
    "tags": []
   },
   "outputs": [],
   "source": [
    "#band coregistration\n",
    "mask_pr = bands_dict_PRISMA[band_sel]>0\n",
    "\n",
    "PRISMA_Band = bands_dict_PRISMA[band_sel]*mask_pr\n",
    "Sentinel2_Band = bands_dict_S2[band_sel]\n",
    "Sentinel2_Band = Sentinel2_Band[:PRISMA_Band.shape[0], :PRISMA_Band.shape[1]]\n",
    "Sentinel2_Band = Sentinel2_Band*mask_pr\n",
    "\n",
    "print(\"Started - GeFolki coregistration\")\n",
    "u, v = EFolki(Sentinel2_Band, PRISMA_Band, iteration=iteration, radius=radius, rank=rank, levels=level)\n",
    "print(\"Completed - GeFolki coregistration\")"
   ]
  },
  {
   "cell_type": "markdown",
   "id": "7a807123-9270-413f-a364-a275633bbffd",
   "metadata": {},
   "source": [
    "Check `u` and `v` vectors calculated by GeFolki algorithm, to show the tranformation applied:"
   ]
  },
  {
   "cell_type": "code",
   "execution_count": null,
   "id": "f058da79-eecb-4e67-b5a6-be67722cddb6",
   "metadata": {
    "tags": []
   },
   "outputs": [],
   "source": [
    "print(f\"u matrix shape --> {u.shape}\")\n",
    "print(f\"v matrix shape --> {v.shape}\")"
   ]
  },
  {
   "cell_type": "markdown",
   "id": "6df1d707-94f6-4a6b-85a8-6940995ecabe",
   "metadata": {},
   "source": [
    "Let's now apply the estimated vectors `u` and `v` to all the NIR and SWIR bands of the PRISMA image. For doing so, let's first initialize two new datacubes (one for NIR, the other for SWIR) that will store the coregistered image. Then, let's fill the new datacubes with the coregistered data (applying the optical flow transformation to each band). Finally, let's concatenate the two datacubes:"
   ]
  },
  {
   "cell_type": "code",
   "execution_count": null,
   "id": "bc501bf4-0227-4510-9853-9ddfe768cb39",
   "metadata": {
    "tags": []
   },
   "outputs": [],
   "source": [
    "PRISMArecalee_vrf = np.zeros(vrf.shape)\n",
    "PRISMArecalee_srf = np.zeros(srf.shape)"
   ]
  },
  {
   "cell_type": "code",
   "execution_count": null,
   "id": "e8558460-06b5-4623-be15-24773713c55c",
   "metadata": {
    "tags": []
   },
   "outputs": [],
   "source": [
    "for idx, band in enumerate(vn_wvl):\n",
    "    PRISMArecalee_vrf[:, :, idx] = wrapData(vrf_refl[:, :, idx], u, v)"
   ]
  },
  {
   "cell_type": "code",
   "execution_count": null,
   "id": "4ceba4e0-6fb5-4389-934b-f35520a60d15",
   "metadata": {
    "tags": []
   },
   "outputs": [],
   "source": [
    "for idx, band in enumerate(sw_wvl):\n",
    "    PRISMArecalee_srf[:, :, idx] = wrapData(srf_refl[:, :, idx], u, v)"
   ]
  },
  {
   "cell_type": "markdown",
   "id": "1c9ff247-a5e2-4324-9791-6a92704c9d42",
   "metadata": {},
   "source": [
    "Masks for the coregistered and not coregistered imagery:"
   ]
  },
  {
   "cell_type": "code",
   "execution_count": null,
   "id": "a2728c7b-fcb9-4b91-a05e-1f62ae268780",
   "metadata": {
    "tags": []
   },
   "outputs": [],
   "source": [
    "# Mask for coregistered imagery\n",
    "outside_mask_coreg = np.amax(PRISMArecalee_vrf, axis=2).astype(float)\n",
    "outside_mask_coreg[outside_mask_coreg != 0] = 1\n",
    "outside_mask_coreg[outside_mask_coreg == 0] = np.nan\n",
    "plt.imshow(outside_mask_coreg)\n",
    "plt.title(\"Mask PRISMA - Coregistered image\");"
   ]
  },
  {
   "cell_type": "code",
   "execution_count": null,
   "id": "bca6211e-c00e-4ee0-bc8f-62b2dfbdc69e",
   "metadata": {
    "tags": []
   },
   "outputs": [],
   "source": [
    "# Mask for NOT coregistered imagery\n",
    "outside_mask_not_coreg = np.amax(vrf, axis=2).astype(float)\n",
    "outside_mask_not_coreg[outside_mask_not_coreg != 0] = 1\n",
    "outside_mask_not_coreg[outside_mask_not_coreg == 0] = np.nan\n",
    "plt.imshow(outside_mask_not_coreg)\n",
    "plt.title(\"Mask PRISMA - Not coregistered image\");"
   ]
  },
  {
   "cell_type": "code",
   "execution_count": null,
   "id": "411770f7-c9f0-424c-a34c-5bb33fc118fc",
   "metadata": {
    "tags": []
   },
   "outputs": [],
   "source": [
    "# Create a meshgrid for the coordinates\n",
    "X, Y = np.meshgrid(np.arange(0, v.shape[1]), np.arange(0, v.shape[0]))\n",
    "\n",
    "#Remove quivers outside the image region\n",
    "X = X * outside_mask_coreg\n",
    "Y = Y * outside_mask_coreg\n",
    "\n",
    "#Keep every 40 quivers to not have too many of them\n",
    "skip = 40\n",
    "X_subset = X[::skip, ::skip]\n",
    "Y_subset = Y[::skip, ::skip]\n",
    "u_subset = -u[::skip, ::skip]\n",
    "v_subset = v[::skip, ::skip]\n",
    "# Compute the vector length\n",
    "uv_length = np.sqrt(u_subset**2 + v_subset**2)\n",
    "\n",
    "fig, ax = plt.subplots(figsize=(15, 15))\n",
    "widths = np.linspace(0, 100, X.size)\n",
    "ax.quiver(X_subset, Y_subset, u_subset, v_subset, uv_length, cmap='jet', headaxislength=3)\n",
    "plt.title(\"GeFolki u and v vectors - Displacement\")\n",
    "plt.show()"
   ]
  },
  {
   "cell_type": "markdown",
   "id": "001e288e-d66d-4f48-b009-8c4b7f5d2f8e",
   "metadata": {},
   "source": [
    "Mask the u and v vector in the outer the PRISMA image:"
   ]
  },
  {
   "cell_type": "code",
   "execution_count": null,
   "id": "eb3bcc40-706d-40d1-807f-9ed2d0053956",
   "metadata": {
    "tags": []
   },
   "outputs": [],
   "source": [
    "u_masked =  u * outside_mask_coreg\n",
    "v_masked = v * outside_mask_coreg"
   ]
  },
  {
   "cell_type": "code",
   "execution_count": null,
   "id": "605c7b99-2709-49d0-9abc-c870b3b952ea",
   "metadata": {
    "tags": []
   },
   "outputs": [],
   "source": [
    "plt.hist(u_masked.flatten());\n",
    "plt.title(\"Histogram of masked u matrix\");"
   ]
  },
  {
   "cell_type": "code",
   "execution_count": null,
   "id": "a0153656-a0ac-4046-9042-6110b0a435e8",
   "metadata": {
    "tags": []
   },
   "outputs": [],
   "source": [
    "plt.hist(v_masked.flatten());\n",
    "plt.title(\"Histogram of masked v matrix\");"
   ]
  },
  {
   "cell_type": "code",
   "execution_count": null,
   "id": "83132053-52b0-4b3c-ac66-5833c0eb6bd6",
   "metadata": {
    "tags": []
   },
   "outputs": [],
   "source": [
    "print(f\"Mean of u: {np.nanmean(u_masked):.2f} | STD: {np.nanstd(u_masked):.2f} | Median: {np.nanmedian(u_masked):.2f}\")\n",
    "print(f\"Mean of v: {np.nanmean(v_masked):.2f} | STD: {np.nanstd(v_masked):.2f} | Median: {np.nanmedian(v_masked):.2f}\")"
   ]
  },
  {
   "cell_type": "markdown",
   "id": "5846fa23-1797-4865-8c36-99452808fabc",
   "metadata": {},
   "source": [
    "The Geolfki algorithm is applied again (using the Red band only, but whatever band can be used), in order to check whether the coregistration applied provided a good result. \n",
    "The algorithm is applied between a S2 band and a coregistrered PRISMA band.\n",
    "\n",
    "Some statistics are provided to check the quality of coregistration."
   ]
  },
  {
   "cell_type": "code",
   "execution_count": null,
   "id": "2ef9ffcf-4034-4acf-aee7-9780529ae4df",
   "metadata": {
    "tags": []
   },
   "outputs": [],
   "source": [
    "print(\"Started - GeFolki coregistration\")\n",
    "u_check, v_check = EFolki(Sentinel2_Band, PRISMArecalee_srf[:, :, 32], iteration=iteration, radius=radius, rank=rank, levels=level) #32 is red band index - CHANGE INDEX IF WANT TO TEST WITH OTHER BANDS\n",
    "print(\"Completed - GeFolki coregistration\")"
   ]
  },
  {
   "cell_type": "code",
   "execution_count": null,
   "id": "67b1d6cb-b0ad-4235-9d7d-f334b9efbd0a",
   "metadata": {
    "tags": []
   },
   "outputs": [],
   "source": [
    "u_check_masked =  u_check * outside_mask_coreg\n",
    "v_check_masked = v_check * outside_mask_coreg"
   ]
  },
  {
   "cell_type": "code",
   "execution_count": null,
   "id": "138eb311-851b-4009-b517-8e4221167238",
   "metadata": {
    "tags": []
   },
   "outputs": [],
   "source": [
    "plt.hist(u_check_masked.flatten());\n",
    "plt.title(\"Histogram of masked u matrix - Reapplied GeFolki\");"
   ]
  },
  {
   "cell_type": "code",
   "execution_count": null,
   "id": "859d1593-3b83-4af6-9156-4ec4d7f1340a",
   "metadata": {
    "tags": []
   },
   "outputs": [],
   "source": [
    "plt.hist(v_check_masked.flatten());\n",
    "plt.title(\"Histogram of masked v matrix - Reapplied GeFolki\");"
   ]
  },
  {
   "cell_type": "code",
   "execution_count": null,
   "id": "ea5c68ba-f154-48b4-ac56-689f20a0b8f7",
   "metadata": {
    "tags": []
   },
   "outputs": [],
   "source": [
    "print(f\"New coregistration - Mean of u: {np.nanmean(u_check_masked):.2f} | STD: {np.nanstd(u_check_masked):.2f} | Median: {np.nanmedian(u_check_masked):.2f}\")\n",
    "print(f\"New coregistration - Mean of v: {np.nanmean(v_check_masked):.2f} | STD: {np.nanstd(v_check_masked):.2f} | Median: {np.nanmedian(v_check_masked):.2f}\")"
   ]
  },
  {
   "cell_type": "markdown",
   "id": "69bec50a",
   "metadata": {},
   "source": [
    "## 4. <a id='sec4'></a>Exporting the *co-registered* PRISMA image and the original *NOT co-registered* PRISMA image (single bands/RGB composite/NIR bands/all NIR and SWIR bands)\n",
    "[Back to top](#TOC_TOP)"
   ]
  },
  {
   "cell_type": "code",
   "execution_count": null,
   "id": "16896f00-ef99-4901-a889-32ccec01794f",
   "metadata": {
    "tags": []
   },
   "outputs": [],
   "source": [
    "#Create a folder for coregistered images\n",
    "if not os.path.exists(r'PRISMA_outputs/coregistered'):\n",
    "    os.makedirs(r'PRISMA_outputs/coregistered')"
   ]
  },
  {
   "cell_type": "markdown",
   "id": "98e25c52",
   "metadata": {},
   "source": [
    "### Export coregistered imagery (one image for each band)"
   ]
  },
  {
   "cell_type": "markdown",
   "id": "bad7ca53-67c7-4892-b810-9bfbd6cea061",
   "metadata": {
    "tags": []
   },
   "source": [
    "Let's now export the **coregistered** PRISMA bands with `rasterio` (not relevant but code is provided to export bands separately):"
   ]
  },
  {
   "cell_type": "code",
   "execution_count": null,
   "id": "09c3abf8-ff37-4be3-a4be-749991896590",
   "metadata": {
    "tags": []
   },
   "outputs": [],
   "source": [
    "kwargs = {}\n",
    "kwargs['driver'] = 'GTiff'\n",
    "kwargs['dtype'] = 'float32'\n",
    "kwargs['count'] = 1\n",
    "kwargs['width'] = PRISMArecalee_vrf.shape[1]\n",
    "kwargs['height'] = PRISMArecalee_vrf.shape[0]\n",
    "kwargs['dtype'] = 'float32'\n",
    "kwargs['crs'] = rio.crs.CRS.from_epsg(32632)\n",
    "kwargs['transform'] = rio.transform.Affine(dst_resolution, src.transform[1],src.transform[2], src.transform[3], -dst_resolution, src.transform[5])"
   ]
  },
  {
   "cell_type": "code",
   "execution_count": null,
   "id": "730a64d0-b82d-4f7f-8634-7767f3819b26",
   "metadata": {
    "tags": []
   },
   "outputs": [],
   "source": [
    "# for i in range(0, PRISMArecalee_vrf.shape[2]):\n",
    "#     name = 'vnir_b'+ str(vnir_keys[i]) + '_' + sel_prisma_date.replace('-', '') + '_30m'+'.tiff'\n",
    "#     with rio.open(os.path.join(r'PRISMA_outputs/coregistered', name), 'w', **kwargs) as dst:\n",
    "#         dst.write_band(1, PRISMArecalee_vrf[:, :, i].astype(rio.float32))"
   ]
  },
  {
   "cell_type": "code",
   "execution_count": null,
   "id": "234e23b3-2317-4b7f-b13b-a13493e171b8",
   "metadata": {
    "tags": []
   },
   "outputs": [],
   "source": [
    "# for i in range(0, PRISMArecalee_srf.shape[2]):\n",
    "#     name = 'swir_b' + str(swir_keys[i]) + '_' + sel_prisma_date.replace('-', '') + '_30m'+'.tiff'\n",
    "#     with rio.open(os.path.join(r'PRISMA_outputs/coregistered', name), 'w', **kwargs) as dst:\n",
    "#         dst.write_band(1, PRISMArecalee_srf[:, :, i].astype(rio.float32))"
   ]
  },
  {
   "cell_type": "markdown",
   "id": "86230afd-33c6-4df2-be01-412345991bcb",
   "metadata": {},
   "source": [
    "### Export complete coregistered imagery (*useful for spectral signature plotting*)\n",
    "**NOTE**: also bands with all zero values are kept for completeness. They can be removed easily when they are imported. The zero bands are removed in the following notebooks when the image is imported."
   ]
  },
  {
   "cell_type": "code",
   "execution_count": null,
   "id": "b2d4137b-f1a8-4474-ba8c-ba9bb06ace7d",
   "metadata": {
    "tags": []
   },
   "outputs": [],
   "source": [
    "PRISMArecalee_vrf_sorted = np.flip(PRISMArecalee_vrf, axis=2)\n",
    "PRISMArecalee_srf_sorted = np.flip(PRISMArecalee_srf, axis=2)\n",
    "PRISMArecalee_sorted = np.dstack((PRISMArecalee_vrf_sorted, PRISMArecalee_srf_sorted))\n",
    "PRISMArecalee_sorted = np.moveaxis(PRISMArecalee_sorted, -1, 0)"
   ]
  },
  {
   "cell_type": "code",
   "execution_count": null,
   "id": "9cfe3ebe-5042-4d01-a3f4-617c876b263b",
   "metadata": {
    "tags": []
   },
   "outputs": [],
   "source": [
    "PRISMArecalee_sorted.shape"
   ]
  },
  {
   "cell_type": "code",
   "execution_count": null,
   "id": "92cafb83-5ee1-4a73-aaaf-7bef3abf70ac",
   "metadata": {
    "tags": []
   },
   "outputs": [],
   "source": [
    "kwargs = {}\n",
    "kwargs['driver'] = 'GTiff'\n",
    "kwargs['dtype'] = 'float32'\n",
    "kwargs['count'] = PRISMArecalee_sorted.shape[0]\n",
    "kwargs['width'] = PRISMArecalee_sorted.shape[2]\n",
    "kwargs['height'] = PRISMArecalee_sorted.shape[1]\n",
    "kwargs['dtype'] = 'float32'\n",
    "kwargs['crs'] = rio.crs.CRS.from_epsg(32632)\n",
    "kwargs['transform'] = rio.transform.Affine(dst_resolution, src.transform[1],src.transform[2], src.transform[3], -dst_resolution, src.transform[5])"
   ]
  },
  {
   "cell_type": "code",
   "execution_count": null,
   "id": "5d958e0b-445c-4079-9fcd-1a9d83a3452d",
   "metadata": {
    "tags": []
   },
   "outputs": [],
   "source": [
    "with rio.open('PRISMA_outputs/coregistered/PR_'+ sel_prisma_date.replace('-', '') + '_30m.tif', 'w', **kwargs) as dst:\n",
    "    dst.write(PRISMArecalee_sorted.astype(rio.float32))"
   ]
  },
  {
   "cell_type": "markdown",
   "id": "450375e4-1bdd-4aae-a83c-ae0a46956995",
   "metadata": {},
   "source": [
    "### Export complete NOT coregistered imagery (*useful for spectral signature plotting*)\n",
    "**NOTE**: also bands with all zero values are kept for completeness. They can be removed easily when they are imported. The zero bands are removed in the following notebooks when the image is imported."
   ]
  },
  {
   "cell_type": "code",
   "execution_count": null,
   "id": "6d6ef93c-8d8f-40c5-9afe-381ac4dc0221",
   "metadata": {
    "tags": []
   },
   "outputs": [],
   "source": [
    "vrf_refl_sorted = np.flip(vrf_refl, axis=2)\n",
    "srf_refl_sorted = np.flip(srf_refl, axis=2)\n",
    "PRISMA_sorted = np.dstack((vrf_refl_sorted, srf_refl_sorted))\n",
    "PRISMA_sorted = np.moveaxis(PRISMA_sorted, -1, 0)"
   ]
  },
  {
   "cell_type": "code",
   "execution_count": null,
   "id": "c2315d4d-6dcb-4e60-8af9-03e27aa759c0",
   "metadata": {
    "tags": []
   },
   "outputs": [],
   "source": [
    "kwargs = {}\n",
    "kwargs['driver'] = 'GTiff'\n",
    "kwargs['dtype'] = 'float32'\n",
    "kwargs['count'] = PRISMA_sorted.shape[0]\n",
    "kwargs['width'] = PRISMA_sorted.shape[2]\n",
    "kwargs['height'] = PRISMA_sorted.shape[1]\n",
    "kwargs['dtype'] = 'float32'\n",
    "kwargs['crs'] = rio.crs.CRS.from_epsg(32632)\n",
    "kwargs['transform'] = rio.transform.Affine(dst_resolution, src.transform[1],src.transform[2], src.transform[3], -dst_resolution, src.transform[5])"
   ]
  },
  {
   "cell_type": "code",
   "execution_count": null,
   "id": "8dd99b71-cd46-470c-9453-4b332a8d1107",
   "metadata": {
    "tags": []
   },
   "outputs": [],
   "source": [
    "# with rio.open('PRISMA_outputs/PR_'+ sel_prisma_date.replace('-', '') + '_NotCor_30m.tif', 'w', **kwargs) as dst:\n",
    "#     dst.write(PRISMA_sorted.astype(rio.float32))"
   ]
  },
  {
   "cell_type": "markdown",
   "id": "acec7ed9-4b8c-41b7-ad5f-35786fe42807",
   "metadata": {},
   "source": [
    "### Export coregistered PRISMA imagery VNIR bands (*useful for pansharpening*)"
   ]
  },
  {
   "cell_type": "markdown",
   "id": "ecd13dd8-b669-479e-8df5-0310527019cc",
   "metadata": {},
   "source": [
    "Export only the coregistered VNIR cube. This may be useful for pansharpening, since the VNIR bands cover the same spectrum as the PAN band."
   ]
  },
  {
   "cell_type": "code",
   "execution_count": null,
   "id": "6542e1e4-ed85-49e6-aded-5933a13f12dc",
   "metadata": {
    "tags": []
   },
   "outputs": [],
   "source": [
    "PRISMArecalee_vrf_sorted = np.moveaxis(PRISMArecalee_vrf_sorted, -1, 0)"
   ]
  },
  {
   "cell_type": "code",
   "execution_count": null,
   "id": "af825000-d310-489e-863a-b3f5c04cce95",
   "metadata": {
    "tags": []
   },
   "outputs": [],
   "source": [
    "PRISMArecalee_vrf_sorted.shape"
   ]
  },
  {
   "cell_type": "code",
   "execution_count": null,
   "id": "dc7c5a91-e84a-49c8-8b37-206fe980a47c",
   "metadata": {
    "tags": []
   },
   "outputs": [],
   "source": [
    "kwargs = {}\n",
    "kwargs['driver'] = 'GTiff'\n",
    "kwargs['dtype'] = 'float32'\n",
    "kwargs['count'] = PRISMArecalee_vrf_sorted.shape[0]\n",
    "kwargs['width'] = PRISMArecalee_vrf_sorted.shape[2]\n",
    "kwargs['height'] = PRISMArecalee_vrf_sorted.shape[1]\n",
    "kwargs['dtype'] = 'float32'\n",
    "kwargs['crs'] = rio.crs.CRS.from_epsg(32632)\n",
    "kwargs['transform'] = rio.transform.Affine(dst_resolution, src.transform[1],src.transform[2], src.transform[3], -dst_resolution, src.transform[5])"
   ]
  },
  {
   "cell_type": "code",
   "execution_count": null,
   "id": "cd004af7-de5f-48bb-a89f-6cc98d0c7930",
   "metadata": {
    "tags": []
   },
   "outputs": [],
   "source": [
    "with rio.open('PRISMA_outputs/coregistered/PR_VNIR_'+ sel_prisma_date.replace('-', '') + '_30m.tif', 'w', **kwargs) as dst:\n",
    "    dst.write(PRISMArecalee_vrf_sorted.astype(rio.float32))"
   ]
  },
  {
   "cell_type": "markdown",
   "id": "6b33554c-f972-4ffa-bee7-e6712e9d11d4",
   "metadata": {},
   "source": [
    "### Export coregistered PRISMA imagery Red-Green-Blue-NIR (RGBN)\n",
    "Export the PRISMA image with RGBN bands."
   ]
  },
  {
   "cell_type": "code",
   "execution_count": null,
   "id": "5bd76839-2c07-4b2c-994b-1f1cc5f3b97f",
   "metadata": {
    "tags": []
   },
   "outputs": [],
   "source": [
    "kwargs = {}\n",
    "kwargs['driver'] = 'GTiff'\n",
    "kwargs['dtype'] = 'float32'\n",
    "kwargs['count'] = 4\n",
    "kwargs['width'] = PRISMArecalee_vrf.shape[1]\n",
    "kwargs['height'] = PRISMArecalee_vrf.shape[0]\n",
    "kwargs['dtype'] = 'float32'\n",
    "kwargs['crs'] = rio.crs.CRS.from_epsg(32632)\n",
    "kwargs['transform'] = rio.transform.Affine(dst_resolution, src.transform[1],src.transform[2], src.transform[3], -dst_resolution, src.transform[5])"
   ]
  },
  {
   "cell_type": "code",
   "execution_count": null,
   "id": "caae6801-6c7d-4354-9e4f-7e3f7e565f17",
   "metadata": {
    "tags": []
   },
   "outputs": [],
   "source": [
    "# # Create a new raster file RGB\n",
    "# with rio.open('rgb_PRISMA_coreg_image.tif', 'w', **kwargs) as dst:\n",
    "#     # Write the RGB data to the raster file\n",
    "#     dst.write(red_band, 1)\n",
    "#     dst.write(green_band, 2)\n",
    "#     dst.write(blue_band, 3)"
   ]
  },
  {
   "cell_type": "code",
   "execution_count": null,
   "id": "c5ed1a1f-b63e-4c63-a303-6584b714c17a",
   "metadata": {
    "tags": []
   },
   "outputs": [],
   "source": [
    "red_band = PRISMArecalee_vrf[:, :, idx_red_prisma]\n",
    "green_band = PRISMArecalee_vrf[:, :, idx_green_prisma]\n",
    "blue_band = PRISMArecalee_vrf[:, :, idx_blue_prisma]\n",
    "nir_band = PRISMArecalee_vrf[:, :, idx_nir_prisma]"
   ]
  },
  {
   "cell_type": "code",
   "execution_count": null,
   "id": "1de33c44-3765-423c-b6fd-65dd2fa36bc1",
   "metadata": {
    "tags": []
   },
   "outputs": [],
   "source": [
    "# Create a new raster file RGBN\n",
    "with rio.open('PRISMA_outputs/coregistered/PR_rgbn_'+ sel_prisma_date.replace('-', '') + '_30m.tif', 'w', **kwargs) as dst:\n",
    "    # Write the RGB data to the raster file\n",
    "    dst.write(red_band.astype(rio.float32), 1)\n",
    "    dst.write(green_band.astype(rio.float32), 2)\n",
    "    dst.write(blue_band.astype(rio.float32), 3)\n",
    "    dst.write(nir_band.astype(rio.float32), 4)"
   ]
  },
  {
   "cell_type": "code",
   "execution_count": null,
   "id": "096bbbf7-519c-4fc4-a2c8-ad8f3015f74d",
   "metadata": {
    "tags": []
   },
   "outputs": [],
   "source": [
    "# Open the TIFF file in read mode\n",
    "plt.figure(figsize = (6,6))\n",
    "with rio.open('PRISMA_outputs/coregistered/PR_rgbn_'+ sel_prisma_date.replace('-', '') + '_30m.tif') as src:\n",
    "    rgb = src.read(indexes = [1,2,3])\n",
    "    # Plot the image\n",
    "    plt.imshow(rgb.transpose(1, 2, 0)*5)\n",
    "    plt.show()"
   ]
  },
  {
   "cell_type": "markdown",
   "id": "db5b6407-ff71-453a-9a67-ef7272739b14",
   "metadata": {},
   "source": [
    "---"
   ]
  },
  {
   "cell_type": "markdown",
   "id": "749eb470-2f98-49fa-a4f6-eea9a8b5b01e",
   "metadata": {},
   "source": [
    "## Additional visualizations coregistered imagery\n",
    "This part is related to visualization and comparison of Sentinel-2 and PRISMA imagery, both coregistered and not coregistered."
   ]
  },
  {
   "cell_type": "markdown",
   "id": "b79d6b6f-493e-4da6-bc75-5133800eae49",
   "metadata": {},
   "source": [
    "Define the coordinates for limit the plot bounding box:"
   ]
  },
  {
   "cell_type": "code",
   "execution_count": null,
   "id": "86772cab-9456-4c14-b594-2ab4c550f91f",
   "metadata": {
    "tags": []
   },
   "outputs": [],
   "source": [
    "#Bounding box\n",
    "xmin=400\n",
    "xmax=600\n",
    "ymin=400\n",
    "ymax=600"
   ]
  },
  {
   "cell_type": "code",
   "execution_count": null,
   "id": "696aab62-a226-4000-b775-35fb7f37bba4",
   "metadata": {
    "tags": []
   },
   "outputs": [],
   "source": [
    "# Open the two tif files\n",
    "with rio.open('S2_outputs/S2_'+sel_s2_date.replace('-', '')+'_30m_clip.tif') as src1, rio.open('PRISMA_outputs/coregistered/PR_rgbn_'+ sel_prisma_date.replace('-', '') + '_30m.tif') as src2:\n",
    "    # Read the data from the two files\n",
    "    data1 = src1.read(indexes=[3, 2, 1])\n",
    "    data2 = src2.read(indexes=[1, 2, 3])\n",
    "\n",
    "    # create a new figure object with two subplots\n",
    "    fig, ((ax1, ax2), (ax3, ax4)) = plt.subplots(nrows=2, ncols=2, figsize=(25,25))\n",
    "    # Plot the two layers on top of each other\n",
    "    ax1.imshow(data1.transpose(1, 2, 0)*2)  # multiplied to adjust brightness just visually\n",
    "    ax1.set_xlim([xmin, xmax])\n",
    "    ax1.set_ylim([ymin, ymax])\n",
    "    show_hist(data1, bins=50, lw=0.0, stacked=False, alpha=0.3,histtype='stepfilled', title=\"Histogram PRISMA\", ax=ax2)\n",
    "    \n",
    "    ax3.imshow(data2.transpose(1, 2, 0)*3) # multiplied to adjust brightness just visually\n",
    "    ax3.set_xlim([xmin, xmax])\n",
    "    ax3.set_ylim([ymin, ymax])\n",
    "    show_hist(data2, bins=50, lw=0.0, stacked=False, alpha=0.3,histtype='stepfilled', title=\"Histogram Sentinel-2\", ax=ax4)"
   ]
  },
  {
   "cell_type": "markdown",
   "id": "c1e3fa30-8451-4301-9fee-59c15ee3bfe0",
   "metadata": {},
   "source": [
    "The plot illustrates the impact of coregistration, with displacement arrows indicating areas of higher deformation and displacement (arrows not in scale):"
   ]
  },
  {
   "cell_type": "code",
   "execution_count": null,
   "id": "e243b2f8-b8c2-4032-bc30-bcbcd287da94",
   "metadata": {
    "tags": []
   },
   "outputs": [],
   "source": [
    "x_max_pl = 0\n",
    "x_min_pl = 1000\n",
    "y_max_pl = 0\n",
    "y_min_pl = 1000\n",
    "\n",
    "# Open the two tif files\n",
    "with rio.open('S2_outputs/S2_'+sel_s2_date.replace('-', '')+'_30m_clip.tif') as src1, rio.open('PRISMA_outputs/PR_rgbn_'+sel_prisma_date.replace('-', '')+'_NotCor_30m.tif') as src2:\n",
    "    \n",
    "    # Read the data from the two files\n",
    "    data2 = src2.read(1)*2\n",
    "    data1 = src1.read(indexes=[3])[:, :data2.shape[0], :data2.shape[1]]\n",
    "\n",
    "    C = np.dstack((data1.reshape(data1.shape[1], data1.shape[2]), data2, data1.reshape(data1.shape[1], data1.shape[2])))\n",
    "    pl.figure(figsize=(25,25))\n",
    "    pl.imshow(C*2)\n",
    "    pl.quiver(X_subset, Y_subset, u_subset, v_subset, uv_length, cmap='jet', clim=(0, 6),  linewidths=widths, headwidth=2, headlength=4, alpha=0.5)\n",
    "    # plt.xlim([x_min_pl, x_max_pl])\n",
    "    # plt.ylim([y_min_pl, y_max_pl])\n",
    "    pl.title('Before Sentinel-2 - PRISMA Coregistration')"
   ]
  },
  {
   "cell_type": "code",
   "execution_count": null,
   "id": "df03a7ed-fe37-498c-b092-ccee5fd3734d",
   "metadata": {
    "tags": []
   },
   "outputs": [],
   "source": [
    "# Open the two tif files\n",
    "with rio.open('S2_outputs/S2_'+sel_s2_date.replace('-', '')+'_30m_clip.tif') as src1, rio.open('PRISMA_outputs/coregistered/PR_rgbn_'+sel_prisma_date.replace('-', '')+'_30m.tif') as src2:\n",
    "    \n",
    "    # Read the data from the two files\n",
    "    data2 = src2.read(1)*2\n",
    "    data1 = src1.read(indexes=[3])[:, :data2.shape[0], :data2.shape[1]]\n",
    "    \n",
    "    C = np.dstack((data1.reshape(data1.shape[1], data1.shape[2]), data2, data1.reshape(data1.shape[1], data1.shape[2])))\n",
    "    pl.figure(figsize=(25,25))\n",
    "    pl.imshow(C*2)\n",
    "    # plt.xlim([x_min_pl, x_max_pl])\n",
    "    # plt.ylim([y_min_pl, y_max_pl])\n",
    "    pl.title('After Sentinel-2 - PRISMA Coregistration')"
   ]
  },
  {
   "cell_type": "markdown",
   "id": "931d9bd7-9703-412e-88bc-804c12f2000f",
   "metadata": {},
   "source": [
    "-----"
   ]
  },
  {
   "cell_type": "markdown",
   "id": "1f14e991-fd5c-4f87-8ef4-317d7f4669bc",
   "metadata": {},
   "source": [
    "### Optional visualization using Canny Edge Detection"
   ]
  },
  {
   "cell_type": "code",
   "execution_count": null,
   "id": "36a860a8-1118-48ff-ae4c-a1e2ea273436",
   "metadata": {
    "tags": []
   },
   "outputs": [],
   "source": [
    "from skimage import feature\n",
    "from skimage import filters"
   ]
  },
  {
   "cell_type": "markdown",
   "id": "e83e61c1-66fb-4d63-9141-22e746a4c640",
   "metadata": {},
   "source": [
    "## Canny Edge Detection method\n",
    "Reference at this link: [Skimage Canny Edge Detector](https://scikit-image.org/docs/stable/auto_examples/edges/plot_canny.html).\n",
    "It uses a filter based on the derivative of a Gaussian in order to compute the intensity of the gradients.The Gaussian reduces the effect of noise present in the image. Then, potential edges are thinned down to 1-pixel curves by removing non-maximum pixels of the gradient magnitude. Finally, edge pixels are kept or removed using hysteresis thresholding on the gradient magnitude.\n",
    "\n",
    "The Canny has three adjustable parameters: the width of the Gaussian (the noisier the image, the greater the width), and the low and high threshold for the hysteresis thresholding."
   ]
  },
  {
   "cell_type": "code",
   "execution_count": null,
   "id": "f0887204-0fb1-49fb-872a-2255fcab0333",
   "metadata": {
    "tags": []
   },
   "outputs": [],
   "source": [
    "with rio.open('S2_outputs/S2_'+sel_s2_date.replace('-', '')+'_30m_clip.tif') as src1, rio.open('PRISMA_outputs/PR_rgbn_'+sel_prisma_date.replace('-', '')+'_NotCor_30m.tif') as src2:\n",
    "    data1 = src1.read(indexes=[3])\n",
    "    data2 = src2.read(1)\n",
    "    edges1 = feature.canny(data1.squeeze())\n",
    "    edges2 = feature.canny(data2.squeeze())\n",
    "\n",
    "    # display results\n",
    "    fig, ax = plt.subplots(nrows=1, ncols=1, figsize=(10, 10))\n",
    "    ax.imshow(data1.transpose(1, 2, 0), cmap='binary')  # multiplied to adjust brightness\n",
    "    cmap1 = plt.cm.Reds\n",
    "    cmap2 = plt.cm.Blues\n",
    "    im1 = ax.imshow(edges1, cmap=cmap1, alpha=1, vmin=0, vmax=1.4)\n",
    "    im2 = ax.imshow(edges2, cmap=cmap2, alpha=0.7, vmin=0, vmax=1.4)\n",
    "    plt.xlim([x_min_pl, x_max_pl])\n",
    "    plt.ylim([y_min_pl, y_max_pl])\n",
    "    ax.set_title('Canny Edge Detector - Before Sentinel-2 - PRISMA Coregistration', fontsize=12)\n",
    "    \n",
    "    plt.show()"
   ]
  },
  {
   "cell_type": "code",
   "execution_count": null,
   "id": "7fb4ae0e-fcce-4523-9e24-8d2d953aed61",
   "metadata": {
    "tags": []
   },
   "outputs": [],
   "source": [
    "with rio.open('S2_outputs/S2_'+sel_s2_date.replace('-', '')+'_30m_clip.tif') as src1, rio.open('PRISMA_outputs/coregistered/PR_rgbn_'+sel_prisma_date.replace('-', '')+'_30m.tif') as src2:\n",
    "    data1 = src1.read(indexes=[3])  #red 3\n",
    "    data2 = src2.read(1)\n",
    "    edges1 = feature.canny(data1.squeeze(), sigma=1)\n",
    "    edges2 = feature.canny(data2.squeeze(), sigma=0.7)\n",
    "\n",
    "    # display results\n",
    "    fig, ax = plt.subplots(nrows=1, ncols=1, figsize=(10, 10))\n",
    "    ax.imshow(data1.transpose(1, 2, 0), cmap='binary')  # multiplied to adjust brightness\n",
    "    cmap1 = plt.cm.Reds\n",
    "    cmap2 = plt.cm.Blues\n",
    "    im1 = ax.imshow(edges1, cmap=cmap1, alpha=1, vmin=0, vmax=1.4)\n",
    "    im2 = ax.imshow(edges2, cmap=cmap2, alpha=0.7, vmin=0, vmax=1.4)\n",
    "    plt.xlim([x_min_pl, x_max_pl])\n",
    "    plt.ylim([y_min_pl, y_max_pl])\n",
    "    ax.set_title('Canny Edge Detector - After Sentinel-2 - PRISMA Coregistration', fontsize=12)\n",
    "    \n",
    "    plt.show()"
   ]
  },
  {
   "cell_type": "markdown",
   "id": "544336e3-a305-471d-a7b0-1a193b601803",
   "metadata": {},
   "source": [
    "### Optional visualization using Sobel Mask Edge Detector\n",
    "\n",
    "Reference at this link: [Skimage Sobel Mask Edge Detector](https://scikit-image.org/docs/stable/auto_examples/edges/plot_edge_filter.html)."
   ]
  },
  {
   "cell_type": "code",
   "execution_count": null,
   "id": "9f3ea4e6-1a85-4ca7-bddb-b1fa3710145d",
   "metadata": {
    "tags": []
   },
   "outputs": [],
   "source": [
    "with rio.open('S2_outputs/S2_'+sel_s2_date.replace('-', '')+'_30m_clip.tif') as src1, rio.open('PRISMA_outputs/PR_rgbn_'+sel_prisma_date.replace('-', '')+'_NotCor_30m.tif') as src2:\n",
    "    data1 = src1.read(indexes=[3])\n",
    "    data2 = src2.read(1)\n",
    "    edges1 = filters.sobel(data1.squeeze())\n",
    "    edges2 = filters.sobel(data2.squeeze())\n",
    "    \n",
    "    p2_1, p98_1 = np.percentile(edges1, (2, 98))\n",
    "    p2_2, p98_2 = np.percentile(edges2, (2, 98))\n",
    "    \n",
    "    # display results\n",
    "    fig, ax = plt.subplots(nrows=1, ncols=1, figsize=(15, 15))\n",
    "    \n",
    "    ax.imshow(edges1*2, cmap='Reds', alpha=1, vmin=p2_1, vmax=p98_1)\n",
    "    ax.imshow(edges2, cmap='Blues', alpha=0.7, vmin=p2_2, vmax=p98_2)\n",
    "    plt.xlim([x_min_pl, x_max_pl])\n",
    "    plt.ylim([y_min_pl, y_max_pl])\n",
    "    ax.set_title('Sobel Mask Edge Detector - Before Sentinel-2 - PRISMA Coregistration', fontsize=12)"
   ]
  },
  {
   "cell_type": "code",
   "execution_count": null,
   "id": "ca0b0e3b-4b04-4cf2-9e90-941cd129e2b3",
   "metadata": {
    "tags": []
   },
   "outputs": [],
   "source": [
    "with rio.open('S2_outputs/S2_'+sel_s2_date.replace('-', '')+'_30m_clip.tif') as src1, rio.open('PRISMA_outputs/coregistered/PR_rgbn_'+sel_prisma_date.replace('-', '')+'_30m.tif') as src2:\n",
    "    data1 = src1.read(indexes=[3])\n",
    "    data2 = src2.read(1)\n",
    "    edges1 = filters.sobel(data1.squeeze())\n",
    "    edges2 = filters.sobel(data2.squeeze())\n",
    "    \n",
    "    p2_1, p98_1 = np.percentile(edges1, (2, 98))\n",
    "    p2_2, p98_2 = np.percentile(edges2, (2, 98))\n",
    "    \n",
    "    # display results\n",
    "    fig, ax = plt.subplots(nrows=1, ncols=1, figsize=(15, 15))\n",
    "    \n",
    "    ax.imshow(edges1*2, cmap='Reds', alpha=1, vmin=p2_1, vmax=p98_1)\n",
    "    ax.imshow(edges2, cmap='Blues', alpha=0.7, vmin=p2_2, vmax=p98_2)\n",
    "    plt.xlim([x_min_pl, x_max_pl])\n",
    "    plt.ylim([y_min_pl, y_max_pl])\n",
    "    ax.set_title('Sobel Mask Edge Detector - After Sentinel-2 - PRISMA Coregistration', fontsize=20)"
   ]
  },
  {
   "cell_type": "markdown",
   "id": "c99268fe-77ab-4959-b47d-b0ac2a0541d2",
   "metadata": {},
   "source": [
    "## 5. <a id='sec5'></a>Panchromatic coregistration and export\n",
    "[Back to top](#TOC_TOP)"
   ]
  },
  {
   "cell_type": "markdown",
   "id": "101dfdb0-43cd-4567-928d-0d305dcedbd0",
   "metadata": {},
   "source": [
    "This part of the notebook allows for:\n",
    "- Exporting panchromatic band NOT coregistered\n",
    "- Upsampling Sentinel-2 imagery from 20m to 5m for panchromatic coregistration\n",
    "- Coregistering panchromatic image applying the GeFolki algorithm to Sentinel-2 and PRISMA panchromatic band both at 5m resolution\n",
    "\n",
    "**TESTED**: upscaled previously calculated `u` and `v` displacement (for 30m resolution) interpolating linearly the u and v values to 5m resolution. This is necessary to have the same array dimensions and apply the transformation to a panchromatic image. It didn't produce a good result."
   ]
  },
  {
   "cell_type": "code",
   "execution_count": null,
   "id": "8781d64b-ad9a-4941-8050-6a797dd2a30f",
   "metadata": {
    "tags": []
   },
   "outputs": [],
   "source": [
    "pan = np.array(f['HDFEOS']['SWATHS']['PRS_L2D_PCO']['Data Fields']['Cube'][:])\n",
    "pan"
   ]
  },
  {
   "cell_type": "code",
   "execution_count": null,
   "id": "3af74bfc-ef87-48f3-bce8-1358c82b5dd0",
   "metadata": {
    "tags": []
   },
   "outputs": [],
   "source": [
    "pan.shape"
   ]
  },
  {
   "cell_type": "code",
   "execution_count": null,
   "id": "12f2a748-6bb3-4833-a214-26c6e6707ed4",
   "metadata": {
    "tags": []
   },
   "outputs": [],
   "source": [
    "plt.figure(figsize = (15,15))\n",
    "height, width = pan.shape\n",
    "extent = [0, width, height, 0]  # left, right, bottom, top\n",
    "plt.imshow(pan, cmap=\"binary\", vmin=-np.quantile(pan, 0.1), vmax=np.quantile(pan, 0.9), extent=extent)\n",
    "\n",
    "plt.gca().xaxis.set_major_locator(MaxNLocator(integer=True, prune='both', nbins=width//100+1))\n",
    "plt.gca().yaxis.set_major_locator(MaxNLocator(integer=True, prune='both', nbins=height//100+1))\n",
    "plt.title(f'PRISMA Panchromatic band')\n",
    "plt.xticks(rotation=45, fontsize=8)\n",
    "plt.xticks(rotation=45, fontsize=8)\n",
    "plt.colorbar()"
   ]
  },
  {
   "cell_type": "code",
   "execution_count": null,
   "id": "c932839c-8644-4932-b821-1ce3d99b8ae1",
   "metadata": {
    "tags": []
   },
   "outputs": [],
   "source": [
    "kwargs_pan = {}\n",
    "kwargs_pan['driver'] = 'GTiff'\n",
    "kwargs_pan['dtype'] = 'float32'\n",
    "kwargs_pan['count'] = 1\n",
    "kwargs_pan['width'] = pan.shape[1]\n",
    "kwargs_pan['height'] = pan.shape[0]\n",
    "kwargs_pan['dtype'] = 'float32'\n",
    "kwargs_pan['crs'] = rio.crs.CRS.from_epsg(32632)\n",
    "kwargs_pan['transform'] = rio.transform.Affine(5, src.transform[1],src.transform[2], src.transform[3], -5, src.transform[5])"
   ]
  },
  {
   "cell_type": "code",
   "execution_count": null,
   "id": "95f571e0-6524-4e7e-ad7f-b3b9ea40ec7a",
   "metadata": {
    "tags": []
   },
   "outputs": [],
   "source": [
    "# Create a new raster file RGBN\n",
    "with rio.open('PRISMA_outputs/PR_pan_'+sel_prisma_date.replace('-', '')+'_NotCor_5m.tif', 'w', **kwargs_pan) as pan_dst:\n",
    "    # Write the RGB data to the raster file\n",
    "    pan_dst.write(pan.astype(rio.float32), 1)"
   ]
  },
  {
   "cell_type": "code",
   "execution_count": null,
   "id": "2a1d11af-f8f9-4019-83cc-250cdff944b3",
   "metadata": {
    "tags": []
   },
   "outputs": [],
   "source": [
    "# Open the TIFF file in read mode\n",
    "plt.figure(figsize = (15,15))\n",
    "with rio.open('PRISMA_outputs/PR_pan_'+sel_prisma_date.replace('-', '')+'_NotCor_5m.tif') as pan_src:\n",
    "    pan_data = pan_src.read()\n",
    "    # Plot the image\n",
    "    plt.imshow(pan_data.transpose(1, 2, 0)*5, cmap='gray')\n",
    "    plt.show()"
   ]
  },
  {
   "cell_type": "markdown",
   "id": "fff68256-437b-47e6-af00-130aa6127c56",
   "metadata": {
    "tags": []
   },
   "source": [
    "### Upscale Sentinel-2 imager to 5m and apply GeFolki algorithm to panchromatic PRISMA band"
   ]
  },
  {
   "cell_type": "markdown",
   "id": "a910c92e-e89a-46b4-adc5-4e2a54039d73",
   "metadata": {},
   "source": [
    "To scale Sentinel-2 to reflectance:"
   ]
  },
  {
   "cell_type": "code",
   "execution_count": null,
   "id": "98378980-d7ca-4f94-8e93-a7e6ed0f6409",
   "metadata": {
    "tags": []
   },
   "outputs": [],
   "source": [
    "S2_scale = 1\n",
    "\n",
    "with rio.open(selected_image_s2) as src:\n",
    "    # Read the data from the red, green, and blue bands\n",
    "    data = src.read() / S2_scale  #indexes=[4, 3, 2]\n",
    "    # Get the metadata of the source image\n",
    "    src_meta = src.meta"
   ]
  },
  {
   "cell_type": "markdown",
   "id": "3dd53060-4106-4fdb-8e91-7933ce479c86",
   "metadata": {},
   "source": [
    "Define the output desired resolution:"
   ]
  },
  {
   "cell_type": "code",
   "execution_count": null,
   "id": "d4429f89-0021-4100-b3a7-0bed28124564",
   "metadata": {
    "tags": []
   },
   "outputs": [],
   "source": [
    "s2_5m_resolution = 5"
   ]
  },
  {
   "cell_type": "markdown",
   "id": "49e4f6d9-82c8-4aad-88e0-aaea4853721f",
   "metadata": {},
   "source": [
    "Get transform parameters from the input image:"
   ]
  },
  {
   "cell_type": "code",
   "execution_count": null,
   "id": "eace7fba-0ca3-4792-8c1f-079c71a7476a",
   "metadata": {
    "tags": []
   },
   "outputs": [],
   "source": [
    "src.transform[:]"
   ]
  },
  {
   "cell_type": "markdown",
   "id": "a5b50b89-5879-4b22-a783-5bca3c700733",
   "metadata": {},
   "source": [
    "Update to new resolution the parameters:"
   ]
  },
  {
   "cell_type": "code",
   "execution_count": null,
   "id": "4c15a599-499d-4658-96a4-d76be718961e",
   "metadata": {
    "tags": []
   },
   "outputs": [],
   "source": [
    "dst_meta = src_meta.copy()\n",
    "dst_meta.update({\n",
    "    'height': int(src.height * src.transform[0] / s2_5m_resolution),\n",
    "    'width': int(src.width * src.transform[0] / s2_5m_resolution),\n",
    "    'transform': rio.Affine(s2_5m_resolution, 0, src.bounds.left, 0, -s2_5m_resolution, src.bounds.top),\n",
    "    'dtype' : 'float32'\n",
    "})"
   ]
  },
  {
   "cell_type": "markdown",
   "id": "b728ac37-8df1-4681-88f6-f6ef9326f575",
   "metadata": {},
   "source": [
    "Resample using a **bilinear** interpolation with rasterio.reproject (it is possible to change the interpolation method):"
   ]
  },
  {
   "cell_type": "code",
   "execution_count": null,
   "id": "51de46bd-15f3-4eef-8977-d32195ec2d4c",
   "metadata": {
    "tags": []
   },
   "outputs": [],
   "source": [
    "resampled_data = np.zeros((src.count, dst_meta['height'], dst_meta['width']), dtype=data.dtype)\n",
    "reproject(data,resampled_data,src_transform=src.transform,src_crs=src.crs, dst_transform=dst_meta['transform'], dst_crs=src.crs, resampling=Resampling.bilinear);"
   ]
  },
  {
   "cell_type": "markdown",
   "id": "4acbd82c-1b43-4df8-81bd-89ecf89d6a81",
   "metadata": {},
   "source": [
    "Save the resampled raster to a 5m resolution GeoTIFF file:"
   ]
  },
  {
   "cell_type": "code",
   "execution_count": null,
   "id": "7c927bf5-d46b-4182-bcd4-2d42fcb05daf",
   "metadata": {
    "tags": []
   },
   "outputs": [],
   "source": [
    "s2_5_path = 'S2_outputs/S2_'+sel_s2_date.replace('-', '')+'_5m_clip.tif'"
   ]
  },
  {
   "cell_type": "code",
   "execution_count": null,
   "id": "24e9d9c9-cefe-4fbf-a826-c07c296f99e0",
   "metadata": {
    "tags": []
   },
   "outputs": [],
   "source": [
    "with rio.open(s2_5_path, 'w', **dst_meta) as dst:\n",
    "    dst.write(resampled_data.astype(rio.float32))"
   ]
  },
  {
   "cell_type": "code",
   "execution_count": null,
   "id": "73809dbd-67c8-47b8-b9dd-85daf2e2ce6b",
   "metadata": {
    "tags": []
   },
   "outputs": [],
   "source": [
    "with rio.open(s2_5_path) as s2_5m_src:\n",
    "    s2_5m_src_data = s2_5m_src.read(1)"
   ]
  },
  {
   "cell_type": "markdown",
   "id": "62eb2edb-e451-4d68-a0a2-b6bf5653b286",
   "metadata": {},
   "source": [
    "Check if the arrays dimensions are compatible:"
   ]
  },
  {
   "cell_type": "code",
   "execution_count": null,
   "id": "c6eef027-a410-4864-8997-ab13bb06fc74",
   "metadata": {
    "tags": []
   },
   "outputs": [],
   "source": [
    "print(f\"The shape of PRISMA panchromatic image is: {pan.shape}\")\n",
    "print(f\"The shape of upscaled 5m resolution Sentinel-2 image band is: {s2_5m_src_data.shape}\")\n",
    "print(\"---------------------\")\n",
    "if pan.shape == s2_5m_src_data.shape:\n",
    "    print(\"Dimensions are the same\")\n",
    "else:\n",
    "    print(\"Array dimensions are different. Applying a clip.\")\n",
    "    # Crop the Sentinel-2 image to match the shape of the PRISMA image\n",
    "    s2_5m_src_data2 = s2_5m_src_data[:pan.shape[0], :pan.shape[1]]\n",
    "    # Check the shape of the cropped Sentinel-2 image\n",
    "    print(f\"The shape of the new cropped Sentinel-2 image band is: {s2_5m_src_data2.shape}\")"
   ]
  },
  {
   "cell_type": "code",
   "execution_count": null,
   "id": "264106e7-1197-4cfd-8975-de501dd8616f",
   "metadata": {
    "tags": []
   },
   "outputs": [],
   "source": [
    "iteration = 4\n",
    "radius = [100, 100]\n",
    "rank = 4\n",
    "level = 5"
   ]
  },
  {
   "cell_type": "markdown",
   "id": "84b5efbc-9856-4c89-b6d5-114bdc8ec0f2",
   "metadata": {},
   "source": [
    "Applying GeFolki algorithm to panchromatic band. This may take a while to be concluded!"
   ]
  },
  {
   "cell_type": "code",
   "execution_count": null,
   "id": "353e7030-e4d0-4fae-92bd-7987bcc2ea44",
   "metadata": {
    "tags": []
   },
   "outputs": [],
   "source": [
    "print(\"Started - GeFolki coregistration\")\n",
    "u, v = EFolki(s2_5m_src_data2, pan, iteration=iteration, radius=radius, rank=rank, levels=level)\n",
    "print(\"Completed - GeFolki coregistration\")"
   ]
  },
  {
   "cell_type": "code",
   "execution_count": null,
   "id": "527ff0d5-1b4f-4c68-806f-678737e7aa18",
   "metadata": {
    "tags": []
   },
   "outputs": [],
   "source": [
    "sub_size=40 # To subset quivers\n",
    "\n",
    "# Create a meshgrid for the coordinates\n",
    "X, Y = np.meshgrid(np.arange(0, v.shape[1]), np.arange(0, v.shape[0]))\n",
    "\n",
    "skip = 300\n",
    "X_subset = X[::skip, ::skip]\n",
    "Y_subset = Y[::skip, ::skip]\n",
    "u_subset = -u[::skip, ::skip]\n",
    "v_subset = v[::skip, ::skip]\n",
    "# Compute the vector length\n",
    "uv_length = np.sqrt(u_subset**2 + v_subset**2)\n",
    "\n",
    "fig, ax = plt.subplots(figsize=(15, 15))\n",
    "widths = np.linspace(0, 100, X.size)\n",
    "ax.quiver(X_subset, Y_subset, u_subset, v_subset, uv_length, cmap='jet', clim=(0, 6),  linewidths=widths, headwidth=2, headlength=4)\n",
    "plt.show()"
   ]
  },
  {
   "cell_type": "markdown",
   "id": "b5d855dd-fa77-4f57-b598-ed4a9619e6b2",
   "metadata": {},
   "source": [
    "Let's now apply the estimated vectors `u` and `v` to panchromatic band of PRISMA image. For doing so, let's first initialize again the PAN cube that will store the coregistered image. Then, let's fill the new datacube with the coregistered data (applying the optical flow transformation):"
   ]
  },
  {
   "cell_type": "code",
   "execution_count": null,
   "id": "83afbcb5-f170-4a44-b145-d703856f273c",
   "metadata": {
    "tags": []
   },
   "outputs": [],
   "source": [
    "PRISMArecalee_pan = np.zeros(pan.shape)"
   ]
  },
  {
   "cell_type": "code",
   "execution_count": null,
   "id": "b2a13524-8d3b-4c19-b1b1-88ae216424bc",
   "metadata": {
    "tags": []
   },
   "outputs": [],
   "source": [
    "PRISMArecalee_pan = wrapData(pan, u, v)"
   ]
  },
  {
   "cell_type": "code",
   "execution_count": null,
   "id": "3ea4d08b-c5d3-4109-b57c-e0b634b03ff0",
   "metadata": {
    "tags": []
   },
   "outputs": [],
   "source": [
    "kwargs_pan = {}\n",
    "kwargs_pan['driver'] = 'GTiff'\n",
    "kwargs_pan['dtype'] = 'float32'\n",
    "kwargs_pan['count'] = 1\n",
    "kwargs_pan['width'] = PRISMArecalee_pan.shape[1]\n",
    "kwargs_pan['height'] = PRISMArecalee_pan.shape[0]\n",
    "kwargs_pan['dtype'] = 'float32'\n",
    "kwargs_pan['crs'] = rio.crs.CRS.from_epsg(32632)\n",
    "kwargs_pan['transform'] = rio.transform.Affine(5, src.transform[1],src.transform[2], src.transform[3], -5, src.transform[5])"
   ]
  },
  {
   "cell_type": "code",
   "execution_count": null,
   "id": "c99b02dd-6ab2-43df-9ddf-0d025785210c",
   "metadata": {
    "tags": []
   },
   "outputs": [],
   "source": [
    "# Create a new raster file RGBN\n",
    "with rio.open('PRISMA_outputs/coregistered/PR_pan_'+sel_prisma_date.replace('-', '')+'_5m.tif', 'w', **kwargs_pan) as pan_dst:\n",
    "    # Write the RGB data to the raster file\n",
    "    pan_dst.write(PRISMArecalee_pan.astype(rio.float32), 1)"
   ]
  },
  {
   "cell_type": "code",
   "execution_count": null,
   "id": "646467b2-b8d3-4544-bca0-a73b63099c01",
   "metadata": {
    "tags": []
   },
   "outputs": [],
   "source": [
    "# Open the TIFF file in read mode\n",
    "plt.figure(figsize = (15,15))\n",
    "with rio.open('PRISMA_outputs/coregistered/PR_pan_'+sel_prisma_date.replace('-', '')+'_5m.tif') as pan_src:\n",
    "    pan_data = pan_src.read()\n",
    "    # Plot the image\n",
    "    plt.imshow(pan_data.transpose(1, 2, 0))\n",
    "    plt.show()"
   ]
  },
  {
   "cell_type": "code",
   "execution_count": null,
   "id": "3355d843-8fea-4b7b-86c2-33afdc51ecb9",
   "metadata": {
    "tags": []
   },
   "outputs": [],
   "source": [
    "# Open the two tif files\n",
    "with rio.open(s2_5_path) as src1, rio.open('PRISMA_outputs/PR_pan_'+sel_prisma_date.replace('-', '')+'_NotCor_5m.tif') as src2:\n",
    "    # Read the data from the two files\n",
    "    data = src2.read(1)\n",
    "    data2 = (data - np.min(data)) / (np.max(data) - np.min(data))\n",
    "    data = src1.read(indexes=[3])\n",
    "    data1 = (data - np.min(data)) / (np.max(data) - np.min(data))\n",
    "    C = np.dstack((data1.squeeze()[:pan.shape[0], :pan.shape[1]], data2, data1.squeeze()[:pan.shape[0], :pan.shape[1]]))\n",
    "    pl.figure(figsize=(25,25))\n",
    "    pl.imshow(C)\n",
    "    plt.xlim([3000, 4000])\n",
    "    plt.ylim([3000, 4000])\n",
    "    pl.quiver(X_subset, Y_subset, u_subset, v_subset, uv_length, cmap='jet', clim=(0, 6),  linewidths=widths, headwidth=2, headlength=4, alpha=0.5)\n",
    "    pl.title('Before Sentinel-2 - PRISMA Coregistration')"
   ]
  },
  {
   "cell_type": "code",
   "execution_count": null,
   "id": "e8b1ca0a-75cd-4ae3-9d62-0c14060a04f8",
   "metadata": {
    "tags": []
   },
   "outputs": [],
   "source": [
    "s2_5_path"
   ]
  },
  {
   "cell_type": "code",
   "execution_count": null,
   "id": "672bc04e-6258-4ee3-8c4b-117db478687a",
   "metadata": {
    "tags": []
   },
   "outputs": [],
   "source": [
    "# Open the two tif files\n",
    "with rio.open(s2_5_path) as src1, rio.open('PRISMA_outputs/coregistered/PR_pan_'+sel_prisma_date.replace('-', '')+'_5m.tif') as src2:\n",
    "    # Read the data from the two files\n",
    "    data = src2.read(1)\n",
    "    data2 = (data - np.min(data)) / (np.max(data) - np.min(data))\n",
    "    data = src1.read(indexes=[3])\n",
    "    data1 = (data - np.min(data)) / (np.max(data) - np.min(data))\n",
    "    C = np.dstack((data1.squeeze()[:pan.shape[0], :pan.shape[1]], data2, data1.squeeze()[:pan.shape[0], :pan.shape[1]]))\n",
    "    pl.figure(figsize=(25,25))\n",
    "    pl.imshow(C)\n",
    "    plt.xlim([3000, 4000])\n",
    "    plt.ylim([3000, 4000])\n",
    "    pl.title('After Sentinel-2 - PRISMA Coregistration')"
   ]
  },
  {
   "cell_type": "code",
   "execution_count": null,
   "id": "eebf4ebe-894b-4c4d-ae7f-0676e9600f14",
   "metadata": {
    "tags": []
   },
   "outputs": [],
   "source": [
    "with rio.open(s2_5_path) as src1, rio.open('PRISMA_outputs/PR_pan_'+sel_prisma_date.replace('-', '')+'_NotCor_5m.tif') as src2:\n",
    "    data1 = src1.read(indexes=[1])\n",
    "    data2 = src2.read(1)\n",
    "    edges1 = feature.canny(data1.squeeze())\n",
    "    edges2 = feature.canny(data2.squeeze())\n",
    "\n",
    "    # display results\n",
    "    fig, ax = plt.subplots(nrows=1, ncols=1, figsize=(10, 10))\n",
    "    ax.imshow(data1.transpose(1, 2, 0), cmap='binary')  # multiplied to adjust brightness\n",
    "    cmap1 = plt.cm.Reds\n",
    "    cmap2 = plt.cm.Blues\n",
    "    im1 = ax.imshow(edges1, cmap=cmap1, alpha=1)\n",
    "    im2 = ax.imshow(edges2, cmap=cmap2, alpha=0.7)\n",
    "    plt.xlim([3000, 4000])\n",
    "    plt.ylim([3000, 4000])\n",
    "    ax.set_title('Canny Edge Detector - Before Sentinel-2 - PRISMA Coregistration', fontsize=12)\n",
    "    \n",
    "    plt.show()"
   ]
  },
  {
   "cell_type": "code",
   "execution_count": null,
   "id": "d785ef11-8d7c-407e-879f-06ab669427b2",
   "metadata": {
    "tags": []
   },
   "outputs": [],
   "source": [
    "with rio.open(s2_5_path) as src1, rio.open('PRISMA_outputs/coregistered/PR_pan_'+sel_prisma_date.replace('-', '')+'_5m.tif') as src2:\n",
    "    data1 = src1.read(indexes=[3])  #red 3\n",
    "    data2 = src2.read(1)\n",
    "    edges1 = feature.canny(data1.squeeze(), sigma=1)\n",
    "    edges2 = feature.canny(data2.squeeze(), sigma=0.7)\n",
    "\n",
    "    # display results\n",
    "    fig, ax = plt.subplots(nrows=1, ncols=1, figsize=(10, 10))\n",
    "    ax.imshow(data1.transpose(1, 2, 0), cmap='binary')  # multiplied to adjust brightness\n",
    "    cmap1 = plt.cm.Reds\n",
    "    cmap2 = plt.cm.Blues\n",
    "    im1 = ax.imshow(edges1, cmap=cmap1, alpha=1)\n",
    "    im2 = ax.imshow(edges2, cmap=cmap2, alpha=0.7)\n",
    "    plt.xlim([3000, 4000])\n",
    "    plt.ylim([3000, 4000])\n",
    "    ax.set_title('Canny Edge Detector - After Sentinel-2 - PRISMA Coregistration', fontsize=12)\n",
    "    \n",
    "    plt.show()"
   ]
  },
  {
   "cell_type": "markdown",
   "id": "faee6677-c24f-4ad1-b8ce-06ad2e75ebd9",
   "metadata": {},
   "source": [
    "### Clip PRISMA Imagery over the study area"
   ]
  },
  {
   "cell_type": "code",
   "execution_count": null,
   "id": "342cff15-4a08-4ef2-97b6-0d9185ad6397",
   "metadata": {},
   "outputs": [],
   "source": [
    "import geopandas as gpd\n",
    "from rasterio.mask import mask\n",
    "\n",
    "# Load the GeoPackage vector file\n",
    "study_area_path = \"study_area/study_area.gpkg\"\n",
    "study_area = gpd.read_file(study_area_path)"
   ]
  },
  {
   "cell_type": "markdown",
   "id": "5475034a-ac5b-4c6e-9151-8f94dc97b39e",
   "metadata": {},
   "source": [
    "### For all bands"
   ]
  },
  {
   "cell_type": "code",
   "execution_count": null,
   "id": "0f05678c-69b3-4bd8-ae9f-0f7bc76d3af8",
   "metadata": {
    "tags": []
   },
   "outputs": [],
   "source": [
    "# Define the paths to the GeoTIFF and Geopackage files\n",
    "input_geotiff = 'PRISMA_outputs/coregistered/PR_'+ sel_prisma_date.replace('-', '') + '_30m.tif'\n",
    "output_geotiff = 'PRISMA_outputs/coregistered/PR_'+ sel_prisma_date.replace('-', '') + '_30m.tif'"
   ]
  },
  {
   "cell_type": "code",
   "execution_count": null,
   "id": "9626030d-dbe5-46b9-b5b1-e62937da1678",
   "metadata": {
    "tags": []
   },
   "outputs": [],
   "source": [
    "clip_image_study_area(input_geotiff, output_geotiff, study_area)"
   ]
  },
  {
   "cell_type": "markdown",
   "id": "133863a6-ae83-4333-aff8-a767bf21be7d",
   "metadata": {},
   "source": [
    "### For RGBN bands"
   ]
  },
  {
   "cell_type": "code",
   "execution_count": null,
   "id": "3dc75dc9-ed9e-4c20-b6da-0d3dda79d188",
   "metadata": {
    "tags": []
   },
   "outputs": [],
   "source": [
    "# Define the paths to the GeoTIFF and Geopackage files\n",
    "input_geotiff_rgbn = 'PRISMA_outputs/coregistered/PR_rgbn_'+ sel_prisma_date.replace('-', '') + '_30m.tif'\n",
    "output_geotiff_rgbn = 'PRISMA_outputs/coregistered/PR_rgbn_'+ sel_prisma_date.replace('-', '') + '_30m.tif'"
   ]
  },
  {
   "cell_type": "code",
   "execution_count": null,
   "id": "580a8276-78ad-4578-9481-3f3599d6c7f2",
   "metadata": {
    "tags": []
   },
   "outputs": [],
   "source": [
    "clip_image_study_area(input_geotiff_rgbn, output_geotiff_rgbn, study_area)"
   ]
  },
  {
   "cell_type": "markdown",
   "id": "67a254e1-0ea5-42c4-95bd-33567c1bd64d",
   "metadata": {},
   "source": [
    "### For VNIR bands"
   ]
  },
  {
   "cell_type": "code",
   "execution_count": null,
   "id": "5ed680e8-6599-4951-8b9e-0b28fd3697b9",
   "metadata": {
    "tags": []
   },
   "outputs": [],
   "source": [
    "# Define the paths to the GeoTIFF and Geopackage files\n",
    "input_geotiff_rgbn = 'PRISMA_outputs/coregistered/PR_VNIR_'+ sel_prisma_date.replace('-', '') + '_30m.tif'\n",
    "output_geotiff_rgbn = 'PRISMA_outputs/coregistered/PR_VNIR_'+ sel_prisma_date.replace('-', '') + '_30m.tif'"
   ]
  },
  {
   "cell_type": "code",
   "execution_count": null,
   "id": "4d01d32f-d6aa-4f2d-95ab-369e1516a384",
   "metadata": {
    "tags": []
   },
   "outputs": [],
   "source": [
    "clip_image_study_area(input_geotiff_rgbn, output_geotiff_rgbn, study_area)"
   ]
  },
  {
   "cell_type": "markdown",
   "id": "89b1ee1c-bc93-4ba3-a526-91395af5ffed",
   "metadata": {},
   "source": [
    "### For Pan band"
   ]
  },
  {
   "cell_type": "code",
   "execution_count": null,
   "id": "e1c76812-cffe-4957-8011-ca05875a72e1",
   "metadata": {
    "tags": []
   },
   "outputs": [],
   "source": [
    "# Define the paths to the GeoTIFF and Geopackage files\n",
    "input_geotiff_pan = 'PRISMA_outputs/coregistered/PR_pan_'+sel_prisma_date.replace('-', '')+'_5m.tif'\n",
    "output_geotiff_pan = 'PRISMA_outputs/coregistered/PR_pan_'+sel_prisma_date.replace('-', '')+'_5m.tif'"
   ]
  },
  {
   "cell_type": "code",
   "execution_count": null,
   "id": "946a7715-f9d5-4179-ab6f-50d2d694a6ff",
   "metadata": {
    "tags": []
   },
   "outputs": [],
   "source": [
    "clip_image_study_area(input_geotiff_pan, output_geotiff_pan, study_area)"
   ]
  },
  {
   "cell_type": "code",
   "execution_count": null,
   "id": "338e31d6-6854-4145-a4a5-b4467ccc53e6",
   "metadata": {},
   "outputs": [],
   "source": []
  }
 ],
 "metadata": {
  "kernelspec": {
   "display_name": "Python 3 (ipykernel)",
   "language": "python",
   "name": "python3"
  },
  "language_info": {
   "codemirror_mode": {
    "name": "ipython",
    "version": 3
   },
   "file_extension": ".py",
   "mimetype": "text/x-python",
   "name": "python",
   "nbconvert_exporter": "python",
   "pygments_lexer": "ipython3",
   "version": "3.10.10"
  }
 },
 "nbformat": 4,
 "nbformat_minor": 5
}
